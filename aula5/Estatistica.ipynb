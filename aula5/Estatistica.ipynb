{
 "cells": [
  {
   "cell_type": "markdown",
   "metadata": {
    "slideshow": {
     "slide_type": "slide"
    }
   },
   "source": [
    "# Noções de Estatística\n",
    "\n",
    "Renato Naville Watanabe"
   ]
  },
  {
   "cell_type": "markdown",
   "metadata": {
    "slideshow": {
     "slide_type": "slide"
    }
   },
   "source": [
    "## Estatística\n",
    "\n",
    "A análise estatística pode ser dividida em duas áreas:\n",
    "\n",
    "- 1) **Estatística descritiva**: Esta interessada na redução, análise e\n",
    "interpretação dos dados. Pode incluir a construção de gráficos,\n",
    "tabelas, e computação de várias medidas:medidas de tendência\n",
    "central (ex. a média), de dispersão (ex. a variância), de\n",
    "frequência (ex. percentagem), etc.\n",
    "    + Gráfico com a distribuição da idade dos ingressantes nos bacharelados interdisciplinares da UFABC. "
   ]
  },
  {
   "cell_type": "markdown",
   "metadata": {
    "slideshow": {
     "slide_type": "fragment"
    }
   },
   "source": [
    "- 2) **Estatística indutiva / inferencial**: Voltada a realizar\n",
    "estimativas a partir de uma amostra ou testar ideias teóricas\n",
    "(hipóteses) com dados experimentais.\n",
    "    + Estimativa da porcentagem da população que votará para um determinado candidato em uma eleição, junto com uma margem de erro (“intervalo de confiança”);\n",
    "    "
   ]
  },
  {
   "cell_type": "markdown",
   "metadata": {
    "slideshow": {
     "slide_type": "slide"
    }
   },
   "source": [
    "## Conceitos básicos\n",
    "\n",
    "- **População**: População pode ser definido como o conjunto de elementos que têm em comum uma determinada característica.\n",
    "    + indivíduos com dengue;\n",
    "    + aparelhos de televisão fabricados em uma fábrica;\n",
    "   "
   ]
  },
  {
   "cell_type": "markdown",
   "metadata": {
    "slideshow": {
     "slide_type": "fragment"
    }
   },
   "source": [
    "- **Amostra**: Uma amostra é um subgrupo de uma população, ou seja, é todo subconjunto com menor número de elementos que o conjunto definido como população."
   ]
  },
  {
   "cell_type": "markdown",
   "metadata": {
    "slideshow": {
     "slide_type": "fragment"
    }
   },
   "source": [
    "- **Variáveis**: É toda característica que, observada em uma unidade experimental, pode variar de um indivíduo para outro.\n",
    "    + Exemplos: gênero, cor da pele, altura, idade, salário, nível de hemoglobina no sangue.\n",
    "    + Podem ser divididas em: Qualitativas e Quantitativas"
   ]
  },
  {
   "cell_type": "markdown",
   "metadata": {
    "slideshow": {
     "slide_type": "slide"
    }
   },
   "source": [
    "### Tipos de variáveis\n",
    "\n",
    "- Qualitativas:\n",
    "    + **Nominal**: Uma categoria se diferencia da outra somente pela denominação que recebem. Ex.: gênero feminino ou masculino, estado civil, nacionalidade.\n",
    "    + **Ordinal**: É possível reconhecer graus de intensidade entre as categorias. Ex.: nível sócio-econômico (baixo, médio, alto), avaliação de um serviço (ruim, regular, bom)."
   ]
  },
  {
   "cell_type": "markdown",
   "metadata": {
    "slideshow": {
     "slide_type": "fragment"
    }
   },
   "source": [
    "- Quantitativas:\n",
    "    + **Discretas**: São aquelas em que os dados somente podem apresentar determinados valores, em geral, números inteiros.\n",
    "    Ex.: número de filhos, número de baixas hospitalares.\n",
    "    + **Contínuas**: Aquelas cujos dados somente podem apresentar qualquer valor dentro de um intervalo de variação possível. \n",
    "    Ex.: altura, peso, níveis de hemoglobina no sangue."
   ]
  },
  {
   "cell_type": "markdown",
   "metadata": {
    "slideshow": {
     "slide_type": "slide"
    }
   },
   "source": [
    "## Medidas estatísticas\n",
    "\n",
    "É conveniente dispor de medidas que informem sobre a amostra de maneira mais resumida do que os dados brutos são capazes de fazer. Dão uma visão global dos dados, podendo ser:\n",
    "\n",
    "- **Tendência central**: São aquelas que produzem um valor em torno do qual os dados observados se distribuem, e que visam sintetizar em um único número o conjunto de dados.\n",
    "    Ex: Média aritmética, Mediana e Moda.\n",
    "- **Dispersão**: É a variabilidade que os dados apresentam entre si.\n",
    "    Ex: Variância e Desvio-padrão."
   ]
  },
  {
   "cell_type": "markdown",
   "metadata": {
    "slideshow": {
     "slide_type": "slide"
    }
   },
   "source": [
    "## Medidas de tendência central"
   ]
  },
  {
   "cell_type": "markdown",
   "metadata": {
    "slideshow": {
     "slide_type": "fragment"
    }
   },
   "source": [
    "### Média\n",
    "\n",
    "É a medida de tendência central mais conhecida e usada. É definida com a somatória de todas as amostras e a divisão pelo número de elementos. Normalmente é representada pela letra grega $\\mu$ ou ccom uma barra em cima do nome da variável ($\\bar{x}$).\n",
    "\n",
    "$$\\mu_x = \\frac{x[0]+x[1]+x[2]+...+x[N-1]}{N} = \\frac{\\displaystyle\\sum_{i = 0}^{N-1}x[i]}{N}$$"
   ]
  },
  {
   "cell_type": "code",
   "execution_count": 1,
   "metadata": {
    "slideshow": {
     "slide_type": "slide"
    }
   },
   "outputs": [
    {
     "name": "stdout",
     "output_type": "stream",
     "text": [
      "3.957142857142857\n"
     ]
    }
   ],
   "source": [
    "import numpy as np\n",
    "\n",
    "x = np.array([1.2, 1.7, -0.6, 9, 5.3, 9.2, 1.9])\n",
    "mediaX = np.mean(x)\n",
    "print(mediaX)"
   ]
  },
  {
   "cell_type": "markdown",
   "metadata": {
    "slideshow": {
     "slide_type": "slide"
    }
   },
   "source": [
    "É possível calcular a média e uma coluna de um DataFrame do Pandas."
   ]
  },
  {
   "cell_type": "code",
   "execution_count": 2,
   "metadata": {
    "slideshow": {
     "slide_type": "fragment"
    }
   },
   "outputs": [
    {
     "data": {
      "text/html": [
       "<div>\n",
       "<style scoped>\n",
       "    .dataframe tbody tr th:only-of-type {\n",
       "        vertical-align: middle;\n",
       "    }\n",
       "\n",
       "    .dataframe tbody tr th {\n",
       "        vertical-align: top;\n",
       "    }\n",
       "\n",
       "    .dataframe thead th {\n",
       "        text-align: right;\n",
       "    }\n",
       "</style>\n",
       "<table border=\"1\" class=\"dataframe\">\n",
       "  <thead>\n",
       "    <tr style=\"text-align: right;\">\n",
       "      <th></th>\n",
       "      <th>Produto</th>\n",
       "      <th>Fabricante</th>\n",
       "      <th>Qtd</th>\n",
       "      <th>Medida</th>\n",
       "      <th>Preço</th>\n",
       "      <th>Supermercado</th>\n",
       "      <th>Data</th>\n",
       "    </tr>\n",
       "  </thead>\n",
       "  <tbody>\n",
       "    <tr>\n",
       "      <th>0</th>\n",
       "      <td>Suco</td>\n",
       "      <td>ValeSuco</td>\n",
       "      <td>1</td>\n",
       "      <td>l</td>\n",
       "      <td>3.00</td>\n",
       "      <td>Arpoador</td>\n",
       "      <td>12/05/2011</td>\n",
       "    </tr>\n",
       "    <tr>\n",
       "      <th>1</th>\n",
       "      <td>Suco</td>\n",
       "      <td>Flash</td>\n",
       "      <td>1</td>\n",
       "      <td>l</td>\n",
       "      <td>4.50</td>\n",
       "      <td>Arpoador</td>\n",
       "      <td>18/05/2011</td>\n",
       "    </tr>\n",
       "    <tr>\n",
       "      <th>2</th>\n",
       "      <td>Tomate</td>\n",
       "      <td>-</td>\n",
       "      <td>1</td>\n",
       "      <td>kg</td>\n",
       "      <td>3.50</td>\n",
       "      <td>Noite</td>\n",
       "      <td>14/05/2011</td>\n",
       "    </tr>\n",
       "    <tr>\n",
       "      <th>3</th>\n",
       "      <td>Arroz</td>\n",
       "      <td>Tio José</td>\n",
       "      <td>4</td>\n",
       "      <td>kg</td>\n",
       "      <td>8.64</td>\n",
       "      <td>Noite</td>\n",
       "      <td>14/05/2011</td>\n",
       "    </tr>\n",
       "    <tr>\n",
       "      <th>4</th>\n",
       "      <td>Arroz</td>\n",
       "      <td>Sem Broto</td>\n",
       "      <td>5</td>\n",
       "      <td>kg</td>\n",
       "      <td>9.99</td>\n",
       "      <td>Arpoador</td>\n",
       "      <td>10/06/2011</td>\n",
       "    </tr>\n",
       "  </tbody>\n",
       "</table>\n",
       "</div>"
      ],
      "text/plain": [
       "  Produto Fabricante  Qtd Medida  Preço Supermercado        Data\n",
       "0    Suco   ValeSuco    1      l   3.00     Arpoador  12/05/2011\n",
       "1    Suco      Flash    1      l   4.50     Arpoador  18/05/2011\n",
       "2  Tomate         -     1     kg   3.50        Noite  14/05/2011\n",
       "3   Arroz   Tio José    4     kg   8.64        Noite  14/05/2011\n",
       "4   Arroz  Sem Broto    5     kg   9.99     Arpoador  10/06/2011"
      ]
     },
     "execution_count": 2,
     "metadata": {},
     "output_type": "execute_result"
    }
   ],
   "source": [
    "import pandas as pd\n",
    "\n",
    "compras = pd.read_csv('https://raw.githubusercontent.com/rnwatanabe/BasesComputacionais2021/main/dados/compras.csv')\n",
    "compras.head()"
   ]
  },
  {
   "cell_type": "markdown",
   "metadata": {
    "slideshow": {
     "slide_type": "fragment"
    }
   },
   "source": [
    "Isso é feito acrescentando '.mean()' após o nome da coluna. Por exemplo, para calcular a média da coluna 'Preços':"
   ]
  },
  {
   "cell_type": "code",
   "execution_count": 3,
   "metadata": {
    "slideshow": {
     "slide_type": "fragment"
    }
   },
   "outputs": [
    {
     "name": "stdout",
     "output_type": "stream",
     "text": [
      "4.294545454545455\n"
     ]
    }
   ],
   "source": [
    "mediaPreco = compras['Preço'].mean()\n",
    "print(mediaPreco)"
   ]
  },
  {
   "cell_type": "markdown",
   "metadata": {
    "slideshow": {
     "slide_type": "slide"
    }
   },
   "source": [
    "Outro exemplo, para calcular a média da coluna 'Preço' quando a coluna 'Produto' é 'Arroz'."
   ]
  },
  {
   "cell_type": "code",
   "execution_count": 4,
   "metadata": {
    "slideshow": {
     "slide_type": "fragment"
    }
   },
   "outputs": [
    {
     "name": "stdout",
     "output_type": "stream",
     "text": [
      "6.873333333333334\n"
     ]
    }
   ],
   "source": [
    "mediaPrecoArroz = compras[compras['Produto']=='Arroz']['Preço'].mean()\n",
    "print(mediaPrecoArroz)"
   ]
  },
  {
   "cell_type": "markdown",
   "metadata": {
    "slideshow": {
     "slide_type": "slide"
    }
   },
   "source": [
    "Também é possível calcular a média do conteúdo de uma coluna dividida por algum critério, por exemplo outra coluna, usando a função groupby. Por exemplo, a instrução abaixo calcula a média da coluna *Preço* para cada *Fabricante*."
   ]
  },
  {
   "cell_type": "code",
   "execution_count": 5,
   "metadata": {
    "slideshow": {
     "slide_type": "fragment"
    }
   },
   "outputs": [
    {
     "name": "stdout",
     "output_type": "stream",
     "text": [
      "Fabricante\n",
      " -           3.245\n",
      "A Granja     3.190\n",
      "Caseiro      1.450\n",
      "Da TV        1.990\n",
      "Flash        4.245\n",
      "Sem Broto    6.995\n",
      "Tio José     8.640\n",
      "ValeSuco     3.000\n",
      "Name: Preço, dtype: float64\n"
     ]
    }
   ],
   "source": [
    "preco_fabricante = compras.groupby('Fabricante')['Preço'].mean()\n",
    "print(preco_fabricante)"
   ]
  },
  {
   "cell_type": "markdown",
   "metadata": {
    "slideshow": {
     "slide_type": "slide"
    }
   },
   "source": [
    "### Mediana\n",
    "\n",
    "É definida como o valor que divide as amostras na metade. É necessário que as amostras estejam ordenadas.\n",
    "\n",
    "Por exemplo, no caso do vetor abaixo:"
   ]
  },
  {
   "cell_type": "code",
   "execution_count": 6,
   "metadata": {
    "slideshow": {
     "slide_type": "fragment"
    }
   },
   "outputs": [
    {
     "name": "stdout",
     "output_type": "stream",
     "text": [
      "[ 1.2  1.7 -0.6  9.   5.3  9.2  1.9]\n"
     ]
    }
   ],
   "source": [
    "import numpy as np\n",
    "\n",
    "x = np.array([1.2, 1.7, -0.6, 9, 5.3, 9.2, 1.9])\n",
    "print(x)"
   ]
  },
  {
   "cell_type": "markdown",
   "metadata": {
    "slideshow": {
     "slide_type": "fragment"
    }
   },
   "source": [
    "Ordenando: "
   ]
  },
  {
   "cell_type": "code",
   "execution_count": 7,
   "metadata": {
    "slideshow": {
     "slide_type": "fragment"
    }
   },
   "outputs": [
    {
     "name": "stdout",
     "output_type": "stream",
     "text": [
      "[-0.6  1.2  1.7  1.9  5.3  9.   9.2]\n"
     ]
    }
   ],
   "source": [
    "print(np.sort(x))"
   ]
  },
  {
   "cell_type": "markdown",
   "metadata": {
    "slideshow": {
     "slide_type": "fragment"
    }
   },
   "source": [
    "O número que divide as amostras em dois é o 1.9 (três elementos à esquerda e três elementos à direita).\n",
    "\n",
    "Isso é possível fazer com o comando 'np.median()'. Ao usar o comando np.median"
   ]
  },
  {
   "cell_type": "code",
   "execution_count": 8,
   "metadata": {
    "slideshow": {
     "slide_type": "fragment"
    }
   },
   "outputs": [
    {
     "name": "stdout",
     "output_type": "stream",
     "text": [
      "1.9\n"
     ]
    }
   ],
   "source": [
    "medianaX = np.median(x)\n",
    "\n",
    "print(medianaX)"
   ]
  },
  {
   "cell_type": "markdown",
   "metadata": {
    "slideshow": {
     "slide_type": "slide"
    }
   },
   "source": [
    "Se o número de amostras for par, a mediana é a média dos dois elementos centrais."
   ]
  },
  {
   "cell_type": "code",
   "execution_count": 9,
   "metadata": {
    "slideshow": {
     "slide_type": "fragment"
    }
   },
   "outputs": [
    {
     "name": "stdout",
     "output_type": "stream",
     "text": [
      "[-3.2 -0.6  1.2  1.7  1.9  5.3  9.   9.2]\n"
     ]
    }
   ],
   "source": [
    "x = np.array([1.2, 1.7, -0.6, 9, 5.3,-3.2, 9.2, 1.9])\n",
    "\n",
    "print(np.sort(x))"
   ]
  },
  {
   "cell_type": "markdown",
   "metadata": {
    "slideshow": {
     "slide_type": "fragment"
    }
   },
   "source": [
    "A mediana será a média entre 1.7 e 1.9 (1.8)."
   ]
  },
  {
   "cell_type": "code",
   "execution_count": 10,
   "metadata": {
    "slideshow": {
     "slide_type": "fragment"
    }
   },
   "outputs": [
    {
     "name": "stdout",
     "output_type": "stream",
     "text": [
      "1.7999999999999998\n"
     ]
    }
   ],
   "source": [
    "medianaX = np.median(x)\n",
    "print(medianaX)"
   ]
  },
  {
   "cell_type": "markdown",
   "metadata": {
    "slideshow": {
     "slide_type": "slide"
    }
   },
   "source": [
    "É possível calcular a mediana de um DataFrame do Pandas. Abaixo é mostrado a tabela com todos os jogos do Campeonato Brasileiro de Futebol de 2018."
   ]
  },
  {
   "cell_type": "code",
   "execution_count": 11,
   "metadata": {
    "slideshow": {
     "slide_type": "fragment"
    }
   },
   "outputs": [
    {
     "data": {
      "text/html": [
       "<div>\n",
       "<style scoped>\n",
       "    .dataframe tbody tr th:only-of-type {\n",
       "        vertical-align: middle;\n",
       "    }\n",
       "\n",
       "    .dataframe tbody tr th {\n",
       "        vertical-align: top;\n",
       "    }\n",
       "\n",
       "    .dataframe thead th {\n",
       "        text-align: right;\n",
       "    }\n",
       "</style>\n",
       "<table border=\"1\" class=\"dataframe\">\n",
       "  <thead>\n",
       "    <tr style=\"text-align: right;\">\n",
       "      <th></th>\n",
       "      <th>Data</th>\n",
       "      <th>Turno</th>\n",
       "      <th>Mandante</th>\n",
       "      <th>Placar do Mandante</th>\n",
       "      <th>Placar do Visitante</th>\n",
       "      <th>Visitante</th>\n",
       "      <th>Estádio</th>\n",
       "      <th>Horário</th>\n",
       "      <th>Gols do Mandante</th>\n",
       "      <th>Gols do Visitante</th>\n",
       "      <th>Público</th>\n",
       "      <th>Árbitro</th>\n",
       "      <th>Renda (R$)</th>\n",
       "    </tr>\n",
       "  </thead>\n",
       "  <tbody>\n",
       "    <tr>\n",
       "      <th>0</th>\n",
       "      <td>14/04/2018</td>\n",
       "      <td>1</td>\n",
       "      <td>Cruzeiro</td>\n",
       "      <td>0</td>\n",
       "      <td>1</td>\n",
       "      <td>Grêmio</td>\n",
       "      <td>Estádio Mineirão, Belo Horizonte</td>\n",
       "      <td>16:00</td>\n",
       "      <td>NaN</td>\n",
       "      <td>54' André</td>\n",
       "      <td>15446</td>\n",
       "      <td>PR Rodolpho Toski Marques</td>\n",
       "      <td>418305.0</td>\n",
       "    </tr>\n",
       "    <tr>\n",
       "      <th>1</th>\n",
       "      <td>14/04/2018</td>\n",
       "      <td>1</td>\n",
       "      <td>Vitória</td>\n",
       "      <td>2</td>\n",
       "      <td>2</td>\n",
       "      <td>Flamengo</td>\n",
       "      <td>Estádio Barradão, Salvador</td>\n",
       "      <td>19:00</td>\n",
       "      <td>Yago 13' (pen) Denílson 76'</td>\n",
       "      <td>1' Lucas Paquetá 72' Réver</td>\n",
       "      <td>12669</td>\n",
       "      <td>MT Wagner Reway</td>\n",
       "      <td>238994.0</td>\n",
       "    </tr>\n",
       "    <tr>\n",
       "      <th>2</th>\n",
       "      <td>14/04/2018</td>\n",
       "      <td>1</td>\n",
       "      <td>Santos</td>\n",
       "      <td>2</td>\n",
       "      <td>0</td>\n",
       "      <td>Ceará</td>\n",
       "      <td>Estádio do Pacaembu, São Paulo</td>\n",
       "      <td>21:00</td>\n",
       "      <td>Pio 41' Rodrygo 49'</td>\n",
       "      <td>NaN</td>\n",
       "      <td>12268</td>\n",
       "      <td>SC Rodrigo D'Alonso Ferreira</td>\n",
       "      <td>526550.0</td>\n",
       "    </tr>\n",
       "    <tr>\n",
       "      <th>3</th>\n",
       "      <td>15/04/2018</td>\n",
       "      <td>1</td>\n",
       "      <td>América Mineiro</td>\n",
       "      <td>3</td>\n",
       "      <td>0</td>\n",
       "      <td>Sport</td>\n",
       "      <td>Estádio Independência, Belo Horizonte</td>\n",
       "      <td>11:00</td>\n",
       "      <td>Serginho 1', 40' Carlinhos 36'</td>\n",
       "      <td>NaN</td>\n",
       "      <td>3230</td>\n",
       "      <td>DF Sávio Pereira Sampaio</td>\n",
       "      <td>36293.0</td>\n",
       "    </tr>\n",
       "    <tr>\n",
       "      <th>4</th>\n",
       "      <td>15/04/2018</td>\n",
       "      <td>1</td>\n",
       "      <td>Internacional</td>\n",
       "      <td>2</td>\n",
       "      <td>0</td>\n",
       "      <td>Bahia</td>\n",
       "      <td>Estádio Beira-Rio, Porto Alegre</td>\n",
       "      <td>16:00</td>\n",
       "      <td>Nico López 37', 60'</td>\n",
       "      <td>NaN</td>\n",
       "      <td>18460</td>\n",
       "      <td>GO Eduardo Tomaz de Aquino Valadão</td>\n",
       "      <td>796275.0</td>\n",
       "    </tr>\n",
       "  </tbody>\n",
       "</table>\n",
       "</div>"
      ],
      "text/plain": [
       "         Data  Turno         Mandante  Placar do Mandante  \\\n",
       "0  14/04/2018      1         Cruzeiro                   0   \n",
       "1  14/04/2018      1          Vitória                   2   \n",
       "2  14/04/2018      1           Santos                   2   \n",
       "3  15/04/2018      1  América Mineiro                   3   \n",
       "4  15/04/2018      1    Internacional                   2   \n",
       "\n",
       "   Placar do Visitante Visitante                                Estádio  \\\n",
       "0                    1    Grêmio       Estádio Mineirão, Belo Horizonte   \n",
       "1                    2  Flamengo             Estádio Barradão, Salvador   \n",
       "2                    0     Ceará         Estádio do Pacaembu, São Paulo   \n",
       "3                    0     Sport  Estádio Independência, Belo Horizonte   \n",
       "4                    0     Bahia        Estádio Beira-Rio, Porto Alegre   \n",
       "\n",
       "  Horário                Gols do Mandante           Gols do Visitante  \\\n",
       "0   16:00                             NaN                   54' André   \n",
       "1   19:00     Yago 13' (pen) Denílson 76'  1' Lucas Paquetá 72' Réver   \n",
       "2   21:00             Pio 41' Rodrygo 49'                         NaN   \n",
       "3   11:00  Serginho 1', 40' Carlinhos 36'                         NaN   \n",
       "4   16:00             Nico López 37', 60'                         NaN   \n",
       "\n",
       "   Público                              Árbitro  Renda (R$)  \n",
       "0    15446            PR Rodolpho Toski Marques    418305.0  \n",
       "1    12669                      MT Wagner Reway    238994.0  \n",
       "2    12268         SC Rodrigo D'Alonso Ferreira    526550.0  \n",
       "3     3230             DF Sávio Pereira Sampaio     36293.0  \n",
       "4    18460   GO Eduardo Tomaz de Aquino Valadão    796275.0  "
      ]
     },
     "execution_count": 11,
     "metadata": {},
     "output_type": "execute_result"
    }
   ],
   "source": [
    "import pandas as pd\n",
    "tabela = pd.read_csv('https://raw.githubusercontent.com/rnwatanabe/BasesComputacionais2021/main/dados/tabelaBrasileirao2018.csv')\n",
    "tabela.head()"
   ]
  },
  {
   "cell_type": "markdown",
   "metadata": {
    "slideshow": {
     "slide_type": "slide"
    }
   },
   "source": [
    "Para calcular a mediana de uma coluna, basta acrescentar '.median()' após a chamada da coluna. Por exemplo, para calcular a mediana da coluna 'Preços':"
   ]
  },
  {
   "cell_type": "code",
   "execution_count": 12,
   "metadata": {
    "slideshow": {
     "slide_type": "fragment"
    }
   },
   "outputs": [
    {
     "name": "stdout",
     "output_type": "stream",
     "text": [
      "14689.5\n"
     ]
    }
   ],
   "source": [
    "medianaPublico = tabela['Público'].median()\n",
    "print(medianaPublico)"
   ]
  },
  {
   "cell_type": "markdown",
   "metadata": {
    "slideshow": {
     "slide_type": "slide"
    }
   },
   "source": [
    "Um outro exemplo, para calcular a mediana da coluna 'Público' nos itens em que a coluna 'Mandante' seja 'Corinthians':"
   ]
  },
  {
   "cell_type": "code",
   "execution_count": 13,
   "metadata": {
    "slideshow": {
     "slide_type": "fragment"
    }
   },
   "outputs": [
    {
     "name": "stdout",
     "output_type": "stream",
     "text": [
      "29371.0\n"
     ]
    }
   ],
   "source": [
    "medianaPublicoCorinthians = tabela[tabela['Mandante']=='Corinthians']['Público'].median()\n",
    "print(medianaPublicoCorinthians)"
   ]
  },
  {
   "cell_type": "markdown",
   "metadata": {
    "slideshow": {
     "slide_type": "slide"
    }
   },
   "source": [
    "Também é possível calcular a mediana do conteúdo de uma coluna dividida por algum critério, por exemplo outra coluna, usando a função groupby. Por exemplo, a instrução abaixo calcula a mediana da coluna *Público* para cada time *Mandante*."
   ]
  },
  {
   "cell_type": "code",
   "execution_count": 14,
   "metadata": {
    "slideshow": {
     "slide_type": "fragment"
    }
   },
   "outputs": [
    {
     "data": {
      "text/plain": [
       "Mandante\n",
       "América Mineiro         4062\n",
       "Atlético Mineiro       18688\n",
       "Atlético Paranaense     9204\n",
       "Bahia                  17448\n",
       "Botafogo                8498\n",
       "Ceará                  29186\n",
       "Chapecoense             8075\n",
       "Corinthians            29371\n",
       "Cruzeiro               13160\n",
       "Flamengo               48894\n",
       "Fluminense             10031\n",
       "Grêmio                 19865\n",
       "Internacional          27535\n",
       "Palmeiras              32841\n",
       "Paraná                  4504\n",
       "Santos                 10792\n",
       "Sport                  11699\n",
       "São Paulo              32612\n",
       "Vasco da Gama          10571\n",
       "Vitória                 8371\n",
       "Name: Público, dtype: int64"
      ]
     },
     "execution_count": 14,
     "metadata": {},
     "output_type": "execute_result"
    }
   ],
   "source": [
    "tabela.groupby('Mandante')['Público'].median()"
   ]
  },
  {
   "cell_type": "markdown",
   "metadata": {
    "slideshow": {
     "slide_type": "slide"
    }
   },
   "source": [
    "### Moda\n",
    "\n",
    "É o elemento mais comum entre as amostras. É a única medida de tendência central que pode ser usada em variáveis qualitativas."
   ]
  },
  {
   "cell_type": "markdown",
   "metadata": {
    "slideshow": {
     "slide_type": "slide"
    }
   },
   "source": [
    "No Pandas, existe o comando 'mode()'. Por exemplo, para saber qual o árbitro que mais apitou no Campeonato Brasilero de Futebol de 2018:"
   ]
  },
  {
   "cell_type": "code",
   "execution_count": 15,
   "metadata": {
    "slideshow": {
     "slide_type": "fragment"
    }
   },
   "outputs": [
    {
     "data": {
      "text/plain": [
       "0     SP Raphael Claus\n",
       "dtype: object"
      ]
     },
     "execution_count": 15,
     "metadata": {},
     "output_type": "execute_result"
    }
   ],
   "source": [
    "tabela = pd.read_csv('https://raw.githubusercontent.com/rnwatanabe/BasesComputacionais2021/main/dados/tabelaBrasileirao2018.csv')\n",
    "tabela['Árbitro'].mode()"
   ]
  },
  {
   "cell_type": "markdown",
   "metadata": {
    "slideshow": {
     "slide_type": "slide"
    }
   },
   "source": [
    "Um outro exemplo mais complexo. Na tabela abaixo estão as visualizações de um usuário do Netflix, com as datas. O objetivo é saber qual o mês que mais se viu no Netflix."
   ]
  },
  {
   "cell_type": "code",
   "execution_count": 16,
   "metadata": {
    "slideshow": {
     "slide_type": "fragment"
    }
   },
   "outputs": [
    {
     "data": {
      "text/html": [
       "<div>\n",
       "<style scoped>\n",
       "    .dataframe tbody tr th:only-of-type {\n",
       "        vertical-align: middle;\n",
       "    }\n",
       "\n",
       "    .dataframe tbody tr th {\n",
       "        vertical-align: top;\n",
       "    }\n",
       "\n",
       "    .dataframe thead th {\n",
       "        text-align: right;\n",
       "    }\n",
       "</style>\n",
       "<table border=\"1\" class=\"dataframe\">\n",
       "  <thead>\n",
       "    <tr style=\"text-align: right;\">\n",
       "      <th></th>\n",
       "      <th>Title</th>\n",
       "      <th>Date</th>\n",
       "    </tr>\n",
       "  </thead>\n",
       "  <tbody>\n",
       "    <tr>\n",
       "      <th>0</th>\n",
       "      <td>The Crown: Temporada 4: O teste de Balmoral</td>\n",
       "      <td>06/03/2021</td>\n",
       "    </tr>\n",
       "    <tr>\n",
       "      <th>1</th>\n",
       "      <td>The Crown: Temporada 4: Guarda-costas</td>\n",
       "      <td>05/03/2021</td>\n",
       "    </tr>\n",
       "    <tr>\n",
       "      <th>2</th>\n",
       "      <td>A Guerra dos Samurais: Temporada 1: A ascensão...</td>\n",
       "      <td>02/03/2021</td>\n",
       "    </tr>\n",
       "    <tr>\n",
       "      <th>3</th>\n",
       "      <td>Professor Polvo</td>\n",
       "      <td>27/02/2021</td>\n",
       "    </tr>\n",
       "    <tr>\n",
       "      <th>4</th>\n",
       "      <td>Star Trek: Discovery: Temporada 3: Minha Esper...</td>\n",
       "      <td>23/01/2021</td>\n",
       "    </tr>\n",
       "    <tr>\n",
       "      <th>...</th>\n",
       "      <td>...</td>\n",
       "      <td>...</td>\n",
       "    </tr>\n",
       "    <tr>\n",
       "      <th>869</th>\n",
       "      <td>Os miseráveis</td>\n",
       "      <td>06/07/2013</td>\n",
       "    </tr>\n",
       "    <tr>\n",
       "      <th>870</th>\n",
       "      <td>Além da imaginação (Série original): Temporada...</td>\n",
       "      <td>06/07/2013</td>\n",
       "    </tr>\n",
       "    <tr>\n",
       "      <th>871</th>\n",
       "      <td>Além da imaginação (Série original): Temporada...</td>\n",
       "      <td>05/07/2013</td>\n",
       "    </tr>\n",
       "    <tr>\n",
       "      <th>872</th>\n",
       "      <td>Jogos Vorazes</td>\n",
       "      <td>04/07/2013</td>\n",
       "    </tr>\n",
       "    <tr>\n",
       "      <th>873</th>\n",
       "      <td>Arquivo X: Temporada 1: Episódio 1</td>\n",
       "      <td>04/07/2013</td>\n",
       "    </tr>\n",
       "  </tbody>\n",
       "</table>\n",
       "<p>874 rows × 2 columns</p>\n",
       "</div>"
      ],
      "text/plain": [
       "                                                 Title        Date\n",
       "0          The Crown: Temporada 4: O teste de Balmoral  06/03/2021\n",
       "1                The Crown: Temporada 4: Guarda-costas  05/03/2021\n",
       "2    A Guerra dos Samurais: Temporada 1: A ascensão...  02/03/2021\n",
       "3                                      Professor Polvo  27/02/2021\n",
       "4    Star Trek: Discovery: Temporada 3: Minha Esper...  23/01/2021\n",
       "..                                                 ...         ...\n",
       "869                                      Os miseráveis  06/07/2013\n",
       "870  Além da imaginação (Série original): Temporada...  06/07/2013\n",
       "871  Além da imaginação (Série original): Temporada...  05/07/2013\n",
       "872                                      Jogos Vorazes  04/07/2013\n",
       "873                 Arquivo X: Temporada 1: Episódio 1  04/07/2013\n",
       "\n",
       "[874 rows x 2 columns]"
      ]
     },
     "execution_count": 16,
     "metadata": {},
     "output_type": "execute_result"
    }
   ],
   "source": [
    "netflix = pd.read_csv('https://raw.githubusercontent.com/rnwatanabe/BasesComputacionais2021/main/dados/netflix.csv')\n",
    "netflix"
   ]
  },
  {
   "cell_type": "markdown",
   "metadata": {
    "slideshow": {
     "slide_type": "fragment"
    }
   },
   "source": [
    "Primeiro se cria uma coluna com o mês."
   ]
  },
  {
   "cell_type": "code",
   "execution_count": 17,
   "metadata": {
    "slideshow": {
     "slide_type": "fragment"
    }
   },
   "outputs": [
    {
     "data": {
      "text/html": [
       "<div>\n",
       "<style scoped>\n",
       "    .dataframe tbody tr th:only-of-type {\n",
       "        vertical-align: middle;\n",
       "    }\n",
       "\n",
       "    .dataframe tbody tr th {\n",
       "        vertical-align: top;\n",
       "    }\n",
       "\n",
       "    .dataframe thead th {\n",
       "        text-align: right;\n",
       "    }\n",
       "</style>\n",
       "<table border=\"1\" class=\"dataframe\">\n",
       "  <thead>\n",
       "    <tr style=\"text-align: right;\">\n",
       "      <th></th>\n",
       "      <th>Title</th>\n",
       "      <th>Date</th>\n",
       "      <th>Mês</th>\n",
       "    </tr>\n",
       "  </thead>\n",
       "  <tbody>\n",
       "    <tr>\n",
       "      <th>0</th>\n",
       "      <td>The Crown: Temporada 4: O teste de Balmoral</td>\n",
       "      <td>2021-06-03</td>\n",
       "      <td>June</td>\n",
       "    </tr>\n",
       "    <tr>\n",
       "      <th>1</th>\n",
       "      <td>The Crown: Temporada 4: Guarda-costas</td>\n",
       "      <td>2021-05-03</td>\n",
       "      <td>May</td>\n",
       "    </tr>\n",
       "    <tr>\n",
       "      <th>2</th>\n",
       "      <td>A Guerra dos Samurais: Temporada 1: A ascensão...</td>\n",
       "      <td>2021-02-03</td>\n",
       "      <td>February</td>\n",
       "    </tr>\n",
       "    <tr>\n",
       "      <th>3</th>\n",
       "      <td>Professor Polvo</td>\n",
       "      <td>2021-02-27</td>\n",
       "      <td>February</td>\n",
       "    </tr>\n",
       "    <tr>\n",
       "      <th>4</th>\n",
       "      <td>Star Trek: Discovery: Temporada 3: Minha Esper...</td>\n",
       "      <td>2021-01-23</td>\n",
       "      <td>January</td>\n",
       "    </tr>\n",
       "    <tr>\n",
       "      <th>...</th>\n",
       "      <td>...</td>\n",
       "      <td>...</td>\n",
       "      <td>...</td>\n",
       "    </tr>\n",
       "    <tr>\n",
       "      <th>869</th>\n",
       "      <td>Os miseráveis</td>\n",
       "      <td>2013-06-07</td>\n",
       "      <td>June</td>\n",
       "    </tr>\n",
       "    <tr>\n",
       "      <th>870</th>\n",
       "      <td>Além da imaginação (Série original): Temporada...</td>\n",
       "      <td>2013-06-07</td>\n",
       "      <td>June</td>\n",
       "    </tr>\n",
       "    <tr>\n",
       "      <th>871</th>\n",
       "      <td>Além da imaginação (Série original): Temporada...</td>\n",
       "      <td>2013-05-07</td>\n",
       "      <td>May</td>\n",
       "    </tr>\n",
       "    <tr>\n",
       "      <th>872</th>\n",
       "      <td>Jogos Vorazes</td>\n",
       "      <td>2013-04-07</td>\n",
       "      <td>April</td>\n",
       "    </tr>\n",
       "    <tr>\n",
       "      <th>873</th>\n",
       "      <td>Arquivo X: Temporada 1: Episódio 1</td>\n",
       "      <td>2013-04-07</td>\n",
       "      <td>April</td>\n",
       "    </tr>\n",
       "  </tbody>\n",
       "</table>\n",
       "<p>874 rows × 3 columns</p>\n",
       "</div>"
      ],
      "text/plain": [
       "                                                 Title       Date       Mês\n",
       "0          The Crown: Temporada 4: O teste de Balmoral 2021-06-03      June\n",
       "1                The Crown: Temporada 4: Guarda-costas 2021-05-03       May\n",
       "2    A Guerra dos Samurais: Temporada 1: A ascensão... 2021-02-03  February\n",
       "3                                      Professor Polvo 2021-02-27  February\n",
       "4    Star Trek: Discovery: Temporada 3: Minha Esper... 2021-01-23   January\n",
       "..                                                 ...        ...       ...\n",
       "869                                      Os miseráveis 2013-06-07      June\n",
       "870  Além da imaginação (Série original): Temporada... 2013-06-07      June\n",
       "871  Além da imaginação (Série original): Temporada... 2013-05-07       May\n",
       "872                                      Jogos Vorazes 2013-04-07     April\n",
       "873                 Arquivo X: Temporada 1: Episódio 1 2013-04-07     April\n",
       "\n",
       "[874 rows x 3 columns]"
      ]
     },
     "execution_count": 17,
     "metadata": {},
     "output_type": "execute_result"
    }
   ],
   "source": [
    "netflix['Date']=pd.to_datetime(netflix['Date'])\n",
    "netflix['Mês'] = netflix['Date'].dt.month_name()\n",
    "netflix"
   ]
  },
  {
   "cell_type": "markdown",
   "metadata": {
    "slideshow": {
     "slide_type": "fragment"
    }
   },
   "source": [
    "E finalmente se usa a função mode para saber o mês em que o usuário mais viu filmes e  séries no Netflix."
   ]
  },
  {
   "cell_type": "code",
   "execution_count": 18,
   "metadata": {
    "slideshow": {
     "slide_type": "fragment"
    }
   },
   "outputs": [
    {
     "data": {
      "text/plain": [
       "0    June\n",
       "dtype: object"
      ]
     },
     "execution_count": 18,
     "metadata": {},
     "output_type": "execute_result"
    }
   ],
   "source": [
    "netflix['Mês'].mode()"
   ]
  },
  {
   "cell_type": "markdown",
   "metadata": {
    "slideshow": {
     "slide_type": "slide"
    }
   },
   "source": [
    "## Medidas de dispersão\n",
    "\n",
    "O processo de trabalhar com dados introduz uma variabilidade nos resultados obtidos,  pois cada individuo de uma amostra vai ter características ligeiramente diferentes. \n",
    "\n",
    "Essa variabilidade é medida através das medidas de dispersão.\n",
    "\n",
    "Dentre as medidas de dispersão tem-se:\n",
    "\n",
    "- **Variância**\n",
    "- **Desvio-padrão**"
   ]
  },
  {
   "cell_type": "markdown",
   "metadata": {
    "slideshow": {
     "slide_type": "slide"
    }
   },
   "source": [
    "### Variância\n",
    "\n",
    "Para explicar a variância, vamos considerar um conjunto de valores, descritos abaixo.\n",
    "\n",
    "$$\n",
    "\\begin{array}{|c|}\n",
    "    \\hline\n",
    "    \\text{Valores de } x\\\\\n",
    "    \\hline\n",
    "    0&\\\\\n",
    "    5&\\\\\n",
    "    8&\\\\\n",
    "    -2&\\\\\n",
    "    -10&\\\\\n",
    "    2&\\\\\n",
    "    \\hline\n",
    "    \\hline \n",
    "    \\mu_x = 0.5\\\\\n",
    "    \\hline\n",
    "\\end{array}\n",
    "$$\n",
    "\n",
    "A média da amostra é 0,5."
   ]
  },
  {
   "cell_type": "markdown",
   "metadata": {
    "slideshow": {
     "slide_type": "slide"
    }
   },
   "source": [
    "É possível ver a dispersão dos valores em torno da média."
   ]
  },
  {
   "cell_type": "code",
   "execution_count": 19,
   "metadata": {
    "slideshow": {
     "slide_type": "fragment"
    }
   },
   "outputs": [
    {
     "data": {
      "image/png": "[encoded data removed]",
      "text/plain": [
       "<Figure size 432x288 with 1 Axes>"
      ]
     },
     "metadata": {
      "needs_background": "light"
     },
     "output_type": "display_data"
    }
   ],
   "source": [
    "import numpy as np\n",
    "import pandas as pd\n",
    "import matplotlib.pyplot as plt\n",
    "\n",
    "\n",
    "x = np.array([0,5,8,-2,-10,2])\n",
    "mediaX = np.mean(x)\n",
    "\n",
    "plt.figure()\n",
    "plt.plot(np.linspace(0,5,6), x, marker = 'o', linestyle = '', label='amostras', \n",
    "         color = 'black')\n",
    "plt.plot(np.linspace(0,5,6), mediaX*np.ones((6)), marker = '', \n",
    "         linestyle = '-', color = 'red', label='média')\n",
    "plt.legend()\n",
    "plt.show()"
   ]
  },
  {
   "cell_type": "markdown",
   "metadata": {
    "slideshow": {
     "slide_type": "slide"
    }
   },
   "source": [
    "Podemos calcular o quanto cada elemento desvia da média da amostra.\n",
    "\n",
    "$$\n",
    "\\begin{array}{|c|c|}\n",
    "    \\hline\n",
    "    \\text{Valores de } x&\\text{Desvio } (x - \\mu_x)\\\\\n",
    "    \\hline\n",
    "    0&-0.5\\\\\n",
    "    5&4.5\\\\\n",
    "    8&7.5\\\\\n",
    "    -2&-2.5\\\\\n",
    "    -10&-10.5\\\\\n",
    "    2&1.5\\\\\n",
    "    \\hline\n",
    "    \\hline \n",
    "    \\mu_x = 0.5&\\displaystyle\\sum (x-\\mu_x) = 0\\\\\n",
    "    \\hline\n",
    "\\end{array}\n",
    "$$\n",
    "\n",
    "Num primeiro momento, podemos achar que a soma é uma boa medida da dispersão dos valores da amostra. Porém os desvios negativos cancelam os desvios positivos. Por exemplo, no exemplo acima a soma dos desvios é zero, mas observando o gráfico anterior zero claramente não é um bom número para representar a dispersão dos valores (zero seria um bom número se todos os valores da amostra tivessem o mesmo valor). "
   ]
  },
  {
   "cell_type": "markdown",
   "metadata": {
    "slideshow": {
     "slide_type": "slide"
    }
   },
   "source": [
    "Isso faz com que seja necessário elevar ao quadrado os desvios. Isso faz com os valores fiquem positivos."
   ]
  },
  {
   "cell_type": "markdown",
   "metadata": {
    "slideshow": {
     "slide_type": "fragment"
    }
   },
   "source": [
    "Com isso é possível definir a variância.\n",
    "\n",
    "**Variância** é definida como a somatória dos desvios da média elevados ao quadrado dividia pelo número de elementos menos um.\n",
    "\n",
    "$$\n",
    "\\begin{array}{|c|c|c|}\n",
    "    \\hline\n",
    "    \\text{Valores de } x&\\text{Desvio } (x - \\mu_x)&\\text{Desvio ao quadrado } (x-\\mu_x)^2\\\\\n",
    "    \\hline\n",
    "    0&-0.5&0.25\\\\\n",
    "    5&4.5&20.25\\\\\n",
    "    8&7.5&56.25\\\\\n",
    "    -2&-2.5&6.25\\\\\n",
    "    -10&-10.5&110.25\\\\\n",
    "    2&1.5&2.25\\\\\n",
    "    \\hline\n",
    "    \\hline \n",
    "    \\mu_x = 0.5&\\displaystyle\\sum (x-\\mu_x) = 0&\\displaystyle\\sum (x-\\mu_x)^2 = 195.5\\\\\n",
    "    \\hline\n",
    "\\end{array}\n",
    "$$\n",
    "\n",
    "Observe que a soma dos desvios é igual a zero. Isso aconteceu pelo cancelamento que os desvios negativos causam nos desvios positivos. Por isso a necessidade de elevar ao quadrado para ter uma real medida dos desvios das amostras."
   ]
  },
  {
   "cell_type": "markdown",
   "metadata": {
    "slideshow": {
     "slide_type": "fragment"
    }
   },
   "source": [
    "Então, a expressão da variância, representada por $\\sigma^2$, é:\n",
    "\n",
    "$$\\sigma^2 = \\frac{\\displaystyle\\sum_{i=0}^{N-1}(x-\\mu_x)^2}{N-1} $$"
   ]
  },
  {
   "cell_type": "markdown",
   "metadata": {
    "slideshow": {
     "slide_type": "slide"
    }
   },
   "source": [
    "Para calcular a variância dos elementos em um vetor x do Numpy, usa-se 'np.var(x, ddof=1)'."
   ]
  },
  {
   "cell_type": "code",
   "execution_count": 20,
   "metadata": {
    "slideshow": {
     "slide_type": "fragment"
    }
   },
   "outputs": [
    {
     "name": "stdout",
     "output_type": "stream",
     "text": [
      "39.1\n"
     ]
    }
   ],
   "source": [
    "varianceX = np.var(x, ddof=1)\n",
    "print(varianceX)"
   ]
  },
  {
   "cell_type": "markdown",
   "metadata": {
    "slideshow": {
     "slide_type": "slide"
    }
   },
   "source": [
    "Também é possível calcular a variância de uma coluna de um DataFrame do Pandas."
   ]
  },
  {
   "cell_type": "markdown",
   "metadata": {},
   "source": [
    "Para calcular a variância da arrecadação em jogos do Campeonato Brasileiro de 2018:"
   ]
  },
  {
   "cell_type": "code",
   "execution_count": 21,
   "metadata": {},
   "outputs": [
    {
     "data": {
      "text/plain": [
       "410493821806.1659"
      ]
     },
     "execution_count": 21,
     "metadata": {},
     "output_type": "execute_result"
    }
   ],
   "source": [
    "tabela = pd.read_csv('https://raw.githubusercontent.com/rnwatanabe/BasesComputacionais2021/main/dados/tabelaBrasileirao2018.csv')\n",
    "tabela['Renda (R$)'].var()"
   ]
  },
  {
   "cell_type": "markdown",
   "metadata": {
    "slideshow": {
     "slide_type": "slide"
    }
   },
   "source": [
    "### Desvio-padrão\n",
    "\n",
    "O desvio-padrão é a raiz quadrada da variância.\n",
    "\n",
    "$$\\sigma = \\sqrt{\\frac{\\displaystyle\\sum_{i=0}^{N-1}(x-\\mu)^2}{N-1}}$$\n",
    "\n",
    "A medida mais utilizada para dispersão das amostras é o desvio-padrão, já que ele tem a mesma unidade das amostras (a variância tem a unidade das amostras ao quadrado)."
   ]
  },
  {
   "cell_type": "markdown",
   "metadata": {
    "slideshow": {
     "slide_type": "fragment"
    }
   },
   "source": [
    "Para calcular o desvio-padrão dos valores de uma coluna de um DataFrame do Pandas basta acrescentar '.std()' ao nome da coluna."
   ]
  },
  {
   "cell_type": "code",
   "execution_count": 22,
   "metadata": {
    "slideshow": {
     "slide_type": "fragment"
    }
   },
   "outputs": [
    {
     "data": {
      "text/plain": [
       "640697.9177476433"
      ]
     },
     "execution_count": 22,
     "metadata": {},
     "output_type": "execute_result"
    }
   ],
   "source": [
    "tabela['Renda (R$)'].std()"
   ]
  },
  {
   "cell_type": "markdown",
   "metadata": {
    "slideshow": {
     "slide_type": "slide"
    }
   },
   "source": [
    "Uma maneira muito comum de representar a média e o desvio-padrão de uma amostra é representar a média com uma linha e outras duas linhas, cada uma com  o valor de $\\mu+\\sigma$ e $\\mu-\\sigma$. Isso permite visualizar qual o intervalo a amostra em análise se distribui."
   ]
  },
  {
   "cell_type": "code",
   "execution_count": 23,
   "metadata": {
    "slideshow": {
     "slide_type": "fragment"
    }
   },
   "outputs": [
    {
     "data": {
      "image/png": "[encoded data removed]",
      "text/plain": [
       "<Figure size 432x288 with 1 Axes>"
      ]
     },
     "metadata": {
      "needs_background": "light"
     },
     "output_type": "display_data"
    }
   ],
   "source": [
    "stdX = tabela['Renda (R$)'].std()\n",
    "\n",
    "plt.figure()\n",
    "plt.plot(np.arange(0,len(tabela)), tabela['Renda (R$)'], marker = 'o', linestyle = '', label='amostras', color = 'black')\n",
    "plt.plot(np.arange(0,len(tabela)), tabela['Renda (R$)'].mean()*np.ones(len(tabela)), marker = '', \n",
    "         linestyle = '-', color = 'red', label='média')\n",
    "plt.plot(np.arange(0,len(tabela)), (tabela['Renda (R$)'].mean() + stdX)*np.ones(len(tabela)), \n",
    "         marker = '', linestyle = '--', color = 'blue', label='desvio-padrão')\n",
    "plt.plot(np.arange(0,len(tabela)), (tabela['Renda (R$)'].mean() - stdX)*np.ones(len(tabela)), \n",
    "         marker = '', linestyle = '--', color = 'blue')\n",
    "plt.legend()\n",
    "plt.show()"
   ]
  },
  {
   "cell_type": "markdown",
   "metadata": {
    "slideshow": {
     "slide_type": "slide"
    }
   },
   "source": [
    "### Percentil\n",
    "\n",
    "Uma outra maneira de mostrar a dispersão do dado é usando os percentis. Para encontrar os percentis, podemos dividir o dado em 100 partes após ordenar o dado do menor valor para o maior. O percentil 1 (1 % do dado) será o valor encontrado na primeira parte. O percentil 50 é o valor encontrado na quinquagésima parte (e é igual a mediana). Podemos encontrar o percentil usando o comando quantile(p), em que p é o percentil, dado de 0 a 1 (1 é 100 %, 0,5 é 50%, 0,01 é 1% e assim por diante). \n",
    "\n",
    "Por exemplo, o percentil 25 da renda do Campeonato Brasileiro de Futebol de 2018:"
   ]
  },
  {
   "cell_type": "code",
   "execution_count": 24,
   "metadata": {
    "slideshow": {
     "slide_type": "fragment"
    }
   },
   "outputs": [
    {
     "name": "stdout",
     "output_type": "stream",
     "text": [
      "145757.75\n"
     ]
    }
   ],
   "source": [
    "print(tabela['Renda (R$)'].quantile(0.25))"
   ]
  },
  {
   "cell_type": "markdown",
   "metadata": {
    "slideshow": {
     "slide_type": "slide"
    }
   },
   "source": [
    "Aqui é mostrado o dado da Renda dos jogos com as linhas mostrando os percentis 25%, 50%, 75% e 90%. Isso permite que se tenha uma ideia da distribuição do dado."
   ]
  },
  {
   "cell_type": "code",
   "execution_count": 25,
   "metadata": {
    "slideshow": {
     "slide_type": "fragment"
    }
   },
   "outputs": [
    {
     "data": {
      "image/png": "[encoded data removed]",
      "text/plain": [
       "<Figure size 432x288 with 1 Axes>"
      ]
     },
     "metadata": {
      "needs_background": "light"
     },
     "output_type": "display_data"
    }
   ],
   "source": [
    "plt.figure()\n",
    "plt.plot(np.arange(0,len(tabela)), tabela['Renda (R$)'], marker = 'o', linestyle = '', label='amostras', color = 'black')\n",
    "plt.plot(np.arange(0,len(tabela)), tabela['Renda (R$)'].quantile(0.25)*np.ones(len(tabela)), marker = '', \n",
    "         linestyle = '-', color = 'red', label='percentil 25')\n",
    "plt.plot(np.arange(0,len(tabela)), tabela['Renda (R$)'].quantile(0.5)*np.ones(len(tabela)), marker = '', \n",
    "         linestyle = '-', color = 'green', label='percentil 50')\n",
    "plt.plot(np.arange(0,len(tabela)), tabela['Renda (R$)'].quantile(0.75)*np.ones(len(tabela)), marker = '', \n",
    "         linestyle = '-', color = 'blue', label='percentil 75')\n",
    "plt.plot(np.arange(0,len(tabela)), tabela['Renda (R$)'].quantile(0.9)*np.ones(len(tabela)), marker = '', \n",
    "         linestyle = '-', color = 'purple', label='percentil 90')\n",
    "plt.legend()\n",
    "plt.show()"
   ]
  },
  {
   "cell_type": "markdown",
   "metadata": {
    "slideshow": {
     "slide_type": "slide"
    }
   },
   "source": [
    "## Gráficos"
   ]
  },
  {
   "cell_type": "markdown",
   "metadata": {
    "slideshow": {
     "slide_type": "slide"
    }
   },
   "source": [
    "### Histograma\n",
    "\n",
    "O histograma é um tipo de gráfico que permite visualizar a forma da distribuição dos valores dos elementos de uma amostra. \n",
    "\n",
    "Para construir um histograma, divide-se a faixa numérica da variável em intervalos. Em seguida, são contadas quantos elementos estão em cada intervalo. "
   ]
  },
  {
   "cell_type": "markdown",
   "metadata": {
    "slideshow": {
     "slide_type": "fragment"
    }
   },
   "source": [
    "É possível construir um histograma com o comando do matplotlib 'plt.hist(x)', em que x é o vetor contendo os elementos da sua amostra."
   ]
  },
  {
   "cell_type": "code",
   "execution_count": 26,
   "metadata": {
    "slideshow": {
     "slide_type": "fragment"
    }
   },
   "outputs": [
    {
     "data": {
      "image/png": "[encoded data removed]",
      "text/plain": [
       "<Figure size 432x288 with 1 Axes>"
      ]
     },
     "metadata": {
      "needs_background": "light"
     },
     "output_type": "display_data"
    }
   ],
   "source": [
    "import matplotlib.pyplot as plt\n",
    "\n",
    "plt.figure()\n",
    "plt.hist(tabela['Público'])\n",
    "plt.xlabel('Público')\n",
    "plt.show()"
   ]
  },
  {
   "cell_type": "markdown",
   "metadata": {
    "slideshow": {
     "slide_type": "slide"
    }
   },
   "source": [
    "Outra maneira de construir um histograma é, a partir de um DataFrame do Pandas, adicionar '.hist()'."
   ]
  },
  {
   "cell_type": "code",
   "execution_count": 27,
   "metadata": {
    "slideshow": {
     "slide_type": "fragment"
    }
   },
   "outputs": [
    {
     "data": {
      "image/png": "[encoded data removed]",
      "text/plain": [
       "<Figure size 432x288 with 1 Axes>"
      ]
     },
     "metadata": {
      "needs_background": "light"
     },
     "output_type": "display_data"
    }
   ],
   "source": [
    "plt.figure()\n",
    "tabela['Público'].hist()\n",
    "plt.xlabel('Público')\n",
    "plt.show()"
   ]
  },
  {
   "cell_type": "markdown",
   "metadata": {
    "slideshow": {
     "slide_type": "slide"
    }
   },
   "source": [
    "### Boxplot\n",
    "\n",
    "Um outro tipo de gráfico que mostra a dispersão do dado é o boxplot. Ele mostra diversos elementos:\n",
    "\n",
    "- A linha dentro da caixa é a mediana do dado (percentil 50)\n",
    "- A linha do limite inferior da caixa  é o percentil 25 (conhecido também como quartil 1 ou Q1)\n",
    "- A linha do limite superior da caixa é o percentil 75 (conhecido também como quartil 3 ou Q3\n",
    "- A linha de cima é o valor $Q_3 + 1,5(Q3-Q1)$\n",
    "- A linha de baixo é o valor $Q_1 - 1,5(Q3-Q1)$\n",
    "- Os pontos acima da linha superior e abaixo da linha onferior são os outliers (pontos discrepantes). Os outliers normalmente são interpretados como não sendo parte do resto do conjunto. Em muitas análises os outliers são descartados.\n"
   ]
  },
  {
   "cell_type": "markdown",
   "metadata": {
    "slideshow": {
     "slide_type": "subslide"
    }
   },
   "source": [
    "É possível fazer um boxplot usando o comando boxplot('nome_da_coluna') após o nome do Dataframe do Pandas."
   ]
  },
  {
   "cell_type": "code",
   "execution_count": 28,
   "metadata": {
    "slideshow": {
     "slide_type": "fragment"
    }
   },
   "outputs": [
    {
     "data": {
      "image/png": "[encoded data removed]",
      "text/plain": [
       "<Figure size 432x288 with 1 Axes>"
      ]
     },
     "metadata": {
      "needs_background": "light"
     },
     "output_type": "display_data"
    }
   ],
   "source": [
    "plt.figure()\n",
    "tabela.boxplot('Público')\n",
    "plt.show()"
   ]
  },
  {
   "cell_type": "markdown",
   "metadata": {
    "slideshow": {
     "slide_type": "slide"
    }
   },
   "source": [
    "### Quando não usar a média como medida de tendência central\n",
    "\n",
    "Quando temos valores que distoam muito da maioria (esses pontos são conhecidos como 'outliers') não devemos usar a média. \n",
    "\n",
    "Por exemplo, se tivermos os seguintes valores:"
   ]
  },
  {
   "cell_type": "code",
   "execution_count": 29,
   "metadata": {
    "slideshow": {
     "slide_type": "fragment"
    }
   },
   "outputs": [],
   "source": [
    "x = np.array([-2.5, -4.3, -7.1, -6.2, -4.1, 0.2])"
   ]
  },
  {
   "cell_type": "markdown",
   "metadata": {
    "slideshow": {
     "slide_type": "fragment"
    }
   },
   "source": [
    "A média e a mediana são muito próximas uma da outra. Qualquer uma das medidas poderiam ser utilizadas como medida de tendência central."
   ]
  },
  {
   "cell_type": "code",
   "execution_count": 30,
   "metadata": {
    "slideshow": {
     "slide_type": "fragment"
    }
   },
   "outputs": [
    {
     "name": "stdout",
     "output_type": "stream",
     "text": [
      "Média de x é  -3.9999999999999996\n",
      "Mediana de x é -4.199999999999999\n"
     ]
    }
   ],
   "source": [
    "print('Média de x é ', np.mean(x))\n",
    "print('Mediana de x é', np.median(x))"
   ]
  },
  {
   "cell_type": "markdown",
   "metadata": {
    "slideshow": {
     "slide_type": "slide"
    }
   },
   "source": [
    "Agora, acrescentando um valor muito diferente do resto do conjunto:"
   ]
  },
  {
   "cell_type": "code",
   "execution_count": 31,
   "metadata": {
    "slideshow": {
     "slide_type": "fragment"
    }
   },
   "outputs": [],
   "source": [
    "x = np.array([-2.5, -4.3, -7.1, -6.2, -4.1, 0.2, 105.3])"
   ]
  },
  {
   "cell_type": "markdown",
   "metadata": {
    "slideshow": {
     "slide_type": "fragment"
    }
   },
   "source": [
    "A média e a mediana são valores muito diferentes. Nesse caso, a média não é representativa do conjunto enquanto a mediana é."
   ]
  },
  {
   "cell_type": "code",
   "execution_count": 32,
   "metadata": {
    "slideshow": {
     "slide_type": "fragment"
    }
   },
   "outputs": [
    {
     "name": "stdout",
     "output_type": "stream",
     "text": [
      "Média de x é  11.614285714285714\n",
      "Mediana de x é -4.1\n"
     ]
    }
   ],
   "source": [
    "print('Média de x é ', np.mean(x))\n",
    "print('Mediana de x é', np.median(x))"
   ]
  },
  {
   "cell_type": "markdown",
   "metadata": {
    "slideshow": {
     "slide_type": "slide"
    }
   },
   "source": [
    "Uma outra situação é quando a distribuição dos dados não for simétrica. Isso é possível de se ver usando tanto o histograma quanto o boxplot.\n",
    "\n",
    "Por exemplo, a tabela abaixo contém diversas informações de sujeitos que participaram de um experimento de controle da postura."
   ]
  },
  {
   "cell_type": "code",
   "execution_count": 33,
   "metadata": {
    "slideshow": {
     "slide_type": "fragment"
    }
   },
   "outputs": [
    {
     "data": {
      "text/html": [
       "<div>\n",
       "<style scoped>\n",
       "    .dataframe tbody tr th:only-of-type {\n",
       "        vertical-align: middle;\n",
       "    }\n",
       "\n",
       "    .dataframe tbody tr th {\n",
       "        vertical-align: top;\n",
       "    }\n",
       "\n",
       "    .dataframe thead th {\n",
       "        text-align: right;\n",
       "    }\n",
       "</style>\n",
       "<table border=\"1\" class=\"dataframe\">\n",
       "  <thead>\n",
       "    <tr style=\"text-align: right;\">\n",
       "      <th></th>\n",
       "      <th>Trial</th>\n",
       "      <th>Subject</th>\n",
       "      <th>Vision</th>\n",
       "      <th>Surface</th>\n",
       "      <th>Age</th>\n",
       "      <th>AgeGroup</th>\n",
       "      <th>Gender</th>\n",
       "      <th>Height</th>\n",
       "      <th>Weight</th>\n",
       "      <th>BMI</th>\n",
       "      <th>...</th>\n",
       "      <th>Best_7</th>\n",
       "      <th>Best_8</th>\n",
       "      <th>Best_9</th>\n",
       "      <th>Best_10</th>\n",
       "      <th>Best_11</th>\n",
       "      <th>Best_12</th>\n",
       "      <th>Best_13</th>\n",
       "      <th>Best_14</th>\n",
       "      <th>Best_T</th>\n",
       "      <th>Date</th>\n",
       "    </tr>\n",
       "  </thead>\n",
       "  <tbody>\n",
       "    <tr>\n",
       "      <th>0</th>\n",
       "      <td>BDS00001</td>\n",
       "      <td>1</td>\n",
       "      <td>Open</td>\n",
       "      <td>Firm</td>\n",
       "      <td>33.000000</td>\n",
       "      <td>Young</td>\n",
       "      <td>F</td>\n",
       "      <td>157.5</td>\n",
       "      <td>54.2</td>\n",
       "      <td>21.849332</td>\n",
       "      <td>...</td>\n",
       "      <td>2</td>\n",
       "      <td>2</td>\n",
       "      <td>2</td>\n",
       "      <td>2</td>\n",
       "      <td>2</td>\n",
       "      <td>2</td>\n",
       "      <td>2</td>\n",
       "      <td>1</td>\n",
       "      <td>25</td>\n",
       "      <td>2015-10-08 08:30:00.000</td>\n",
       "    </tr>\n",
       "    <tr>\n",
       "      <th>1</th>\n",
       "      <td>BDS00002</td>\n",
       "      <td>1</td>\n",
       "      <td>Open</td>\n",
       "      <td>Firm</td>\n",
       "      <td>33.000000</td>\n",
       "      <td>Young</td>\n",
       "      <td>F</td>\n",
       "      <td>157.5</td>\n",
       "      <td>54.2</td>\n",
       "      <td>21.849332</td>\n",
       "      <td>...</td>\n",
       "      <td>2</td>\n",
       "      <td>2</td>\n",
       "      <td>2</td>\n",
       "      <td>2</td>\n",
       "      <td>2</td>\n",
       "      <td>2</td>\n",
       "      <td>2</td>\n",
       "      <td>1</td>\n",
       "      <td>25</td>\n",
       "      <td>2015-10-08 08:30:00.000</td>\n",
       "    </tr>\n",
       "    <tr>\n",
       "      <th>2</th>\n",
       "      <td>BDS00003</td>\n",
       "      <td>1</td>\n",
       "      <td>Open</td>\n",
       "      <td>Firm</td>\n",
       "      <td>33.000000</td>\n",
       "      <td>Young</td>\n",
       "      <td>F</td>\n",
       "      <td>157.5</td>\n",
       "      <td>54.2</td>\n",
       "      <td>21.849332</td>\n",
       "      <td>...</td>\n",
       "      <td>2</td>\n",
       "      <td>2</td>\n",
       "      <td>2</td>\n",
       "      <td>2</td>\n",
       "      <td>2</td>\n",
       "      <td>2</td>\n",
       "      <td>2</td>\n",
       "      <td>1</td>\n",
       "      <td>25</td>\n",
       "      <td>2015-10-08 08:30:00.000</td>\n",
       "    </tr>\n",
       "    <tr>\n",
       "      <th>3</th>\n",
       "      <td>BDS00004</td>\n",
       "      <td>1</td>\n",
       "      <td>Closed</td>\n",
       "      <td>Firm</td>\n",
       "      <td>33.000000</td>\n",
       "      <td>Young</td>\n",
       "      <td>F</td>\n",
       "      <td>157.5</td>\n",
       "      <td>54.2</td>\n",
       "      <td>21.849332</td>\n",
       "      <td>...</td>\n",
       "      <td>2</td>\n",
       "      <td>2</td>\n",
       "      <td>2</td>\n",
       "      <td>2</td>\n",
       "      <td>2</td>\n",
       "      <td>2</td>\n",
       "      <td>2</td>\n",
       "      <td>1</td>\n",
       "      <td>25</td>\n",
       "      <td>2015-10-08 08:30:00.000</td>\n",
       "    </tr>\n",
       "    <tr>\n",
       "      <th>4</th>\n",
       "      <td>BDS00005</td>\n",
       "      <td>1</td>\n",
       "      <td>Closed</td>\n",
       "      <td>Firm</td>\n",
       "      <td>33.000000</td>\n",
       "      <td>Young</td>\n",
       "      <td>F</td>\n",
       "      <td>157.5</td>\n",
       "      <td>54.2</td>\n",
       "      <td>21.849332</td>\n",
       "      <td>...</td>\n",
       "      <td>2</td>\n",
       "      <td>2</td>\n",
       "      <td>2</td>\n",
       "      <td>2</td>\n",
       "      <td>2</td>\n",
       "      <td>2</td>\n",
       "      <td>2</td>\n",
       "      <td>1</td>\n",
       "      <td>25</td>\n",
       "      <td>2015-10-08 08:30:00.000</td>\n",
       "    </tr>\n",
       "    <tr>\n",
       "      <th>...</th>\n",
       "      <td>...</td>\n",
       "      <td>...</td>\n",
       "      <td>...</td>\n",
       "      <td>...</td>\n",
       "      <td>...</td>\n",
       "      <td>...</td>\n",
       "      <td>...</td>\n",
       "      <td>...</td>\n",
       "      <td>...</td>\n",
       "      <td>...</td>\n",
       "      <td>...</td>\n",
       "      <td>...</td>\n",
       "      <td>...</td>\n",
       "      <td>...</td>\n",
       "      <td>...</td>\n",
       "      <td>...</td>\n",
       "      <td>...</td>\n",
       "      <td>...</td>\n",
       "      <td>...</td>\n",
       "      <td>...</td>\n",
       "      <td>...</td>\n",
       "    </tr>\n",
       "    <tr>\n",
       "      <th>1925</th>\n",
       "      <td>BDS01952</td>\n",
       "      <td>163</td>\n",
       "      <td>Open</td>\n",
       "      <td>Firm</td>\n",
       "      <td>25.416667</td>\n",
       "      <td>Young</td>\n",
       "      <td>M</td>\n",
       "      <td>172.0</td>\n",
       "      <td>74.6</td>\n",
       "      <td>25.216333</td>\n",
       "      <td>...</td>\n",
       "      <td>2</td>\n",
       "      <td>2</td>\n",
       "      <td>2</td>\n",
       "      <td>2</td>\n",
       "      <td>2</td>\n",
       "      <td>2</td>\n",
       "      <td>2</td>\n",
       "      <td>2</td>\n",
       "      <td>26</td>\n",
       "      <td>2016-03-11 10:49:57.538</td>\n",
       "    </tr>\n",
       "    <tr>\n",
       "      <th>1926</th>\n",
       "      <td>BDS01953</td>\n",
       "      <td>163</td>\n",
       "      <td>Open</td>\n",
       "      <td>Firm</td>\n",
       "      <td>25.416667</td>\n",
       "      <td>Young</td>\n",
       "      <td>M</td>\n",
       "      <td>172.0</td>\n",
       "      <td>74.6</td>\n",
       "      <td>25.216333</td>\n",
       "      <td>...</td>\n",
       "      <td>2</td>\n",
       "      <td>2</td>\n",
       "      <td>2</td>\n",
       "      <td>2</td>\n",
       "      <td>2</td>\n",
       "      <td>2</td>\n",
       "      <td>2</td>\n",
       "      <td>2</td>\n",
       "      <td>26</td>\n",
       "      <td>2016-03-11 10:49:57.538</td>\n",
       "    </tr>\n",
       "    <tr>\n",
       "      <th>1927</th>\n",
       "      <td>BDS01954</td>\n",
       "      <td>163</td>\n",
       "      <td>Closed</td>\n",
       "      <td>Foam</td>\n",
       "      <td>25.416667</td>\n",
       "      <td>Young</td>\n",
       "      <td>M</td>\n",
       "      <td>172.0</td>\n",
       "      <td>74.6</td>\n",
       "      <td>25.216333</td>\n",
       "      <td>...</td>\n",
       "      <td>2</td>\n",
       "      <td>2</td>\n",
       "      <td>2</td>\n",
       "      <td>2</td>\n",
       "      <td>2</td>\n",
       "      <td>2</td>\n",
       "      <td>2</td>\n",
       "      <td>2</td>\n",
       "      <td>26</td>\n",
       "      <td>2016-03-11 10:49:57.538</td>\n",
       "    </tr>\n",
       "    <tr>\n",
       "      <th>1928</th>\n",
       "      <td>BDS01955</td>\n",
       "      <td>163</td>\n",
       "      <td>Closed</td>\n",
       "      <td>Foam</td>\n",
       "      <td>25.416667</td>\n",
       "      <td>Young</td>\n",
       "      <td>M</td>\n",
       "      <td>172.0</td>\n",
       "      <td>74.6</td>\n",
       "      <td>25.216333</td>\n",
       "      <td>...</td>\n",
       "      <td>2</td>\n",
       "      <td>2</td>\n",
       "      <td>2</td>\n",
       "      <td>2</td>\n",
       "      <td>2</td>\n",
       "      <td>2</td>\n",
       "      <td>2</td>\n",
       "      <td>2</td>\n",
       "      <td>26</td>\n",
       "      <td>2016-03-11 10:49:57.538</td>\n",
       "    </tr>\n",
       "    <tr>\n",
       "      <th>1929</th>\n",
       "      <td>BDS01956</td>\n",
       "      <td>163</td>\n",
       "      <td>Closed</td>\n",
       "      <td>Foam</td>\n",
       "      <td>25.416667</td>\n",
       "      <td>Young</td>\n",
       "      <td>M</td>\n",
       "      <td>172.0</td>\n",
       "      <td>74.6</td>\n",
       "      <td>25.216333</td>\n",
       "      <td>...</td>\n",
       "      <td>2</td>\n",
       "      <td>2</td>\n",
       "      <td>2</td>\n",
       "      <td>2</td>\n",
       "      <td>2</td>\n",
       "      <td>2</td>\n",
       "      <td>2</td>\n",
       "      <td>2</td>\n",
       "      <td>26</td>\n",
       "      <td>2016-03-11 10:49:57.538</td>\n",
       "    </tr>\n",
       "  </tbody>\n",
       "</table>\n",
       "<p>1930 rows × 64 columns</p>\n",
       "</div>"
      ],
      "text/plain": [
       "         Trial  Subject  Vision Surface        Age AgeGroup Gender  Height  \\\n",
       "0     BDS00001        1    Open    Firm  33.000000    Young      F   157.5   \n",
       "1     BDS00002        1    Open    Firm  33.000000    Young      F   157.5   \n",
       "2     BDS00003        1    Open    Firm  33.000000    Young      F   157.5   \n",
       "3     BDS00004        1  Closed    Firm  33.000000    Young      F   157.5   \n",
       "4     BDS00005        1  Closed    Firm  33.000000    Young      F   157.5   \n",
       "...        ...      ...     ...     ...        ...      ...    ...     ...   \n",
       "1925  BDS01952      163    Open    Firm  25.416667    Young      M   172.0   \n",
       "1926  BDS01953      163    Open    Firm  25.416667    Young      M   172.0   \n",
       "1927  BDS01954      163  Closed    Foam  25.416667    Young      M   172.0   \n",
       "1928  BDS01955      163  Closed    Foam  25.416667    Young      M   172.0   \n",
       "1929  BDS01956      163  Closed    Foam  25.416667    Young      M   172.0   \n",
       "\n",
       "      Weight        BMI  ...  Best_7 Best_8 Best_9  Best_10 Best_11 Best_12  \\\n",
       "0       54.2  21.849332  ...       2      2      2        2       2       2   \n",
       "1       54.2  21.849332  ...       2      2      2        2       2       2   \n",
       "2       54.2  21.849332  ...       2      2      2        2       2       2   \n",
       "3       54.2  21.849332  ...       2      2      2        2       2       2   \n",
       "4       54.2  21.849332  ...       2      2      2        2       2       2   \n",
       "...      ...        ...  ...     ...    ...    ...      ...     ...     ...   \n",
       "1925    74.6  25.216333  ...       2      2      2        2       2       2   \n",
       "1926    74.6  25.216333  ...       2      2      2        2       2       2   \n",
       "1927    74.6  25.216333  ...       2      2      2        2       2       2   \n",
       "1928    74.6  25.216333  ...       2      2      2        2       2       2   \n",
       "1929    74.6  25.216333  ...       2      2      2        2       2       2   \n",
       "\n",
       "     Best_13  Best_14 Best_T                     Date  \n",
       "0          2        1     25  2015-10-08 08:30:00.000  \n",
       "1          2        1     25  2015-10-08 08:30:00.000  \n",
       "2          2        1     25  2015-10-08 08:30:00.000  \n",
       "3          2        1     25  2015-10-08 08:30:00.000  \n",
       "4          2        1     25  2015-10-08 08:30:00.000  \n",
       "...      ...      ...    ...                      ...  \n",
       "1925       2        2     26  2016-03-11 10:49:57.538  \n",
       "1926       2        2     26  2016-03-11 10:49:57.538  \n",
       "1927       2        2     26  2016-03-11 10:49:57.538  \n",
       "1928       2        2     26  2016-03-11 10:49:57.538  \n",
       "1929       2        2     26  2016-03-11 10:49:57.538  \n",
       "\n",
       "[1930 rows x 64 columns]"
      ]
     },
     "execution_count": 33,
     "metadata": {},
     "output_type": "execute_result"
    }
   ],
   "source": [
    "info = pd.read_csv('https://raw.githubusercontent.com/rnwatanabe/BasesComputacionais2021/main/dados/BDSinfo.csv', sep='\\t')\n",
    "info"
   ]
  },
  {
   "cell_type": "markdown",
   "metadata": {
    "slideshow": {
     "slide_type": "slide"
    }
   },
   "source": [
    "Uma das colunas que a tabela tem é o tamanho do pé da pessoa, em cm (FootLen). Se fizermos o histograma e o boxplot, vemos que o o dado se distribui de forma razoavelmente simétrica em torno do pico do histograma e em torno da mediana no boxplot. "
   ]
  },
  {
   "cell_type": "code",
   "execution_count": 34,
   "metadata": {
    "slideshow": {
     "slide_type": "fragment"
    }
   },
   "outputs": [
    {
     "data": {
      "image/png": "[encoded data removed]",
      "text/plain": [
       "<Figure size 864x504 with 2 Axes>"
      ]
     },
     "metadata": {
      "needs_background": "light"
     },
     "output_type": "display_data"
    }
   ],
   "source": [
    "plt.figure(figsize=(12,7))\n",
    "plt.subplot(1,2,1)\n",
    "info['FootLen'].hist()\n",
    "plt.subplot(1,2,2)\n",
    "info.boxplot('FootLen')\n",
    "plt.show()"
   ]
  },
  {
   "cell_type": "markdown",
   "metadata": {},
   "source": [
    "Nesse caso, a média e a mediana são aproximadamente iguais."
   ]
  },
  {
   "cell_type": "code",
   "execution_count": 35,
   "metadata": {},
   "outputs": [
    {
     "name": "stdout",
     "output_type": "stream",
     "text": [
      "média = 22.97\n",
      "mediana = 22.95\n"
     ]
    }
   ],
   "source": [
    "print('média = %.2f' %info['FootLen'].mean())\n",
    "print('mediana = %.2f' %info['FootLen'].median())"
   ]
  },
  {
   "cell_type": "markdown",
   "metadata": {
    "slideshow": {
     "slide_type": "slide"
    }
   },
   "source": [
    "Já neste caso, os dados além de serem bastante assimétricos em torno do pico do histograma, têm vários outliers, mostrados no boxplot."
   ]
  },
  {
   "cell_type": "code",
   "execution_count": 36,
   "metadata": {
    "slideshow": {
     "slide_type": "fragment"
    }
   },
   "outputs": [
    {
     "data": {
      "image/png": "[encoded data removed]",
      "text/plain": [
       "<Figure size 864x504 with 2 Axes>"
      ]
     },
     "metadata": {
      "needs_background": "light"
     },
     "output_type": "display_data"
    }
   ],
   "source": [
    "plt.figure(figsize=(12,7))\n",
    "plt.subplot(1,2,1)\n",
    "tabela['Renda (R$)'].hist()\n",
    "plt.subplot(1,2,2)\n",
    "tabela.boxplot('Renda (R$)')\n",
    "plt.show()"
   ]
  },
  {
   "cell_type": "markdown",
   "metadata": {
    "slideshow": {
     "slide_type": "fragment"
    }
   },
   "source": [
    "Neste caso, a média e a mediana são bem diferentes, mas claramente o valor da mediana é uma medida melhor da tendência central do dado (mais próximo do pico do histograma)."
   ]
  },
  {
   "cell_type": "code",
   "execution_count": 37,
   "metadata": {
    "slideshow": {
     "slide_type": "fragment"
    }
   },
   "outputs": [
    {
     "name": "stdout",
     "output_type": "stream",
     "text": [
      "média = 570256.19\n",
      "mediana = 302502.50\n"
     ]
    }
   ],
   "source": [
    "print('média = %.2f' %tabela['Renda (R$)'].mean())\n",
    "print('mediana = %.2f' %tabela['Renda (R$)'].median())"
   ]
  },
  {
   "cell_type": "markdown",
   "metadata": {
    "slideshow": {
     "slide_type": "slide"
    }
   },
   "source": [
    "### Sugestões de exercícios\n",
    "\n",
    "\n",
    "\n",
    "**1)** Para este item você deverá usar o arquivo com todos os resultados do campeonato Brasileiro de futebol de 2018 (tabelaBrasileirao2018.csv encontrado em [https://raw.githubusercontent.com/rnwatanabe/BasesComputacionais2021/main/dados/tabelaBrasileirao2018.csv](https://raw.githubusercontent.com/rnwatanabe/BasesComputacionais2021/main/dados/tabelaBrasileirao2018.csv) (dados obtidos [desta](<https://pt.wikipedia.org/wiki/Resultados_do_Campeonato_Brasileiro_de_Futebol_de_2018_-_S%C3%A9rie_A_(primeiro_turno)>) e [desta](<https://pt.wikipedia.org/wiki/Resultados_do_Campeonato_Brasileiro_de_Futebol_de_2018_-_S%C3%A9rie_A_(segundo_turno)>) página da Wikipedia).\n",
    "\n",
    "\n",
    "- Escolha um time e faça o histograma da distribuição do público nos jogos em que este time foi o mandante.\n",
    "\n",
    "- Calcule qual foi o público médio nos jogos em que o time escolhido foi o mandante."
   ]
  },
  {
   "cell_type": "markdown",
   "metadata": {
    "slideshow": {
     "slide_type": "slide"
    }
   },
   "source": [
    "**2)** Para este item você deverá usar o arquivo com dados de força e torque medidos no chão enquanto uma pessoa tenta ficar em pé o mais parada possível durante um minuto encontrado em [https://raw.githubusercontent.com/rnwatanabe/BasesComputacionais2021/main/dados/balance.csv](https://raw.githubusercontent.com/rnwatanabe/BasesComputacionais2021/main/dados/balance.csv).\n",
    "\n",
    "- Faça o gráfico do torque na direção y (My [Nm]) em função do tempo (Time [s]).\n",
    "\n",
    "- Mostre na tela a média e o desvio-padrão do torque na direção y."
   ]
  },
  {
   "cell_type": "markdown",
   "metadata": {
    "slideshow": {
     "slide_type": "slide"
    }
   },
   "source": [
    "**3)**  Para este item você deverá usar o arquivo com a taxa de inflação mensal (IGP-DI) no Brasil de fevereiro de 1944 a junho de 2019 [(https://raw.githubusercontent.com/rnwatanabe/BasesComputacionais2021/main/dados/inflacaoMensal.csv)](https://raw.githubusercontent.com/rnwatanabe/BasesComputacionais2021/main/dados/inflacaoMensal.csv) (dados disponibilizados por Ipeadata). \n",
    "\n",
    "- Calcule a mediana da inflação mensal nos meses de março.\n",
    "\n",
    "- Calcule a média da inflação mensal nos meses de março.\n",
    "\n",
    "- Calcule o desvio-padrão da inflação mensal nos meses de março.\n",
    "\n",
    "- Faça o histograma da inflação mensal nos meses de março.\n"
   ]
  },
  {
   "cell_type": "markdown",
   "metadata": {
    "slideshow": {
     "slide_type": "slide"
    }
   },
   "source": [
    "**4)**  Para este item você deverá usar o arquivo com a taxa de inflação mensal (IGP-DI) no Brasil de fevereiro de 1944 a junho de 2019 [(https://raw.githubusercontent.com/rnwatanabe/BasesComputacionais2021/main/dados/inflacaoMensal.csv)](https://raw.githubusercontent.com/rnwatanabe/BasesComputacionais2021/main/dados/inflacaoMensal.csv)(dados disponibilizados por Ipeadata). \n",
    "\n",
    "- Calcule a mediana da inflação mensal nos meses de março a partir de 1995.\n",
    "\n",
    "- Calcule a média da inflação mensal nos meses de março a partir de 1995.\n",
    "\n",
    "- Calcule o desvio-padrão da inflação mensal nos meses de março a partir de 1995.\n",
    "\n",
    "- Faça o histograma da inflação mensal nos meses de março a partir de 1995.\n",
    "\n",
    "- Coloque um comentário no seu script comentando a razão da diferença entre a média e a mediana ser alta no segundo item e baixa no terceiro item."
   ]
  },
  {
   "cell_type": "markdown",
   "metadata": {
    "slideshow": {
     "slide_type": "slide"
    }
   },
   "source": [
    "**5)** Use o comando 'np.random.rand(N)' para gerar N números aleatórios entre 0 e 1. \n",
    "\n",
    "Faça o histograma e calcule (e mostre na tela) a média dos valores gerados.\n",
    "\n",
    "Faça isso para a) N = 100, N = 1000, c) N = 10000, d) N = 100000"
   ]
  },
  {
   "cell_type": "markdown",
   "metadata": {
    "slideshow": {
     "slide_type": "slide"
    }
   },
   "source": [
    "### Referências\n",
    "\n",
    "- Chalco, JM, *Slides de Bases Computacionais da Ciência*, (2014)\n",
    "- Leite, S, *Slides de Bases Computacionais da Ciência*, (2018)\n",
    "- [Marietto, MGB et al.; **Bases computacionais da Ciência** (2013)](http://prograd.ufabc.edu.br/images/pdf/bases_computacionais_livro.pdf).\n",
    "- [BDS: Balance Data Set](https://github.com/BMClab/datasets/tree/master/Balance)\n",
    "- [Ipeadata](http://www.ipeadata.gov.br)"
   ]
  },
  {
   "cell_type": "code",
   "execution_count": null,
   "metadata": {},
   "outputs": [],
   "source": []
  }
 ],
 "metadata": {
  "celltoolbar": "Slideshow",
  "kernelspec": {
   "display_name": "Python 3",
   "language": "python",
   "name": "python3"
  },
  "language_info": {
   "codemirror_mode": {
    "name": "ipython",
    "version": 3
   },
   "file_extension": ".py",
   "mimetype": "text/x-python",
   "name": "python",
   "nbconvert_exporter": "python",
   "pygments_lexer": "ipython3",
   "version": "3.8.8"
  },
  "latex_envs": {
   "LaTeX_envs_menu_present": true,
   "autoclose": false,
   "autocomplete": true,
   "bibliofile": "biblio.bib",
   "cite_by": "apalike",
   "current_citInitial": 1,
   "eqLabelWithNumbers": true,
   "eqNumInitial": 1,
   "hotkeys": {
    "equation": "Ctrl-E",
    "itemize": "Ctrl-I"
   },
   "labels_anchors": false,
   "latex_user_defs": false,
   "report_style_numbering": false,
   "user_envs_cfg": false
  },
  "nbTranslate": {
   "displayLangs": [
    "*"
   ],
   "hotkey": "alt-t",
   "langInMainMenu": true,
   "sourceLang": "en",
   "targetLang": "fr",
   "useGoogleTranslate": true
  }
 },
 "nbformat": 4,
 "nbformat_minor": 4
}
