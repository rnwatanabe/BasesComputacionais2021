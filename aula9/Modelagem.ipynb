{
 "cells": [
  {
   "cell_type": "markdown",
   "metadata": {
    "slideshow": {
     "slide_type": "slide"
    }
   },
   "source": [
    "# Modelagem e Simulação Computacional\n",
    "\n",
    "Renato Naville Watanabe"
   ]
  },
  {
   "cell_type": "markdown",
   "metadata": {
    "slideshow": {
     "slide_type": "slide"
    }
   },
   "source": [
    "## Motivação\n",
    "\n",
    "A Modelagem e Simulação Computacional está cada vez mais presente em diversas áreas. \n",
    "Permitem estudar sistemas reais de maneira aproximada, através modelos matemáticos que os representam. \n",
    "\n",
    "Tais modelos são implementados em simulações computacionais, que são executadas visando obter um melhor entendimento do sistema real."
   ]
  },
  {
   "cell_type": "markdown",
   "metadata": {
    "slideshow": {
     "slide_type": "slide"
    }
   },
   "source": [
    "Desta forma, a Modelagem e Simulação Computacional configuram-se como uma poderosa ferramenta para:\n",
    "\n",
    "- Observar comportamentos;\n",
    "- Testar teorias e hipóteses;\n",
    "- Predizer comportamentos e ações futuras;"
   ]
  },
  {
   "cell_type": "markdown",
   "metadata": {
    "slideshow": {
     "slide_type": "slide"
    }
   },
   "source": [
    "### Sistema\n",
    "\n",
    "Um sistema é uma combinação de componentes agindo em conjunto para realizar um objetivo específico. \n",
    "\n",
    "Não é limitado aos fenômenos físicos. O conceito de um sistema pode ser estendido a fenômenos abstratos, tais como aqueles encontrados em economia, transporte, crescimento populacional e biologia."
   ]
  },
  {
   "cell_type": "markdown",
   "metadata": {
    "slideshow": {
     "slide_type": "slide"
    }
   },
   "source": [
    "### Formas de se estudar um sistema\n",
    "\n",
    "Há algumas formas de se estudar um sistema:\n",
    "    \n",
    "- Experimentos com o Sistema Real.\n",
    "- Experimentos com Modelos Físicos.\n",
    "- Experimentos com Modelos Matemáticos."
   ]
  },
  {
   "cell_type": "markdown",
   "metadata": {
    "slideshow": {
     "slide_type": "slide"
    }
   },
   "source": [
    "### Experimentos com o Sistema Real\n",
    "\n",
    "Podem ser empregados quando é possível trabalhar diretamente com o sistema real, atuando em seus elementos e/ou alterando sua configuração. \n",
    "\n",
    "Como exemplo tem-se um experimento real de teste de impacto (ou crash-test).\n",
    "<table><tr>\n",
    "<td>    <img src=\"crash2.jpg\" width=\"400\" /></td>\n",
    "</tr></table>\n"
   ]
  },
  {
   "cell_type": "markdown",
   "metadata": {
    "slideshow": {
     "slide_type": "slide"
    }
   },
   "source": [
    "Tratar diretamente com o sistema real pode não ser possível:\n",
    "O experimento pode ser muito caro ou perigoso. Por exemplo, analisar pessoas em uma situação de incêndio.\n",
    "\n",
    "<table><tr>\n",
    "<td>    <img src=\"fogo.png\" width=\"400\" /></td>\n",
    "</tr></table>\n"
   ]
  },
  {
   "cell_type": "markdown",
   "metadata": {
    "slideshow": {
     "slide_type": "slide"
    }
   },
   "source": [
    "Pode ser impossível tratar diretamente com sistemas reais. \n",
    "\n",
    "Exemplo: a análise dos buracos negros, ou situações onde não há evidências da existência do sistema.\n",
    "\n",
    "<table><tr>\n",
    "<td>    <img src=\"black_hole.jpg\" width=\"400\" /></td>\n",
    "</tr></table>\n"
   ]
  },
  {
   "cell_type": "markdown",
   "metadata": {
    "slideshow": {
     "slide_type": "slide"
    }
   },
   "source": [
    "Em muitas situações é necessário construir um modelo que represente parcialmente o sistema e realizar experimento com este modelo.\n",
    "\n",
    "Desta forma, é possível estudar o sistema real de maneira indireta, deixando-o inalterado.\n",
    "\n",
    "Um **modelo** é uma representação parcial de um objeto, sistema ou ideia."
   ]
  },
  {
   "cell_type": "markdown",
   "metadata": {
    "slideshow": {
     "slide_type": "slide"
    }
   },
   "source": [
    "### Modelos físicos\n",
    "\n",
    "Os modelos físicos consideram: experimentos com objetos reais\n",
    "tais objetos atuam como representações parciais do sistema que se\n",
    "deseja estudar\n",
    "\n",
    "Como exemplo: mapas, maquetes e modelos animais.\n",
    "    \n",
    "<table><tr>\n",
    "<td>    <img src=\"model.jpg\" width=\"300\" /></td>\n",
    "<td>    <img src=\"plane_model.jpg\" width=\"300\" /></td>\n",
    "<td>    <img src=\"animal.jpg\" width=\"300\" /></td>\n",
    "</tr></table>"
   ]
  },
  {
   "cell_type": "markdown",
   "metadata": {
    "slideshow": {
     "slide_type": "slide"
    }
   },
   "source": [
    "### Modelo matemático\n",
    "\n",
    "Modelos matemáticos usam símbolos em lugar de dispositivos físicos, procurando representar  as principais características e comportamentos do sistema alvo que se deseja analisar.\n",
    "\n",
    "Há duas formas de solução de modelos matemáticos:\n",
    "\n",
    "- Solução analítica\n",
    "- **Solução numérica (via simulação computacional)**"
   ]
  },
  {
   "cell_type": "markdown",
   "metadata": {},
   "source": [
    "## Geração de Números aleatórios\n",
    "\n",
    "Uma parte importante das simulações e  modelos computacionais é a geração de números aleatórios.\n",
    "\n",
    "Isso pode ser feito com a biblioteca random:"
   ]
  },
  {
   "cell_type": "code",
   "execution_count": 2,
   "metadata": {},
   "outputs": [],
   "source": [
    "import random as rd"
   ]
  },
  {
   "cell_type": "markdown",
   "metadata": {},
   "source": [
    "A biblioteca random tem várias funções. Por exemplo, para sortear um número inteiro que está contido dentro de um intervalo, é possível usar a função randint(a,b) da biblioteca random, em que a é o início do intervalo e b é o fim do intervalo.\n",
    "\n",
    "Por exemplo, para sortear um número inteiro entre 1 e 10, basta usar o seguinte código. Tente executar diversas vezes. Cada vez será sorteado um número diferente:"
   ]
  },
  {
   "cell_type": "code",
   "execution_count": 10,
   "metadata": {},
   "outputs": [
    {
     "data": {
      "text/plain": [
       "9"
      ]
     },
     "execution_count": 10,
     "metadata": {},
     "output_type": "execute_result"
    }
   ],
   "source": [
    "rd.randint(1, 10)"
   ]
  },
  {
   "cell_type": "markdown",
   "metadata": {},
   "source": [
    "Para sortear um número real contido dentro de um intervalo, com igual probabilidade para qualquer número, existe a função uniform(a, b) em que a e b são os limites do intervalo. "
   ]
  },
  {
   "cell_type": "code",
   "execution_count": 12,
   "metadata": {},
   "outputs": [
    {
     "data": {
      "text/plain": [
       "3.5662177965157573"
      ]
     },
     "execution_count": 12,
     "metadata": {},
     "output_type": "execute_result"
    }
   ],
   "source": [
    "rd.uniform(1, 10)"
   ]
  },
  {
   "cell_type": "markdown",
   "metadata": {},
   "source": [
    "Para sortear um número entre algumas opções, pode-se usar a função choice([l_1, l_2, ...,l_n]), em que l_i são as opções do sorteio, que devem ficar entre colchetes.\n",
    "\n",
    "Por exemplo, para sortear entre 'Amarelo' e 'Azul':"
   ]
  },
  {
   "cell_type": "code",
   "execution_count": 14,
   "metadata": {},
   "outputs": [
    {
     "data": {
      "text/plain": [
       "'Azul'"
      ]
     },
     "execution_count": 14,
     "metadata": {},
     "output_type": "execute_result"
    }
   ],
   "source": [
    "rd.choice(['Amarelo', 'Azul'])"
   ]
  },
  {
   "cell_type": "markdown",
   "metadata": {},
   "source": [
    "## Exemplos de Modelagem e Simulação"
   ]
  },
  {
   "cell_type": "markdown",
   "metadata": {},
   "source": [
    "### Problema da ruína do jogador"
   ]
  },
  {
   "cell_type": "markdown",
   "metadata": {},
   "source": [
    "O problema da Ruína do Jogador é um problema clássico em estatística, probabilidade, e processos estocásticos. O problema simula um jogo de azar com as seguintes regras:\n",
    "\n",
    "- O jogador tem uma quantia inicial de dinheiro.\n",
    "- A cada rodada o jogador aposta uma quantidade de dinheiro menor ou igual a quantidade de dinheiro que ele possui naquela rodada.\n",
    "- Existe uma chance igual de ganhar ou perder a cada rodada (jogo justo).\n",
    "- Se o jogador ganhar, ele ganha a quantidade apostada.\n",
    "- Se o jogador perder, ele perde a quantidade apostada.\n",
    "- Se o jogador ficar sem dinheiro, o jogo acaba."
   ]
  },
  {
   "cell_type": "markdown",
   "metadata": {},
   "source": [
    "Vamos supor uma situação que o jogador tem 1000 reais para apostar e a cada rodada ele aposta 50 reais."
   ]
  },
  {
   "cell_type": "code",
   "execution_count": 20,
   "metadata": {},
   "outputs": [
    {
     "name": "stdout",
     "output_type": "stream",
     "text": [
      "O jogo acabou depois da rodada  570\n"
     ]
    }
   ],
   "source": [
    "creditos = 1000\n",
    "\n",
    "aposta = 50\n",
    "\n",
    "rodada = 0\n",
    "while creditos > 0:\n",
    "    sorteio = rd.choice(['ganhou', 'perdeu'])\n",
    "    if sorteio == 'ganhou':\n",
    "        creditos = creditos + aposta\n",
    "    else:\n",
    "        creditos = creditos - aposta\n",
    "    \n",
    "    rodada = rodada + 1\n",
    "print('O jogo acabou depois da rodada ', rodada)"
   ]
  },
  {
   "cell_type": "markdown",
   "metadata": {},
   "source": [
    "Uma pergunta que é possível de ser respondida com esse tipo de simulação é depois de quantas rodadas é esperado que o jogador fique sem dinheiro?\n",
    "\n",
    "Para tentar responder isso, podemos fazer a simulação acima várias vezes e depois calcular a média. Quanto mais vezes, mais próximo da realidade será a estimativa do valor esperado do número de rodadas até o jogador ficar sem dinheiro. Para isso, vamos usar um `for`, para repetir 1000 vezes o jogo:"
   ]
  },
  {
   "cell_type": "code",
   "execution_count": 37,
   "metadata": {},
   "outputs": [
    {
     "name": "stdout",
     "output_type": "stream",
     "text": [
      "149709.742\n"
     ]
    }
   ],
   "source": [
    "import numpy as np\n",
    "N = 1000\n",
    "\n",
    "rodadas = np.zeros(N)\n",
    "for i in range(N):\n",
    "    creditos = 1000\n",
    "\n",
    "    aposta = 50\n",
    "\n",
    "    rodada = 0\n",
    "    while creditos > 0:\n",
    "        sorteio = rd.choice(['ganhou', 'perdeu'])\n",
    "        if sorteio == 'ganhou':\n",
    "            creditos = creditos + aposta\n",
    "        else:\n",
    "            creditos = creditos - aposta\n",
    "\n",
    "        rodada = rodada + 1\n",
    "    rodadas[i] = rodada\n",
    "print(np.mean(rodadas))"
   ]
  },
  {
   "cell_type": "markdown",
   "metadata": {},
   "source": [
    "### Problema das bolas azuis e vermelhas"
   ]
  },
  {
   "cell_type": "markdown",
   "metadata": {},
   "source": [
    "Um outro problema consiste na simulação de um jogo com as seguintes regras:\n",
    "\n",
    "- Uma caixa azul tem 100 bolas azuis e uma caixa vermelha tem 100 bolas vermelhas\n",
    "- A cada rodada é sorteada uma caixa. As duas caixas têm igual probabilidade de serem sorteadas.\n",
    "- É escolhida uma bola da caixa sorteada. Cada bola tem igual probabilidade de ser escolhida.\n",
    "- A bola escolhida vai para a outra caixa.\n",
    "- O jogo termina quando a caixa azul tiver as 100 bolas vermelhas ou quando a caixa vermelha tiver as 100 bolas azuis."
   ]
  },
  {
   "cell_type": "markdown",
   "metadata": {},
   "source": [
    "Uma possível implementação desse jogo está no código abaixo. A cada 100 rodadas (no if a condição é rodada  % 100 == 0) é mostrada quantas bolas azuis a caixa vermelha tem e quantas bolas vermelhas a caixa azul tem. A condição para o jogo continuar é que as bolas azuis na caixa vermelha e as bolas vermelhas na caixa azul forem menores do que 100."
   ]
  },
  {
   "cell_type": "code",
   "execution_count": 22,
   "metadata": {},
   "outputs": [
    {
     "name": "stdout",
     "output_type": "stream",
     "text": [
      "100 37 31\n",
      "200 42 46\n",
      "300 32 48\n",
      "400 35 57\n",
      "500 30 60\n",
      "600 31 65\n",
      "700 34 62\n",
      "800 41 61\n",
      "900 48 56\n",
      "1000 38 56\n",
      "1100 41 65\n",
      "1200 55 57\n",
      "1300 48 58\n",
      "1400 42 60\n",
      "1500 41 57\n",
      "1600 42 62\n",
      "1700 49 53\n",
      "1800 38 62\n",
      "1900 24 68\n",
      "2000 26 78\n",
      "2100 32 68\n",
      "2200 28 58\n",
      "2300 27 63\n",
      "2400 29 63\n",
      "2500 22 70\n",
      "2600 22 72\n",
      "2700 20 82\n",
      "2800 19 81\n",
      "2900 27 79\n",
      "3000 27 77\n",
      "3100 28 74\n",
      "3200 19 81\n",
      "3300 16 86\n",
      "3400 16 78\n",
      "3500 21 87\n",
      "3600 21 85\n",
      "3700 22 76\n",
      "3800 18 72\n",
      "3900 15 81\n",
      "4000 18 82\n",
      "4100 16 80\n",
      "4200 13 85\n",
      "4300 13 81\n",
      "4400 9 85\n",
      "4500 10 92\n",
      "4600 9 97\n",
      "4700 6 92\n",
      "4800 14 84\n",
      "4900 19 77\n",
      "5000 17 83\n",
      "5100 19 75\n",
      "5200 19 79\n",
      "5300 18 80\n",
      "5400 12 88\n",
      "5500 8 90\n",
      "5600 17 87\n",
      "5700 29 89\n",
      "5800 20 84\n",
      "5900 16 78\n",
      "6000 10 90\n",
      "6100 16 88\n",
      "6200 12 86\n",
      "6300 17 75\n",
      "6400 19 75\n",
      "6500 19 79\n",
      "6600 20 66\n",
      "6700 26 76\n",
      "6800 33 71\n",
      "6900 28 78\n",
      "7000 32 68\n",
      "7100 32 56\n",
      "7200 25 65\n",
      "7300 31 71\n",
      "7400 34 62\n",
      "7500 35 59\n",
      "7600 38 70\n",
      "7700 29 71\n",
      "7800 29 65\n",
      "7900 36 62\n",
      "8000 46 58\n",
      "8100 38 54\n",
      "8200 42 58\n",
      "8300 35 59\n",
      "8400 39 63\n",
      "8500 38 62\n",
      "8600 39 47\n",
      "8700 42 48\n",
      "8800 52 44\n",
      "8900 54 44\n",
      "9000 64 36\n",
      "9100 64 32\n",
      "9200 66 34\n",
      "9300 64 38\n",
      "9400 62 32\n",
      "9500 54 34\n",
      "9600 59 39\n",
      "9700 67 41\n",
      "9800 50 26\n",
      "9900 59 27\n",
      "10000 63 33\n",
      "10100 54 34\n",
      "10200 65 37\n",
      "10300 67 33\n",
      "10400 72 30\n",
      "10500 79 29\n",
      "10600 70 30\n",
      "10700 76 22\n",
      "10800 69 29\n",
      "10900 74 26\n",
      "11000 75 27\n",
      "11100 70 34\n",
      "11200 71 31\n",
      "11300 71 31\n",
      "11400 77 17\n",
      "11500 73 19\n",
      "11600 66 32\n",
      "11700 61 33\n",
      "11800 61 41\n",
      "11900 63 37\n",
      "12000 69 37\n",
      "12100 71 33\n",
      "12200 57 27\n",
      "12300 56 38\n",
      "12400 57 43\n",
      "12500 61 35\n",
      "12600 65 35\n",
      "12700 67 33\n",
      "12800 68 20\n",
      "12900 73 27\n",
      "13000 80 24\n",
      "13100 86 20\n",
      "13200 90 8\n",
      "13300 95 13\n",
      "13400 96 2\n",
      "13477 100 1\n"
     ]
    }
   ],
   "source": [
    "bola_azul_caixa_azul = 100\n",
    "bola_azul_caixa_vermelha = 0\n",
    "bola_vermelha_caixa_azul = 0\n",
    "bola_vermelha_caixa_vermelha = 100\n",
    "\n",
    "rodada = 0\n",
    "\n",
    "while bola_azul_caixa_vermelha < 100 and bola_vermelha_caixa_azul < 100:\n",
    "    sorteio_caixa = rd.choice(['azul', 'vermelha'])\n",
    "    if sorteio_caixa == 'azul':\n",
    "        numero_bolas = bola_azul_caixa_azul + bola_vermelha_caixa_azul\n",
    "        if numero_bolas > 0:\n",
    "            sorteio_bolas = rd.randint(1, numero_bolas)\n",
    "            if sorteio_bolas <= bola_azul_caixa_azul:\n",
    "                bola_azul_caixa_azul = bola_azul_caixa_azul - 1\n",
    "                bola_azul_caixa_vermelha = bola_azul_caixa_vermelha + 1\n",
    "            else:\n",
    "                bola_vermelha_caixa_azul = bola_vermelha_caixa_azul - 1\n",
    "                bola_vermelha_caixa_vermelha = bola_vermelha_caixa_vermelha + 1\n",
    "    else:\n",
    "        numero_bolas = bola_azul_caixa_vermelha + bola_vermelha_caixa_vermelha\n",
    "        if numero_bolas > 0:\n",
    "            sorteio_bolas = rd.randint(1, numero_bolas)\n",
    "            if sorteio_bolas <= bola_vermelha_caixa_vermelha:\n",
    "                bola_vermelha_caixa_vermelha = bola_vermelha_caixa_vermelha - 1\n",
    "                bola_vermelha_caixa_azul = bola_vermelha_caixa_azul + 1\n",
    "            else:\n",
    "                bola_azul_caixa_vermelha = bola_azul_caixa_vermelha - 1\n",
    "                bola_azul_caixa_azul = bola_azul_caixa_azul + 1\n",
    "    rodada = rodada + 1\n",
    "    if rodada % 100 == 0: print(rodada, bola_azul_caixa_vermelha, bola_vermelha_caixa_azul)\n",
    "        \n",
    "print(rodada, bola_azul_caixa_vermelha, bola_vermelha_caixa_azul)"
   ]
  },
  {
   "cell_type": "markdown",
   "metadata": {
    "slideshow": {
     "slide_type": "slide"
    }
   },
   "source": [
    "### Estimativa de $\\pi$\n",
    "\n",
    "Iremos fazer uma simulação computacional para estimar o\n",
    "valor de $\\pi$.\n",
    "\n",
    "A simulação consiste na geração de números aleatórios para calcular propriedades de interesse."
   ]
  },
  {
   "cell_type": "markdown",
   "metadata": {
    "slideshow": {
     "slide_type": "slide"
    }
   },
   "source": [
    "Considere um quadrado com um circulo circunscrito:\n",
    "\n",
    "![circ](circulo.png)\n",
    "\n",
    "Sabe-se que:\n",
    "\n",
    "- **Área do quadrado**: \n",
    "$$A_Q = l^2 = (2r)^2 = 4r^2$$\n",
    "\n",
    "- **Área do círculo**: \n",
    "\n",
    "$$A_C = \\pi r^2$$\n",
    "\n",
    "Desta forma, temos:\n",
    "\n",
    "$$\\frac{A_C}{A_Q} = \\frac{\\pi r^2}{4r^2} \\rightarrow \\pi = 4\\frac{A_C}{A_Q} $$"
   ]
  },
  {
   "cell_type": "markdown",
   "metadata": {
    "slideshow": {
     "slide_type": "slide"
    }
   },
   "source": [
    "A simulação é utilizada para estimar a relação entre as áreas da circunferência e do quadrado. Ou seja, para estimar:\n",
    "\n",
    "$$\\frac{A_C}{A_Q}$$\n",
    "\n",
    "Para tornar os cálculos mais simples, assume-se que o quadrado tenha um lado de tamanho $l = 1$. Assim, o raio da circunferência é $r = \\frac{1}{2}$."
   ]
  },
  {
   "cell_type": "markdown",
   "metadata": {
    "slideshow": {
     "slide_type": "slide"
    }
   },
   "source": [
    "Utilizando um computador sorteamos aleatoriamente alguns pares de números aleatórios no intervalo [0, 1]. \n",
    "\n",
    "Cada par de números representará as coordenadas x e y de um ponto que pertence à área do quadrado.\n",
    "\n",
    "\n",
    "\n",
    "Podemos estimar a proporção entre as áreas do círculo e do quadrado contando quantos pontos caem sobre cada uma das figuras.\n",
    "\n",
    "$$\\frac{A_C}{A_Q} \\approx \\frac{\\text{número de pontos dentro do círculo}}{\\text{total de pontos}}$$\n",
    "\n",
    "\n",
    "<table><tr>\n",
    "<td>   <img src=\"circ3.png\" width=\"400\" /></td>\n",
    "</tr></table>\n",
    "\n"
   ]
  },
  {
   "cell_type": "markdown",
   "metadata": {
    "slideshow": {
     "slide_type": "slide"
    }
   },
   "source": [
    "Dadas as coordenadas $(x, y)$ de um ponto A qualquer, oriundas de um sorteio aleatório, podemos saber se o ponto está dentro ou fora do círculo, calculando a distância Euclideana entre A e o centro do círculo C (com coordenadas $x_C = 0.5$ e $y_C = 0.5$).\n",
    "\n",
    "![dist](circ4.png)\n",
    "\n",
    "$$d = \\sqrt{\\Delta x^2 + \\Delta y^2} = \\sqrt{(x_C-x_A)^2 + (y_C-y_A)^2}$$\n",
    "\n",
    "\n",
    "\n",
    "Se a distância $d$ for menor ou igual a $r$, o ponto está dentro do círculo. "
   ]
  },
  {
   "cell_type": "markdown",
   "metadata": {},
   "source": [
    "Uma implementação para essa estimativa está abaixo. Nessa simulação é considerado um quadrado de lado 1. Com isso, o centro está em 0,5 na direção x e 0,5 na direção y. A cada iteração do for é sorteado um número x entre 0 e 1 e um número y entre 0 e 1."
   ]
  },
  {
   "cell_type": "code",
   "execution_count": 69,
   "metadata": {},
   "outputs": [
    {
     "name": "stdout",
     "output_type": "stream",
     "text": [
      "Estimativa de pi com 10000 pontos é 3.1352\n"
     ]
    }
   ],
   "source": [
    "N = 10000\n",
    "\n",
    "x_c = 0.5\n",
    "y_c = 0.5\n",
    "\n",
    "pontos_dentro = 0\n",
    "\n",
    "for i in range(N):\n",
    "    x = rd.uniform(0,1)\n",
    "    y = rd.uniform(0,1)\n",
    "    \n",
    "    d = np.sqrt((x-x_c)**2 + (y-y_c)**2)\n",
    "    \n",
    "    if d < 0.5:\n",
    "        pontos_dentro = pontos_dentro + 1\n",
    "\n",
    "pi_est = 4*pontos_dentro/N\n",
    "\n",
    "print('Estimativa de pi com', N, 'pontos é', pi_est)"
   ]
  },
  {
   "cell_type": "markdown",
   "metadata": {},
   "source": [
    "### Exemplo básico de algoritmo evolutivo"
   ]
  },
  {
   "cell_type": "markdown",
   "metadata": {},
   "source": [
    "Algoritmos evolutivos são algoritmos baseados na teoria da evolução, em que mudanças aleatórias são selecionadas com base em algum critério para chegar a um objetivo."
   ]
  },
  {
   "cell_type": "markdown",
   "metadata": {},
   "source": [
    "No exemplo abaixo não há qualquer tipo de seleção. O objetivo é chegar na frase 'bases computacionais da ciencia'. A cada rodada são sorteados caracteres. Isso se repete até que a o conjunto de caracteres seja igual à frase desejada. Para isso não continuar indefinidamente, colocou-se um limite de 300 sorteios."
   ]
  },
  {
   "cell_type": "code",
   "execution_count": 78,
   "metadata": {},
   "outputs": [
    {
     "name": "stdout",
     "output_type": "stream",
     "text": [
      "hbi duxjumpdbbgpxlkopnegwxksthx\n",
      "ucapatxseogvpgi mlvrhvlzq c vzb\n",
      "rvudwz srhzlkvvjmgftgwnbbojaqtt\n",
      "ndneisihfhamxevzpquinyhqvgmuusn\n",
      "mnozckziwmammvgcpyqucnstwixkjzs\n",
      "wak kdahcwkgloesnwwkopsnmujfsof\n",
      "cnmjtnugokohtrojlpdm lgsooqouow\n",
      "hxmyqwrsqwjltnctyxxyfgxkjhbldgo\n",
      "fcflxgvqdkgjmztrdelozjcvjapbpoo\n",
      "daoswrckdhermtdegugczpfnfocguyu\n",
      "bqqhrh oyiyarkfaldmdbsjbgeegnja\n",
      "femvgpcimxjeadbdjffff fryeyqxzo\n",
      "hvilvwrkyheilvnaacfnzbdxxdayqsi\n",
      "ueqsopbdbj eflsoepetripdvnpigmm\n",
      "qqbudegynzuzhrtvsqbbg afptrbdsf\n",
      "dmbxpgjwqkuiqwcbvgdkouiskjhgdb \n",
      "lbya lumtswwnbpnmzskflhxxcptdis\n",
      "zomkck mhagelrsuydfturedaaiopyr\n",
      "kjo utfebcvlcssotuziheigjaatuoo\n",
      "nyuicowfrcopaenliefhvxglorohy o\n",
      "dtfsxrwiwtm jnxokzmmtlldwpisxxf\n",
      "coxs bhukvevfjisoabuin pcd rhhi\n",
      "adslcnaldreneveucrufnxqphebef l\n",
      "baleteaduvkjiblqujutv efjmpwn h\n",
      "eimvsboechmtescjpzrecxbuwvazakn\n",
      "nox amtkzprqmcroadvnngqqezdgygy\n",
      "bwavnzgautkzpgkzvllxhyedj aqdht\n",
      "gcytnzplbenerxpctletcxrhacozzhx\n",
      "egsxchgosvweqdnhtpxddqfhkweszle\n",
      "a ccrenicdydhdcmwvxesitxsqfwklp\n",
      "leq cytlhwslznalyfjdmekrcva lqc\n",
      "vlprxlkskqhmmidubocursmkjqlzdrf\n",
      "qppzjmjfolczopnkxcforuizhnmawne\n",
      "f utkpvxsdqhocirununagqdkdoksbr\n",
      "ogqddobkxtacpqbucyxtgn damyafep\n",
      "xwzeanihxwsnkacawdr cbtidvvfnah\n",
      "molxqlc xbdcrkgrhatfjuab cgnhta\n",
      "qedidcxttoozsqoijgyrcwlqdippzji\n",
      "uiwgizounbbyfotcxlgxsfkulbkekbm\n",
      "pwxqtteaabcegywuyiofcpegixckmnt\n",
      "cygsfkpnxbpoebqfjkcliybrxnjksuk\n",
      "at dyzrcroojtzclceldevkbsuesmqq\n",
      "lqrwpjnttqykgcuunzshwcnpplrzlhx\n",
      "oaxtzath ekzjjc hozgrevhrbypqoc\n",
      "cxzhylccoqsqjmqfihwtiowyctbyrex\n",
      "vvncblremchgkbbwkpddzkubweorkyw\n",
      "dcazsgzukhcdsmt acgcqwunpwlsbgq\n",
      "xlinqwizglmonvlrarsdc iqlnyptfg\n",
      "cgofen oek zapmnalsvqibnlwwwqyl\n",
      "rfjodl msembqrhmdkuvtntbluukvva\n",
      "vhnofsedoxbtn veougqsqptxbxyumq\n",
      "uvp hiupsyvhycmekevnuq tmqkzznx\n",
      "caquucwmsxcfeqgxnaakd iiczhvlnf\n",
      "yw ekxwdjikuuopfyg lfeotqqqslef\n",
      "wqfcqrznlvsbdkyc kc kkzeftrzrab\n",
      "wkynfytvlddyqsfp dgis qswtofzdi\n",
      "oxosot muxikhnhvazcid tv ppgaqa\n",
      "vbmmzzbp lujcgp nnuevlubagtfbmy\n",
      "fnf  mwqfxsqgei xlyqrconshhnlkc\n",
      "uas wiedyaywtxww a boygseqdqu e\n",
      "gfxkftalyndofvslpezqklilroskwhn\n",
      "jcfcinhnlryldnksxbkvcxdbwonrp d\n",
      "auhamneyvwcnwenjebbnimxvfv  whm\n",
      "utvckztvswgutiigvpdpqupwihuigki\n",
      "zobalntzpgxwgycwvlxzmebnx fq jf\n",
      "znbbzaljfnqmjvqrkseda ckwsigab \n",
      "rkbbw kiwgkbfeaodkkselgecfsdrfq\n",
      "xmhddzepdcmhamgkaixalynjrd cdvs\n",
      "fcvlxjax ofgizywbl rdvlweugpnrm\n",
      "hugwrcttnvgnmfejlzhduspbowkrosz\n",
      "gbueahkcacmycypttawb huiwl pren\n",
      "lsmys vzaiiojvsj fbdvqqcrkuwskl\n",
      "pwohnsfmyrljfsguyjfewdexqdozoqe\n",
      "xrjtwqfsw ug qjevbmtgkifumfwhxc\n",
      "aysfqufoblzumpsv ovwh yxldcjefm\n",
      "l necgkykpvczprnlcagxwsufsuihvx\n",
      "ymvldrqonooghlizlipuoqhnerhhohf\n",
      "hbkrpmsbhjregonmohniburanlkmiml\n",
      "ceeg hsms plgrqmtorjiaiwusqfppk\n",
      "oispbssujfezroonnrpigjbzbhm riq\n",
      "awvyrcijlhetkjghobdalzhrzuwiard\n",
      "fe xxdsozrtybjxnsqnolofklapn ha\n",
      "xnbfzitndsaipjijltmdqus ozcqrhw\n",
      "hwcuidduflqkmeuyzggk vrtecpkfue\n",
      "hwrlrietmdtwfozwdusxptiioregdvv\n",
      "qa obfapjqwirykejuyuvklxgytcgvu\n",
      "sdqhdhjjajcfdnxnutamuteewljvdpt\n",
      "bkmwbfwih ehahjuxsvghglcgulbqer\n",
      "gutfcwgirwargabnbifzxvjjbwvfpqi\n",
      "ioyndhijxtziunlxdekjcsfj zopfqb\n",
      "fzpntpgbvkdltuvluzbbkon xrgd xw\n",
      "nshaenypea dsidtt r cefeqqihor \n",
      "zutg dmfnyjphcfxuknmuflinxu gxy\n",
      "kygfrjoqhpjkarqvsoapldqxpcdgfob\n",
      "sbadhwgyshfbevnw wzwenlnvseh cn\n",
      "hnvuajgvcuoklxswppuijsevmqsxhpn\n",
      "ftbuygtfjtnquuywxrqxrgktlvabkct\n",
      " yxvtsfjdeicanbzznxbddlobacsdqf\n",
      "viynbmoqfpgcuufvpremboeqkekgjr \n",
      "ojupfbqnznmtlmgndczcmrpnpdrlopp\n",
      "gbjrchofyosymdqzqdciuhmwysiilod\n",
      "jzhmhounzsyyecaewvcofoxuhbgjeru\n",
      "rowrslxxeojrhfj yqx kdtshjvhosd\n",
      "csrztuwewpekznxrracgwypjuqoirsx\n",
      "mhjgqoxdmrtmrpmxqbpddvpumwuedfe\n",
      "ommlrrlgepbdoyu qwzuynznvxjcvsd\n",
      "yfdqklqiemyuaptsumoycnzimprwidd\n",
      "uahicxraz ykkbuoqrhrbcy mumgmsa\n",
      "juogyzrxwtqlvsbvopmenlpqstzrwwc\n",
      "zccggolpirdahshoeibh jssqnrcvlo\n",
      "xtfbjmcfhllsyfizflgyorwiiccpifr\n",
      "nbqgejcmlvmnktaraaklgbejbjriwdt\n",
      "ucnzqktnlshhlw xkvrpvrrryqhxx q\n",
      "aieesnrj ouwcuvkwordsxq xicfi f\n",
      "kdihzgotkdettzbrltuiaxwokfwkfhv\n",
      "jancolm szoc pxwpkpqqferstycblx\n",
      "j wkkcsajuxtrdqkwkohvihywfku  m\n",
      "txazfvzmgwhrheezagixzalpsf pddl\n",
      "touirgwi aounnm kljkfmilgziehkz\n",
      "dvfylfhouygzb  hvrxofhiddyikhve\n",
      "ughqpttxchctxqkhti ez ruobsrzvi\n",
      "qjtciaydfjl fzuavuz sgcjecauksi\n",
      "gmaffgpofumewwdipo zjgygulv dot\n",
      "n y bolwqfuuswrivembznkozppboby\n",
      "zkj dbwyb fichvplwlnkegqqqsqcqb\n",
      "z xaglwpersilyakdkcfzbmsreggdbt\n",
      " ulxqgdcyxxblfstzrikyc tedbsebq\n",
      "mbhzuycotfcwmjbur uurvbhrksxftg\n",
      "uxujqzfbzqwvsfzagkrvfvcka phvvv\n",
      "febnaaabodjyywcp imwfukwkwqvatn\n",
      "czjxvsjvphjprqvtnyadlpekdufquen\n",
      "lpiggqiqnternyahwgdaspkinggysyy\n",
      "jfgqunreeiwavkvodcjnbqjasdtwq h\n",
      "yfxqyk kprd  nqlasgvquzr ooqkxt\n",
      "cazknepwtw sumflzmfqu pgdlnaayw\n",
      "twzxwgbqndswqjxg htaxfqhrmnlhco\n",
      "ipqtmblwxifykujbwcolczflbm daur\n",
      "jrdwqxgxhafccnuwiddrfojxdnqvsox\n",
      "ywqt xowrkz rkoknxiturvtdf dfxw\n",
      "muyrxfxhcowjkqnshgh bxzhwrajkld\n",
      "pgrpfyhzkboucwikpyzipqvixbllnib\n",
      "klszwjiodohfbnof bttjqzbttuocoy\n",
      "hoxznkusuydthygqvbntymygmncocrx\n",
      "rjbvjvhdmospqwwiuirmmwwbqxrhstt\n",
      "dtwogmmqfwqepacpatsluepyg kxsyb\n",
      "cpxfwmidbkyvihcxkwqlpqczbtcvfnp\n",
      "gf yrekndctfda pipwwahegronhqzq\n",
      "uswmpwzaqkcfjqikyogofgfhzosghef\n",
      "gwxpeldmbfosysjchsovovhtfpgjysa\n",
      "odswjnhglkntznicnwx pks cnbhqiu\n",
      "payacqdcmckbfxnytpvzzpdjgeikwie\n",
      "zjlbsolcztttyflylvlzfqfwlrhtlfk\n",
      "sacomeelkkurcdeosoffzxaexjmizkf\n",
      "vtjffiigsrlg yifnbpurljtutjukoj\n",
      "tnslxapvhtdtiwsjmgaheflbgijl tp\n",
      "ympqxmjbqmzqfrgoap vombwfpra mi\n",
      "lrghetqwmetyxxbhaijpbgjbjgalmtx\n",
      "kxwjdtltggoborwhzbapjdczcftvgzo\n",
      "oy gawavetcdehwsuulnuujnqgcbhkd\n",
      "pjerusjviamasyqoanmcovwykyqplsx\n",
      "szuyucvzxjy vttgqqkchlcouhqrwln\n",
      "mnhgotiskbfryad dlsxlkiwub nsz \n",
      "lazmozbqjnzthgtdofzvtxvkp plibd\n",
      "zoruqecwytbaxlqlsbggvdzw rbkpce\n",
      "sgnqncaccikzrwravcajjhltfxonqbp\n",
      "xvoqmynnuhitrzbqyhlyvfweopvbeqx\n",
      "mbwggbgpiopizho gjkdtwcs umpaus\n",
      "boc kimpiuavjsspqojtwihciaysgq \n",
      "mddqxfkmmxgbz szjlvdyarfdxthdgm\n",
      "tlombvpiptxdgbsjqp qyryujklqull\n",
      "vgzacvdcyuzgkhdsgbivsjr pbyx hg\n",
      "uxsnbnwzadgqymeiygekdkluihewrwo\n",
      "wpbvzsbvtwys iocgrewoniri frd i\n",
      "pgegyyuauiyyfpkdyplpr mtbbtzlts\n",
      "civhxmnaurgnwzgcptclrchcvwotqqx\n",
      "mgpzogk edcjh tt lxpmpfxlqfepjm\n",
      "riupoylp xqgxbw iijwckestwagswc\n",
      "tfcihwh nqetoqkyyrvwpqb degmouh\n",
      "lfevxa cdtzhiowuvrwk kra ouyvun\n",
      "sjopejikvgmmbapajhrdnaeecdzwxcc\n",
      "kopnvyrzequnyrpwegawkoyyrmisdsh\n",
      "nqbphkkfr ip heheeapl bwtmxczlg\n",
      "wogfocnqv czxzmmljtxnvhtbrsnzez\n",
      "wfzkvvxanhqvcbfgrgkxuzyyltoekvh\n",
      "yzlvj sdlrcl edmy txhnwkbqhhqxx\n",
      "  xtnzrfwwvdypixwrgijruulizqnje\n",
      "wdhp lzlwd roqshxhkdybyofvnhqew\n",
      "zaydsshtqwcroelfddnrzdhttqpdzww\n",
      "pe ucqmievswmaablatbwjbgngssc p\n",
      "qelatvvtohqg jtwleaxnhzwzbckhzh\n",
      "ktyklrlorvqelaxpysdxsil qvfanxb\n",
      "jjqirvzjwlltnxwtdtckdj vtafsccc\n",
      "oiandksrzics fbhjsfnlchyd jblds\n",
      "pnuhhezoirghy gppozqdsacjasdkvl\n",
      "ujhi hhrrlnzxdmypwtnwfpbkxrtdie\n",
      "wdyudy uifupr qfwjcdwtutej sabt\n",
      "wjxzpbkdkkukrmzzcbcvyccborayurx\n",
      "yedbnghysrtnbquhaipbvfbqmekcjfb\n",
      "ppjzeywuaubtifffvjulnfnozpqnmjk\n",
      " rpwtapnoo bzvdleqpzdpdp wjulzf\n",
      "kwgfjjeopazokzifrefiidilvevfaeg\n",
      "wkjfiu cewknrdosfbtliiizpvsnoun\n",
      "lqeuyxcqzhgnvpaka kdzi eyetyhrb\n",
      "kphhathmjdomsujxknvvgxprrylkmgs\n",
      "wycghay wpwbhcqpqdmqtmcgfolwxpu\n",
      "psgdfiesstvkfxbzychoazb wnpxcov\n",
      "qpkaxqsyccrotdhrmoyvkfhvnxvoiwg\n",
      "ogrjzllbplvxbmcogrusunnvnekausc\n",
      "kuqgg yjjpplryumuojgcxhaxl pugd\n",
      "qmlqxbjejitqogzmnjc tlsjvljoblo\n",
      "ivudelsgonkgnhgdkknkzktdvhpmvmv\n",
      "cltrxrmorholspigktwtuofgfzfftgn\n",
      "xxmntmcgyoedyau pggpgvtumdkgirc\n",
      "njuwpjylrbxqprxtnnxlmpdztfjfqku\n",
      "jtvduqefcikvfehy vzk okvvlzhvlz\n",
      "xf eyvtmlmjizkwzuvgfdjurtjkpgug\n",
      "mobgmwvwuhghoogau asieuxvbkhqed\n",
      "eofztmtketafpyumyxwqtchr wooqgh\n",
      "ocscatjvghamwukgemzjoepeccndawx\n",
      "jlawbuewshoplrqxvcaakwbemnrpvli\n",
      "il ybpnkaxbscoepzfimnzzztyuv py\n",
      "nzpyndwhbgcskajvfrttxqp vbruyzp\n",
      "spxunqiooknagxdzsjdffzoepcrsqzg\n",
      "zqeuy njxftxbmizcdehqgex fahwk \n",
      "vmrqfhac zxvliwuirisehylolptjla\n",
      "fllqyorvoivzjaiceajowxxhobwsasu\n",
      "kbaemffbwtvlxknohbnenranpanaowe\n",
      "rmahkimapuinpu  jdscaidplfimmuj\n",
      "jnpaovkdzgjzeakmlisqelmfqojiuxb\n",
      "ysm nkv zygikvqbyiengjr blexvmv\n",
      "qbderhxicobgxxamgcuckwu qcvxztf\n",
      "ltasrqnmizbuyuddazfvzvlftuxhbrr\n",
      "dxpmcnntzwkwjnoksqtjruhdacajaum\n",
      "tjeivdodsysojhfpqlrcojzvvqhfgoj\n",
      "rummjggaia pazhjdpvezyuhgvzhpra\n",
      "gvlxlqxfu booqotesqrvlkq blmleg\n",
      "avslekuxih kdjlaarmnlmorvrrsrdx\n",
      "wcyfwdoulfdlyay qmwjzrqzqyvvbbv\n",
      "yfpcrjflnxlalqyobguasmxcudrobjp\n",
      "ohnnfjthstzaquivklcj vxktixgfh \n",
      "gqkrjzbntadkgjxaln synvib yqxmm\n",
      "wuruellogpwkfavqhvruarfb tuduxw\n",
      "fnukdscfccpu wznqkjv ctwdwdqirf\n",
      "jdzzlsxkanylnmuyfgaiwjrsqpyxwfz\n",
      "wfaxylcwhduie wgiruyikegpxmviig\n",
      " jbpzuvwhimtyiqiv jbyyalfgogbyy\n",
      "ixdmbijhpkoy rqqtlqkstmgfhsbvpe\n",
      "wscfkvtitolzbn wvkoxbktvtgcidga\n",
      "qmjbiadkkrd cvqnaqmlffbp yvovms\n",
      "gaxwnoysuamslpfsxjgjhiyvvbbkjdg\n",
      "kkl ybqix ghbmfjivjxgorbd r lny\n",
      "hyttbmff prpeagzmnpl saxmmfjwvy\n",
      "kb xekutuarjxtvsushaifdnwztjzpn\n",
      "dar txcbksirmesbteirjdw flpigcv\n",
      "vvwrzvfgqstqhfglayd  apixt teyr\n",
      "woqdcehpipcgckvgtpimrnamggzizix\n",
      "vvvgxrzkqifubwhavguokifjaeznslq\n",
      "vdrhzzvh ytvutaiiaafylzrsztmotl\n",
      "v atpfunnozwhhoeufnbxxtvihmrfxo\n",
      "ysvfftvjxozmulticbzpdkhpqtgizon\n",
      "gdxgeuv zyaxemlusjrgqdrgflkakou\n",
      "p ayiebcjnajufxjkhumjrpdvgzysut\n",
      "xo mgoqnfxinguhvcghf zkjrecadao\n",
      "goaabriudmouptvigzecxffovxtwlfj\n",
      "pqwxofaurztrgzwkxrpdvjcy eoxahp\n",
      "chxxdbtsmvbzqwwrpmvagbotteaogwb\n",
      "ftijrgboupjdyaakqyivymmpwmwyntt\n",
      "wjyyb xxfgrbssgxigklupkwboobitr\n",
      "jasyfewlpnrockztmqsfhwfkllucxfw\n",
      "xxfbbtectjxilgjqoplminyxhyrijpy\n",
      "rbdaxuzmy ttfjmfordfwrbw lckhbg\n",
      "pmtxvbivechbqjy guludeefoctqpeh\n",
      "hqjwdpirhqthljmtekssplqvkwijxpn\n",
      "zyckcefhlgtvjimqatazllclbglfpnl\n",
      "xzuljjduimzdzwukzvavavrcrqefgbg\n",
      "hrwykfkmglaocmtnbnhocte tvrxitm\n",
      "hzppzyn whllfowekrifetegdr ksdd\n",
      "smonoukvpkl wgajgvneat oymkqlkx\n",
      "zhlbyqbokoejwnteuzrsdqpeagycjyk\n",
      "zsowcbmhwewomqooxfifsewyyudw os\n",
      "qekumqrpnnwrbphahdsnhtzpquo hdn\n",
      "yalsisxuaxklshwkuiqxhiixgybgewj\n",
      "kzuxliuzqqpjabtugclonaywiotujzp\n",
      "hkkdczkpiearsggbdembjvdnp qixmm\n",
      "dhjykxcgyhbyqmnahsjzdbut lfoxnv\n",
      "cywwnwf uevdkztotkzvpzlgcvqwskd\n",
      "usvyjkfizszujbtcyphxtbsnftaoaxk\n",
      "qdfafcrxrtsrxh dunazipqqzhzovif\n",
      "tuuwvlpceqjo hbiepghkaljboqxygr\n",
      "whor drer fcltvqnzdlfopev xunmr\n",
      "fksthowdfwbllinblvlbdk ny uoorf\n",
      "kjaannfsvvwukgkteibosmpepttinip\n",
      "mgvngjwmdskdksuvsvhbq jbjmuafau\n",
      "yfjjgbxktsgzicoplqdsgfcubkipw r\n",
      "tcycdipezsuzyhsbsqefwgyjklnlpcq\n",
      "fr ghkhakl xwnpknwmahlrgshtosdp\n",
      "dqd pgqjmmhbzrtprkrglxdjbonxjnb\n",
      "ydkkvircionlsnpadcbwsrraqcjiqce\n",
      "ypwvztilswsnxoyxjafoivoivashclo\n",
      "qatucwu tpvfrome ohuaiuknltqjmg\n"
     ]
    }
   ],
   "source": [
    "frase = 'bases computacionais da ciencia'\n",
    "\n",
    "frase_sorteada = [' ']*len(frase)\n",
    "\n",
    "\n",
    "n = 0\n",
    "while frase_sorteada != frase and n < 300:\n",
    "    frase_sorteada = list(frase_sorteada)\n",
    "    for i in range(len(frase)):\n",
    "        frase_sorteada[i] = rd.choice(['a', 'b', 'c', 'd', 'e', 'f', 'g', 'h', 'i', 'j', 'k',\n",
    "                                       'l', 'm', 'n', 'o', 'p', 'q', 'r', 's', 't', 'u', 'v',\n",
    "                                       'w', 'x', 'y', 'z', ' '])\n",
    "    frase_sorteada = ''.join(frase_sorteada)\n",
    "    \n",
    "    n = n + 1\n",
    "    print(frase_sorteada)"
   ]
  },
  {
   "cell_type": "markdown",
   "metadata": {},
   "source": [
    "Após 300 repetições, nenhuma foi igual à frase desejada. Então como critério de seleção, podemos analisar se cada  caracter já está correto. Se ele for igual ao caracter da frase desejada, ele é mantido. Senão é sorteado um novo caracter. Isso permite que depois de algumas iterações o sorteio chegue na frase desejada."
   ]
  },
  {
   "cell_type": "code",
   "execution_count": 79,
   "metadata": {},
   "outputs": [
    {
     "name": "stdout",
     "output_type": "stream",
     "text": [
      "boam  izxoclfezrehyc lo nwgwttr\n",
      "bwxnn cggjoiubrrkufq oo cdbtwsl\n",
      "bryna cmstdtqzzzncog mi cnebti \n",
      "bqopp cvmbbtnaksnioh qg ctexhiu\n",
      "bchud ctmdst aeinvsp j  cueteiw\n",
      "bvtux cqmuetmhy nngo ve ctepaia\n",
      "bczal cjmsjtcooknmal p  cheijia\n",
      "bonur crmwxttfrtnmmv ug czebcia\n",
      "barwp cbmuntvzqonnoj wj cqewcia\n",
      "baqnr cmmsetznoonaee ys cvehcia\n",
      "basww camlotvk onafe mu cbeucia\n",
      "basjo cdmqttxmlonabk rq coegcia\n",
      "bascp c m utxzoonabq vg cmercia\n",
      "basfj cimfutrpponadf hc ceencia\n",
      "basiz cfmsutsrhonado he czencia\n",
      "basgv ccmzutlzmonahy ch chencia\n",
      "baspv camsutwveonanj hv crencia\n",
      "basui czmoutewaonaig sn csencia\n",
      "basii cjmmutaeronaio mh ciencia\n",
      "basfv c mmutaxvonaif ik ciencia\n",
      "basye cemhutaxxonaix dq ciencia\n",
      "baskh chmiutal onaij dv ciencia\n",
      "basxg ctmwutayoonais dz ciencia\n",
      "basfw cimjutadzonais dr ciencia\n",
      "basio cjmcutapionais d  ciencia\n",
      "basxw cwmdutalionais dd ciencia\n",
      "basxp czmiutationais dz ciencia\n",
      "basnz cumnutapionais du ciencia\n",
      "baska chmuutabionais dp ciencia\n",
      "baslw cvmuutalionais dj ciencia\n",
      "basco cpmtutadionais df ciencia\n",
      "basyv c mputauionais de ciencia\n",
      "basbd cumputazionais df ciencia\n",
      "baswk ccmputa ionais dr ciencia\n",
      "basqs cvmputapionais dp ciencia\n",
      "basms cjmputacionais da ciencia\n",
      "basws ctmputacionais da ciencia\n",
      "basus cumputacionais da ciencia\n",
      "basas cxmputacionais da ciencia\n",
      "basys cbmputacionais da ciencia\n",
      "basks chmputacionais da ciencia\n",
      "basms c mputacionais da ciencia\n",
      "basbs c mputacionais da ciencia\n",
      "basfs ctmputacionais da ciencia\n",
      "bascs cvmputacionais da ciencia\n",
      "basfs crmputacionais da ciencia\n",
      "baszs cbmputacionais da ciencia\n",
      "basvs cfmputacionais da ciencia\n",
      "basws cemputacionais da ciencia\n",
      "basds cemputacionais da ciencia\n",
      "basbs clmputacionais da ciencia\n",
      "basls cumputacionais da ciencia\n",
      "basqs computacionais da ciencia\n",
      "basus computacionais da ciencia\n",
      "bases computacionais da ciencia\n"
     ]
    }
   ],
   "source": [
    "frase = 'bases computacionais da ciencia'\n",
    "\n",
    "frase_sorteada = [' ']*len(frase)\n",
    "\n",
    "\n",
    "\n",
    "n = 0\n",
    "while frase_sorteada != frase and n < 300:\n",
    "    frase_sorteada = list(frase_sorteada)\n",
    "    for i in range(len(frase)):\n",
    "        if frase_sorteada[i] != frase[i]:\n",
    "            frase_sorteada[i] = rd.choice(['a', 'b', 'c', 'd', 'e', 'f', 'g', 'h', 'i', 'j', 'k',\n",
    "                          'l', 'm', 'n', 'o', 'p', 'q', 'r', 's', 't', 'u', 'v',\n",
    "                          'w', 'x', 'y', 'z', ' '])\n",
    "    frase_sorteada = ''.join(frase_sorteada)\n",
    "    \n",
    "    \n",
    "    n = n + 1\n",
    "    print(frase_sorteada)"
   ]
  },
  {
   "cell_type": "markdown",
   "metadata": {
    "slideshow": {
     "slide_type": "slide"
    }
   },
   "source": [
    "## Sugestões de exercícios\n"
   ]
  },
  {
   "cell_type": "markdown",
   "metadata": {},
   "source": [
    "**1)** Modifique a simulação da ruína do jogador para dois participantes. Um começa o jogo com 100 reais. O outro começa com 1000 reais. Simule 1000 vezes o jogo. Quantas vezes o jogador inicialmente com mais dinheiro perde o jogo?"
   ]
  },
  {
   "cell_type": "markdown",
   "metadata": {},
   "source": [
    "**2)** Modifique a simulação evolutiva para colocar uma probabilidade para mudar um caracter. Se o caracter já estiver correto, uma probabilidade de 80 % para não mudar e se o caracter não estiver correto, uma probabilidade de 80 % para o caracter mudar."
   ]
  },
  {
   "cell_type": "markdown",
   "metadata": {
    "slideshow": {
     "slide_type": "slide"
    }
   },
   "source": [
    "### Referências\n",
    "\n",
    "- Chalco, JM, *Slides de Bases Computacionais da Ciência*, (2014)\n",
    "- Leite, S, *Slides de Bases Computacionais da Ciência*, (2018)\n",
    "- [Marietto, MGB et al.; **Bases computacionais da Ciência** (2013)](http://prograd.ufabc.edu.br/images/pdf/bases_computacionais_livro.pdf).\n",
    "- Ogata, K; *Dynamical systems* (2014) "
   ]
  }
 ],
 "metadata": {
  "celltoolbar": "Slideshow",
  "kernelspec": {
   "display_name": "Python 3",
   "language": "python",
   "name": "python3"
  },
  "language_info": {
   "codemirror_mode": {
    "name": "ipython",
    "version": 3
   },
   "file_extension": ".py",
   "mimetype": "text/x-python",
   "name": "python",
   "nbconvert_exporter": "python",
   "pygments_lexer": "ipython3",
   "version": "3.8.8"
  },
  "latex_envs": {
   "LaTeX_envs_menu_present": true,
   "autoclose": false,
   "autocomplete": true,
   "bibliofile": "biblio.bib",
   "cite_by": "apalike",
   "current_citInitial": 1,
   "eqLabelWithNumbers": true,
   "eqNumInitial": 1,
   "hotkeys": {
    "equation": "Ctrl-E",
    "itemize": "Ctrl-I"
   },
   "labels_anchors": false,
   "latex_user_defs": false,
   "report_style_numbering": false,
   "user_envs_cfg": false
  },
  "nbTranslate": {
   "displayLangs": [
    "*"
   ],
   "hotkey": "alt-t",
   "langInMainMenu": true,
   "sourceLang": "en",
   "targetLang": "fr",
   "useGoogleTranslate": true
  }
 },
 "nbformat": 4,
 "nbformat_minor": 4
}
