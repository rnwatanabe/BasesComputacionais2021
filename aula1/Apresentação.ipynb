{
 "cells": [
  {
   "cell_type": "markdown",
   "metadata": {
    "slideshow": {
     "slide_type": "slide"
    }
   },
   "source": [
    "# Apresentação\n",
    "\n",
    "Renato Naville Watanabe\n"
   ]
  },
  {
   "cell_type": "markdown",
   "metadata": {
    "slideshow": {
     "slide_type": "slide"
    }
   },
   "source": [
    "## Motivação\n",
    "\n",
    "- Cada vez mais os **computadores** estão presentes nas diferentes áreas da **Ciência e Tecnologia**.\n",
    "\n",
    "\n",
    "\n",
    "- A palavra **Ciência** está relacionada com a compreensão do comportamento da natureza.\n",
    "- A **Tecnologia** está relacionada com encontrar soluções práticas para problemas:\n",
    "    + especialmente criar algo que vá de encontro às necessidades humanas.\n"
   ]
  },
  {
   "cell_type": "markdown",
   "metadata": {
    "slideshow": {
     "slide_type": "slide"
    }
   },
   "source": [
    "- Ter um bom domínio sobre os computadores é uma competência importante para qualquer tipo de profissional.\n",
    "\n",
    "- Auxilia a resolver vários problemas durante a vida acadêmica e profissional."
   ]
  },
  {
   "cell_type": "markdown",
   "metadata": {
    "slideshow": {
     "slide_type": "slide"
    }
   },
   "source": [
    "## A computação está em todos os lugares\n",
    "\n",
    "- Cada vez mais, diversas áreas do conhecimento utilizam-se dos conceitos de Computação.\n",
    "\n",
    "- Atualmente é impensável fazer qualquer tipo de pesquisa científica sem o uso da Computação:\n",
    "    + Presença de instrumentos computadorizados coletando dados a todo instante e em todo lugar.\n",
    "    + Geração de dados científicos em volumes que não podem mais ser entendidos apenas com cálculos simples.\n",
    "    + Fenômenos Big Data e Internet das Coisas (IoT)."
   ]
  },
  {
   "cell_type": "markdown",
   "metadata": {
    "slideshow": {
     "slide_type": "slide"
    }
   },
   "source": [
    "## Objetivos\n",
    "\n",
    "A disciplina *Bases Computacionais da Ciência* lança as bases para uma formação computacional.\n",
    "\n",
    "- Apresenta como a computação pode ser usada como apoio para o tratamento de conteudos presentes em todas as profissões:\n",
    "    + Funções, gráficos, estatística, programação\n",
    "    \n",
    "- Sugere formas de emprego da Computação para produção de conhecimento cientifíco e tecnológico."
   ]
  },
  {
   "cell_type": "markdown",
   "metadata": {
    "slideshow": {
     "slide_type": "slide"
    }
   },
   "source": [
    "## Programa da disciplina\n",
    "\n",
    "- **Fundamentos de Computação** \n",
    "- **Representação e análise de dados**\n",
    "    + Representação gráfica de funções\n",
    "    + Noções de Estatística\n",
    "    + Correlação e regressão\n",
    "    + Bases de dados\n",
    "- **Algoritmos**\n",
    "    + Variáveis e estruturas sequenciais\n",
    "    + Estruturas condicionais\n",
    "    + Estruturas de repetição\n",
    "- **Modelagem e simulação computacional**"
   ]
  },
  {
   "cell_type": "markdown",
   "metadata": {
    "slideshow": {
     "slide_type": "slide"
    }
   },
   "source": [
    "## O computador\n",
    "\n",
    "Um sistema de computação é **uma coleção de componentes** que realizam operações lógicas e aritméticas (transformação) **sobre um conjunto de dados** (entrada) e fornecem uma saída (os dados transformados).\n",
    "\n",
    "Um computador é uma máquina capaz de executar automaticamente alguma transformação no conjunto de dados de entrada\n",
    "\n"
   ]
  },
  {
   "cell_type": "markdown",
   "metadata": {
    "slideshow": {
     "slide_type": "slide"
    }
   },
   "source": [
    "Um **programa** é uma **sequência de ordens** (comandos, instruções) dadas a um computador que, a partir de **dados inseridos**, obtem um **resultado** que será disponibilizado por algum dispositivo de saída. Uma sequência de instruções é chamada formalmente de **algoritmo**.\n",
    "\n",
    "![calc](imagens/calc.png)"
   ]
  },
  {
   "cell_type": "markdown",
   "metadata": {
    "slideshow": {
     "slide_type": "slide"
    }
   },
   "source": [
    "### Ada Lovelace\n",
    "\n",
    "Em 1843, a matemática Ada Lovelace foi a primeira pessoa a propor um algoritmo para ser usado em uma máquina.\n",
    "\n",
    "Ela propôs uma algoritmo para calcular a série de Bernoulli para funcionar na máquina analítica de Charles Babbage.\n",
    "\n",
    "<td>    <img src=\"https://upload.wikimedia.org/wikipedia/commons/thumb/a/a4/Ada_Lovelace_portrait.jpg/800px-Ada_Lovelace_portrait.jpg\" width=\"200\" /></td>\n",
    "\n"
   ]
  },
  {
   "cell_type": "markdown",
   "metadata": {
    "slideshow": {
     "slide_type": "slide"
    }
   },
   "source": [
    "### Alan Turing\n",
    "\n",
    "- A idéia de um dispositivo de computação universal foi descrita, pela primeira vez, por Alan Turing, em 1937.\n",
    "\n",
    "- Turing propôs que toda a computação poderia ser realizada por um tipo especial de máquina, denominada Máquina de Turing\n",
    "<table><tr>\n",
    "<td>    <img src=\"https://www.biography.com/.image/ar_1:1%2Cc_fill%2Ccs_srgb%2Cg_face%2Cq_auto:good%2Cw_300/MTE5NDg0MDU1MTUzMTE2Njg3/alan-turing-9512017-1-402.jpg\" width=\"200\" /></td>\n",
    "<td>    <img src=\"imagens/turingMachine.png\" width=\"500\" /></td>\n",
    "</tr></table>\n"
   ]
  },
  {
   "cell_type": "markdown",
   "metadata": {
    "slideshow": {
     "slide_type": "slide"
    }
   },
   "source": [
    "### Estrutura do computador\n",
    "\n",
    "O que permitiu que o modelo de Turing de computador fosse construído foi o **modelo de von Neumann**. \n",
    "\n",
    "Consiste de uma unidade de processamento (**CPU**, na imagem UCP), uma memória (atualmente implementada com a **memória RAM**), elementos que possibilitem a entrada de dados (teclado, mouse, HD, etc) e elementos que permitam a saída de dados (monitor, impressora, HD, etc).\n",
    "\n",
    "\n",
    "\n",
    "![comp](imagens/comp.png)"
   ]
  },
  {
   "cell_type": "markdown",
   "metadata": {
    "slideshow": {
     "slide_type": "slide"
    }
   },
   "source": [
    "## Avaliação\n",
    "\n",
    "A avaliação consistirá de duas notas:\n",
    "\n",
    "L - listas de exercícios. Serão disponibilizadas semanalmente no Moodle.\n",
    "\n",
    "P - projeto. Será feito em duplas (poderá existir apenas um trio, caso o número de alunos seja ímpar). \n",
    "\n",
    "\n"
   ]
  },
  {
   "cell_type": "markdown",
   "metadata": {
    "slideshow": {
     "slide_type": "slide"
    }
   },
   "source": [
    "## Conceitos\n",
    "\n",
    "- A: 8,5 $\\leqslant M \\leqslant$ 10\n",
    "- B: 7,0 $\\leqslant M <$ 8,5\n",
    "- C: 6,0 $\\leqslant M <$ 7,0\n",
    "- D: 5,0 $\\leqslant M <$ 6,0\n",
    "- F: $M <$ 5,0\n"
   ]
  },
  {
   "cell_type": "markdown",
   "metadata": {
    "slideshow": {
     "slide_type": "slide"
    }
   },
   "source": [
    "### Recuperação\n",
    "\n",
    "Caso o aluno finalize com o conceito **F** ou **D**, poderá realizar a prova de recuperação (via Moodle). A nota final será:\n",
    "\n",
    "$$M_F = \\frac{M+R}{2} $$\n",
    "\n",
    "em que $R$ é a nota da prova de recuperação. O conceito seguirá o mesmo critério mostrado anteriormente."
   ]
  },
  {
   "cell_type": "markdown",
   "metadata": {
    "slideshow": {
     "slide_type": "slide"
    }
   },
   "source": [
    "## Termo de compromisso\n",
    "\n",
    "O propósito do termo de compromisso (disponível no Moodle) é deixar o mais claro possível as expectativas do docente com relação ao comportamento esperado dos alunos.\n",
    "\n",
    "1) De acordo com o ANEXO I da Resolução ConsEPE nº 240 item 4 b), não é autorizado o uso público e distribuição do material didático e material avaliativo disponível no site Moodle.\n",
    "\n",
    "2) De acordo com o Regimento Geral da UFABC, artigo 77, o dever dos membros de corpo discente é “comportar-se de acordo com os princípios éticos”.\n",
    "Ou seja, cada aluno deve enviar para avaliação apenas o resultado de seu PRÓPRIO TRABALHO.\n",
    "\n",
    "Em particular, enviar para avaliação algo que não foi feito por si mesmo (e assim assumir a sua autoria) é considerado plágio e, portanto, eticamente inaceitável.\n",
    "\n",
    "Copiar o código de colegas e fazer pequenas alterações (em comentários, em espaçamentos, etc) É PLÁGIO, porém, tirar dúvidas com colegas e monitores NÃO É PLÁGIO.\n",
    "\n",
    "O termo de compromisso deve ser assinado até dia 13/02 no Moodle.\n"
   ]
  },
  {
   "cell_type": "markdown",
   "metadata": {
    "slideshow": {
     "slide_type": "slide"
    }
   },
   "source": [
    "## Referências\n",
    "\n",
    "- Chalco, JM, *Slides de Bases Computacionais da Ciência*, (2014)\n",
    "- Leite, S, *Slides de Bases Computacionais da Ciência*, (2018)\n",
    "- [Marietto, MGB et al.; **Bases computacionais da Ciência** (2013)](http://prograd.ufabc.edu.br/images/pdf/bases_computacionais_livro.pdf)."
   ]
  }
 ],
 "metadata": {
  "celltoolbar": "Slideshow",
  "kernelspec": {
   "display_name": "Python 3",
   "language": "python",
   "name": "python3"
  },
  "language_info": {
   "codemirror_mode": {
    "name": "ipython",
    "version": 3
   },
   "file_extension": ".py",
   "mimetype": "text/x-python",
   "name": "python",
   "nbconvert_exporter": "python",
   "pygments_lexer": "ipython3",
   "version": "3.8.5"
  },
  "latex_envs": {
   "LaTeX_envs_menu_present": true,
   "autoclose": false,
   "autocomplete": true,
   "bibliofile": "biblio.bib",
   "cite_by": "apalike",
   "current_citInitial": 1,
   "eqLabelWithNumbers": true,
   "eqNumInitial": 1,
   "hotkeys": {
    "equation": "Ctrl-E",
    "itemize": "Ctrl-I"
   },
   "labels_anchors": false,
   "latex_user_defs": false,
   "report_style_numbering": false,
   "user_envs_cfg": false
  },
  "nbTranslate": {
   "displayLangs": [
    "*"
   ],
   "hotkey": "alt-t",
   "langInMainMenu": true,
   "sourceLang": "en",
   "targetLang": "pt",
   "useGoogleTranslate": true
  },
  "toc": {
   "base_numbering": 1,
   "nav_menu": {},
   "number_sections": true,
   "sideBar": true,
   "skip_h1_title": false,
   "title_cell": "Table of Contents",
   "title_sidebar": "Contents",
   "toc_cell": false,
   "toc_position": {},
   "toc_section_display": true,
   "toc_window_display": false
  },
  "varInspector": {
   "cols": {
    "lenName": 16,
    "lenType": 16,
    "lenVar": 40
   },
   "kernels_config": {
    "python": {
     "delete_cmd_postfix": "",
     "delete_cmd_prefix": "del ",
     "library": "var_list.py",
     "varRefreshCmd": "print(var_dic_list())"
    },
    "r": {
     "delete_cmd_postfix": ") ",
     "delete_cmd_prefix": "rm(",
     "library": "var_list.r",
     "varRefreshCmd": "cat(var_dic_list()) "
    }
   },
   "types_to_exclude": [
    "module",
    "function",
    "builtin_function_or_method",
    "instance",
    "_Feature"
   ],
   "window_display": false
  }
 },
 "nbformat": 4,
 "nbformat_minor": 2
}
