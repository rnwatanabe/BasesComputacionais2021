{
 "cells": [
  {
   "cell_type": "markdown",
   "metadata": {
    "slideshow": {
     "slide_type": "slide"
    }
   },
   "source": [
    "# Variáveis e algoritmos\n",
    "\n",
    "Renato Naville Watanabe"
   ]
  },
  {
   "cell_type": "markdown",
   "metadata": {
    "slideshow": {
     "slide_type": "slide"
    }
   },
   "source": [
    "## Algoritmo\n",
    "\n",
    "\n",
    "Sequência de passos a serem executados para atingir um objetivo ou solução de um problema."
   ]
  },
  {
   "cell_type": "markdown",
   "metadata": {
    "slideshow": {
     "slide_type": "fragment"
    }
   },
   "source": [
    "Exemplos de situações onde uma sequência lógica (algoritmo) de passos é necessária:\n",
    "\n",
    "- Fazer um bolo\n",
    "\n",
    "- Construir um robô para explorar um local desconhecido\n",
    "\n",
    "- Trocar uma lâmpada"
   ]
  },
  {
   "cell_type": "markdown",
   "metadata": {
    "slideshow": {
     "slide_type": "fragment"
    }
   },
   "source": [
    "Um **programa** de computador é a realização (ou implementação) de um **algoritmo** em um computador específico."
   ]
  },
  {
   "cell_type": "markdown",
   "metadata": {
    "slideshow": {
     "slide_type": "slide"
    }
   },
   "source": [
    "É necessário muito cuidado ao fornecer instruções ao computador. Ao fornecer instruções a um computador, ele executará exatamente o que você instruir. Abaixo segue um vídeo do que pode acontecer ao não fornecer instruções precisas para um fim."
   ]
  },
  {
   "cell_type": "code",
   "execution_count": 1,
   "metadata": {
    "ExecuteTime": {
     "end_time": "2021-01-28T22:06:05.712114Z",
     "start_time": "2021-01-28T22:06:05.684579Z"
    },
    "slideshow": {
     "slide_type": "fragment"
    }
   },
   "outputs": [
    {
     "data": {
      "text/html": [
       "\n",
       "        <iframe\n",
       "            width=\"400\"\n",
       "            height=\"300\"\n",
       "            src=\"https://www.youtube.com/embed/FN2RM-CHkuI\"\n",
       "            frameborder=\"0\"\n",
       "            allowfullscreen\n",
       "        ></iframe>\n",
       "        "
      ],
      "text/plain": [
       "<IPython.lib.display.YouTubeVideo at 0x7f719c22e250>"
      ]
     },
     "execution_count": 1,
     "metadata": {},
     "output_type": "execute_result"
    }
   ],
   "source": [
    "from IPython.display import YouTubeVideo\n",
    "YouTubeVideo('FN2RM-CHkuI')"
   ]
  },
  {
   "cell_type": "markdown",
   "metadata": {
    "slideshow": {
     "slide_type": "slide"
    }
   },
   "source": [
    "## Ferramentas de computação científica\n",
    "\n",
    "Existem diversas ferramentas para utilizadas em cálculos matemáticos avançados.\n",
    "- Matlab\n",
    "- Mathematica\n",
    "- Octave\n",
    "- Scilab\n",
    "- R\n",
    "- **Python**\n",
    "- Fortran\n",
    "- Julia\n",
    "\n",
    "Geralmente contam com bibliotecas de funções matemáticas prontas e recursos avançados."
   ]
  },
  {
   "cell_type": "markdown",
   "metadata": {
    "slideshow": {
     "slide_type": "slide"
    }
   },
   "source": [
    "## Ambientes de desenvolvimento\n",
    "\n",
    "Existem vários ambientes de programação em Python (conhecidos como IDEs):\n",
    "\n",
    "* Spyder\n",
    "* Visual Studio Code\n",
    "* PyCharm\n",
    "* Jupyter Notebook\n",
    "* **Google Colab**\n",
    "* PyDev\n",
    "* Atom"
   ]
  },
  {
   "cell_type": "markdown",
   "metadata": {
    "slideshow": {
     "slide_type": "slide"
    }
   },
   "source": [
    "## Google Colab\n",
    "\n",
    "\n",
    "O ambiente de desenvolvimento que será usado no curso é o Google Colab:\n",
    "\n",
    "<img src=\"imagens/colab.png\" width=\"500\">\n",
    "\n",
    "De acordo com o que está no site introdutório do Google Colab:\n",
    "\n",
    "    \"O Colaboratory ou \"Colab\" permite escrever código Python no seu navegador, com:\n",
    "\n",
    "    * Nenhuma configuração necessária\n",
    "    * Acesso gratuito a GPUs\n",
    "    * Compartilhamento fácil\n",
    "    \n",
    "    Você pode ser um estudante, um cientista de dados ou um pesquisador de IA, o Colab pode facilitar seu trabalho. \"\n",
    "    \n",
    "Uma outra vantagem é que não é necessário instalar nada no seu computador."
   ]
  },
  {
   "cell_type": "markdown",
   "metadata": {
    "slideshow": {
     "slide_type": "slide"
    }
   },
   "source": [
    "### Tipos de células\n",
    "\n",
    "O Google Colab é composto de células. É nas células que são dados os comandos para o Google Colab:\n",
    "\n",
    "Existem dois tipos de células:\n",
    "\n",
    "* Texto: é possível escrever textos, fórmulas matemáticas (LaTex) e imagens.\n",
    "* Código: são dados comandos em Python."
   ]
  },
  {
   "cell_type": "markdown",
   "metadata": {
    "slideshow": {
     "slide_type": "slide"
    }
   },
   "source": [
    "## Dando comandos em Python\n",
    "\n",
    "Digitando o seguinte comando em uma célula de código e a executando (para executar uma célula basta apertar no triânguo apontando para a direita que está no lado esquerdo da célula ou apertar Shift+Enter):"
   ]
  },
  {
   "cell_type": "code",
   "execution_count": 24,
   "metadata": {
    "ExecuteTime": {
     "end_time": "2021-01-28T22:08:19.366167Z",
     "start_time": "2021-01-28T22:08:19.361910Z"
    },
    "slideshow": {
     "slide_type": "fragment"
    }
   },
   "outputs": [
    {
     "name": "stdout",
     "output_type": "stream",
     "text": [
      "2.0\n"
     ]
    }
   ],
   "source": [
    "print(5*2/4 - 0.5)"
   ]
  },
  {
   "cell_type": "markdown",
   "metadata": {
    "slideshow": {
     "slide_type": "fragment"
    }
   },
   "source": [
    "é feita a conta $\\frac{5\\times2}{4}-0,5$ e o seu resultado é mostrado na tela (com o comando print)."
   ]
  },
  {
   "cell_type": "markdown",
   "metadata": {
    "slideshow": {
     "slide_type": "fragment"
    }
   },
   "source": [
    "Podemos gravar o resultado de uma conta em uma variável, para poder usar o resultado em momento posterior:"
   ]
  },
  {
   "cell_type": "code",
   "execution_count": 25,
   "metadata": {
    "ExecuteTime": {
     "end_time": "2021-01-28T22:08:20.859637Z",
     "start_time": "2021-01-28T22:08:20.847633Z"
    },
    "slideshow": {
     "slide_type": "fragment"
    }
   },
   "outputs": [
    {
     "name": "stdout",
     "output_type": "stream",
     "text": [
      "2.0\n"
     ]
    }
   ],
   "source": [
    "x = 5*2/4 - 0.5\n",
    "print(x)"
   ]
  },
  {
   "cell_type": "markdown",
   "metadata": {
    "slideshow": {
     "slide_type": "slide"
    }
   },
   "source": [
    "## Variável\n",
    "\n",
    "Uma variável é um endereço da memória de acesso randômico (RAM), representada por um nome \n",
    "(rótulo), criado pelo usuário, cujo conteúdo pode se alterar no decorrer do programa.\n",
    "\n",
    "Uma variável é composta por dois elementos:\n",
    "    \n",
    "  - **Identificador**: nome dado pelo programador à variável\n",
    "  - **Conteúdo**: valor da variável\n",
    "<img src=\"imagens/memvar2.png\" width=\"400\">\n",
    "\n",
    "No caso anterior, x é o identificador (nome da variável) e 2 é o conteúdo (valor)."
   ]
  },
  {
   "cell_type": "markdown",
   "metadata": {
    "slideshow": {
     "slide_type": "slide"
    }
   },
   "source": [
    "## Variável\n",
    "\n",
    "Cada vez que mencionarmos o nome de uma variável, estaremos na verdade utilizando o seu conteúdo"
   ]
  },
  {
   "cell_type": "code",
   "execution_count": 35,
   "metadata": {
    "ExecuteTime": {
     "end_time": "2021-01-28T22:08:55.975678Z",
     "start_time": "2021-01-28T22:08:55.971816Z"
    },
    "slideshow": {
     "slide_type": "fragment"
    }
   },
   "outputs": [
    {
     "name": "stdout",
     "output_type": "stream",
     "text": [
      "8.0\n"
     ]
    }
   ],
   "source": [
    "y = x + 5\n",
    "print(y)"
   ]
  },
  {
   "cell_type": "markdown",
   "metadata": {
    "slideshow": {
     "slide_type": "fragment"
    }
   },
   "source": [
    "Esta operação define $y$ como sendo uma variável com valor igual ao valor de $x$ **mais** (+) cinco. Ou seja, $y$ tem um valor igual a 7"
   ]
  },
  {
   "cell_type": "code",
   "execution_count": 27,
   "metadata": {
    "ExecuteTime": {
     "end_time": "2021-01-28T22:08:24.237799Z",
     "start_time": "2021-01-28T22:08:24.230125Z"
    },
    "slideshow": {
     "slide_type": "fragment"
    }
   },
   "outputs": [
    {
     "data": {
      "text/plain": [
       "14.0"
      ]
     },
     "execution_count": 27,
     "metadata": {},
     "output_type": "execute_result"
    }
   ],
   "source": [
    "z = x*y\n",
    "print(z)"
   ]
  },
  {
   "cell_type": "markdown",
   "metadata": {
    "slideshow": {
     "slide_type": "fragment"
    }
   },
   "source": [
    "Neste caso, $z$ é igual à **multiplicação** (\\*) dos valores guardados em $x$ e $y$, ou seja, $z$ é igual a 14."
   ]
  },
  {
   "cell_type": "code",
   "execution_count": 28,
   "metadata": {
    "ExecuteTime": {
     "end_time": "2021-01-28T22:08:25.254288Z",
     "start_time": "2021-01-28T22:08:25.246968Z"
    },
    "slideshow": {
     "slide_type": "slide"
    }
   },
   "outputs": [
    {
     "data": {
      "text/plain": [
       "7.0"
      ]
     },
     "execution_count": 28,
     "metadata": {},
     "output_type": "execute_result"
    }
   ],
   "source": [
    "w = z/x\n",
    "print(w)"
   ]
  },
  {
   "cell_type": "markdown",
   "metadata": {
    "slideshow": {
     "slide_type": "fragment"
    }
   },
   "source": [
    "Aqui, $w$ é igual à **divisão** (/) dos valores guardados em $z$ e $x$, ou seja, $w$\n",
    "é igual a 7."
   ]
  },
  {
   "cell_type": "code",
   "execution_count": 29,
   "metadata": {
    "ExecuteTime": {
     "end_time": "2021-01-28T22:08:26.120375Z",
     "start_time": "2021-01-28T22:08:26.103964Z"
    },
    "slideshow": {
     "slide_type": "fragment"
    }
   },
   "outputs": [
    {
     "data": {
      "text/plain": [
       "5.0"
      ]
     },
     "execution_count": 29,
     "metadata": {},
     "output_type": "execute_result"
    }
   ],
   "source": [
    "k = w - x\n",
    "print(k)"
   ]
  },
  {
   "cell_type": "markdown",
   "metadata": {
    "slideshow": {
     "slide_type": "fragment"
    }
   },
   "source": [
    "Aqui, $k$ é igual à **subtração** (-) do valor guardado em $x$ de $w$. Ou seja, $k$\n",
    "é igual a 5."
   ]
  },
  {
   "cell_type": "code",
   "execution_count": 30,
   "metadata": {
    "ExecuteTime": {
     "end_time": "2021-01-28T22:08:26.949157Z",
     "start_time": "2021-01-28T22:08:26.939694Z"
    },
    "slideshow": {
     "slide_type": "slide"
    }
   },
   "outputs": [
    {
     "data": {
      "text/plain": [
       "125.0"
      ]
     },
     "execution_count": 30,
     "metadata": {},
     "output_type": "execute_result"
    }
   ],
   "source": [
    "m = k**3\n",
    "print(m)"
   ]
  },
  {
   "cell_type": "markdown",
   "metadata": {
    "slideshow": {
     "slide_type": "fragment"
    }
   },
   "source": [
    "Aqui, $m$ é igual ao valor guardado em $k$ **elevado** (\\**) ao cubo. Ou seja, $m$ é igual a 125."
   ]
  },
  {
   "cell_type": "code",
   "execution_count": 31,
   "metadata": {
    "ExecuteTime": {
     "end_time": "2021-01-28T22:08:28.077198Z",
     "start_time": "2021-01-28T22:08:28.069756Z"
    },
    "slideshow": {
     "slide_type": "fragment"
    }
   },
   "outputs": [
    {
     "data": {
      "text/plain": [
       "1"
      ]
     },
     "execution_count": 31,
     "metadata": {},
     "output_type": "execute_result"
    }
   ],
   "source": [
    "n = 10%3\n",
    "print(n)"
   ]
  },
  {
   "cell_type": "markdown",
   "metadata": {
    "slideshow": {
     "slide_type": "fragment"
    }
   },
   "source": [
    "Neste caso, $n$ tem o valor do **resto** (\\%) da divisão entre 10 e 3."
   ]
  },
  {
   "cell_type": "markdown",
   "metadata": {
    "slideshow": {
     "slide_type": "slide"
    }
   },
   "source": [
    "## O símbolo '=' de designação\n",
    "\n",
    "Em matemática '=' é o símbolo da identidade, mas na programação de computadores '=' é usado para designação. Isso significa que a parte direita da expressão é atribuída à sua parte esquerda. \n",
    "\n",
    "Por exemplo, 'x = x + 1' não faz sentido na matemática, mas na programação de computadores sim:\n",
    "\n"
   ]
  },
  {
   "cell_type": "code",
   "execution_count": 32,
   "metadata": {
    "ExecuteTime": {
     "end_time": "2021-01-28T22:08:29.336298Z",
     "start_time": "2021-01-28T22:08:29.331820Z"
    },
    "slideshow": {
     "slide_type": "fragment"
    }
   },
   "outputs": [
    {
     "data": {
      "text/plain": [
       "3.0"
      ]
     },
     "execution_count": 32,
     "metadata": {},
     "output_type": "execute_result"
    }
   ],
   "source": [
    "x = x + 1\n",
    "print(x)"
   ]
  },
  {
   "cell_type": "markdown",
   "metadata": {
    "slideshow": {
     "slide_type": "slide"
    }
   },
   "source": [
    "## Operações aritméticas básicas\n",
    "\n",
    "Portanto, as operações aritméticas básicas são:\n",
    "\n",
    "- **multiplicação**: \\*\n",
    "- **divisão**: /\n",
    "- **adição**: +\n",
    "- **subtração**: -\n",
    "- **potência**: \\**\n",
    "- **resto**: \\%"
   ]
  },
  {
   "cell_type": "markdown",
   "metadata": {
    "slideshow": {
     "slide_type": "slide"
    }
   },
   "source": [
    "## Ordem de operações\n",
    "\n",
    "Assim como na matemática, em linguagens de programação a multiplicação e a divisão tem precedência sobre soma e subtração.\n",
    "\n",
    "Assim, na operação:\n",
    "\n",
    "$$\\underbrace{\\underbrace{4+\\underbrace{3*4}_{12}}_{16}-2}_{14}$$\n",
    "\n",
    "primeiramente é executada a multiplicação e depois a soma e a subtração na ordem em que elas aparecem."
   ]
  },
  {
   "cell_type": "code",
   "execution_count": 34,
   "metadata": {
    "ExecuteTime": {
     "end_time": "2021-01-28T22:08:41.432542Z",
     "start_time": "2021-01-28T22:08:41.428762Z"
    },
    "slideshow": {
     "slide_type": "fragment"
    }
   },
   "outputs": [
    {
     "name": "stdout",
     "output_type": "stream",
     "text": [
      "14\n"
     ]
    }
   ],
   "source": [
    "print(4+3*4-2)"
   ]
  },
  {
   "cell_type": "markdown",
   "metadata": {
    "slideshow": {
     "slide_type": "slide"
    }
   },
   "source": [
    "A ordem de precedência das operações aritméticas básicas é:\n",
    "\n",
    "- \\** : potência\n",
    "- \\*, /, \\% : multiplicação, divisão e resto\n",
    "- +, - : adição, subtração\n",
    "\n",
    "No caso de operações com a mesma precedência, prevalece a ordem na qual as operações foram escritas."
   ]
  },
  {
   "cell_type": "markdown",
   "metadata": {
    "slideshow": {
     "slide_type": "slide"
    }
   },
   "source": [
    "Uma maneira de mudar a ordem de execução das operações é utilizando parênteses. As operações dentro de parênteses tem precedência:"
   ]
  },
  {
   "cell_type": "code",
   "execution_count": 12,
   "metadata": {
    "ExecuteTime": {
     "end_time": "2021-01-28T22:06:06.538951Z",
     "start_time": "2021-01-28T22:06:06.534707Z"
    },
    "slideshow": {
     "slide_type": "fragment"
    }
   },
   "outputs": [
    {
     "data": {
      "text/plain": [
       "26"
      ]
     },
     "execution_count": 12,
     "metadata": {},
     "output_type": "execute_result"
    }
   ],
   "source": [
    "print((4+3)*4-2)"
   ]
  },
  {
   "cell_type": "markdown",
   "metadata": {
    "slideshow": {
     "slide_type": "slide"
    }
   },
   "source": [
    "## Funções matemáticas\n",
    "\n",
    "Para usar funções mais complexas, é necessário utilizar a biblioteca Numpy. Para poder utilizar esta biblioteca, é necessário importá-la:"
   ]
  },
  {
   "cell_type": "code",
   "execution_count": 13,
   "metadata": {
    "ExecuteTime": {
     "end_time": "2021-01-28T22:06:06.594639Z",
     "start_time": "2021-01-28T22:06:06.592224Z"
    },
    "slideshow": {
     "slide_type": "fragment"
    }
   },
   "outputs": [],
   "source": [
    "import math"
   ]
  },
  {
   "cell_type": "markdown",
   "metadata": {
    "slideshow": {
     "slide_type": "fragment"
    }
   },
   "source": [
    "Esta biblioteca tem diversas funções que são facilmente utilizadas colocando 'math.' antes da função desejada. Por exemplo, a função logaritmo na base 10 é chamada com: "
   ]
  },
  {
   "cell_type": "code",
   "execution_count": 14,
   "metadata": {
    "ExecuteTime": {
     "end_time": "2021-01-28T22:06:06.652292Z",
     "start_time": "2021-01-28T22:06:06.648466Z"
    },
    "slideshow": {
     "slide_type": "fragment"
    }
   },
   "outputs": [
    {
     "data": {
      "text/plain": [
       "1.2041199826559248"
      ]
     },
     "execution_count": 14,
     "metadata": {},
     "output_type": "execute_result"
    }
   ],
   "source": [
    "print(math.log10(16))"
   ]
  },
  {
   "cell_type": "markdown",
   "metadata": {
    "slideshow": {
     "slide_type": "fragment"
    }
   },
   "source": [
    "Se você quiser guardar o resultado em uma variável também é possível:"
   ]
  },
  {
   "cell_type": "code",
   "execution_count": 15,
   "metadata": {
    "ExecuteTime": {
     "end_time": "2021-01-28T22:06:06.709755Z",
     "start_time": "2021-01-28T22:06:06.706240Z"
    },
    "slideshow": {
     "slide_type": "fragment"
    }
   },
   "outputs": [
    {
     "data": {
      "text/plain": [
       "1.2041199826559248"
      ]
     },
     "execution_count": 15,
     "metadata": {},
     "output_type": "execute_result"
    }
   ],
   "source": [
    "a = math.log10(16)\n",
    "print(a)"
   ]
  },
  {
   "cell_type": "markdown",
   "metadata": {
    "slideshow": {
     "slide_type": "slide"
    }
   },
   "source": [
    "E se quiser calcular o valor da função para uma variável é simples:"
   ]
  },
  {
   "cell_type": "code",
   "execution_count": 16,
   "metadata": {
    "ExecuteTime": {
     "end_time": "2021-01-28T22:06:06.769192Z",
     "start_time": "2021-01-28T22:06:06.766000Z"
    },
    "slideshow": {
     "slide_type": "fragment"
    }
   },
   "outputs": [
    {
     "data": {
      "text/plain": [
       "0.6989700043360189"
      ]
     },
     "execution_count": 16,
     "metadata": {},
     "output_type": "execute_result"
    }
   ],
   "source": [
    "b = math.log10(k)\n",
    "print(b)"
   ]
  },
  {
   "cell_type": "markdown",
   "metadata": {
    "slideshow": {
     "slide_type": "slide"
    }
   },
   "source": [
    "## Funções matemáticas\n",
    "\n",
    "Alguns exemplos de funções são:\n"
   ]
  },
  {
   "cell_type": "markdown",
   "metadata": {
    "slideshow": {
     "slide_type": "fragment"
    }
   },
   "source": [
    "**Exponencial**: exp($x$)=$e^x$ em que $e=2,7182...$ "
   ]
  },
  {
   "cell_type": "code",
   "execution_count": 17,
   "metadata": {
    "ExecuteTime": {
     "end_time": "2021-01-28T22:06:06.855822Z",
     "start_time": "2021-01-28T22:06:06.849167Z"
    },
    "slideshow": {
     "slide_type": "fragment"
    }
   },
   "outputs": [
    {
     "data": {
      "text/plain": [
       "0.1353352832366127"
      ]
     },
     "execution_count": 17,
     "metadata": {},
     "output_type": "execute_result"
    }
   ],
   "source": [
    "print(math.exp(-2))"
   ]
  },
  {
   "cell_type": "markdown",
   "metadata": {
    "slideshow": {
     "slide_type": "fragment"
    }
   },
   "source": [
    "**Raiz quadrada**"
   ]
  },
  {
   "cell_type": "code",
   "execution_count": 37,
   "metadata": {
    "ExecuteTime": {
     "end_time": "2021-01-28T22:10:08.200257Z",
     "start_time": "2021-01-28T22:10:08.194177Z"
    },
    "slideshow": {
     "slide_type": "fragment"
    }
   },
   "outputs": [
    {
     "name": "stdout",
     "output_type": "stream",
     "text": [
      "5.0\n"
     ]
    }
   ],
   "source": [
    "s = math.sqrt(25)\n",
    "print(s)"
   ]
  },
  {
   "cell_type": "markdown",
   "metadata": {
    "slideshow": {
     "slide_type": "slide"
    }
   },
   "source": [
    "**Funções trigonométricas**\n",
    "\n",
    "Em todas as funções trigonométricas, o ângulo deve estar em radianos."
   ]
  },
  {
   "cell_type": "code",
   "execution_count": 38,
   "metadata": {
    "ExecuteTime": {
     "end_time": "2021-01-28T22:10:13.264474Z",
     "start_time": "2021-01-28T22:10:13.254640Z"
    },
    "slideshow": {
     "slide_type": "fragment"
    }
   },
   "outputs": [
    {
     "name": "stdout",
     "output_type": "stream",
     "text": [
      "1.0\n",
      "0.7071067811865476\n"
     ]
    }
   ],
   "source": [
    "d = math.sin(np.pi/2)\n",
    "g = math.cos(np.pi/4)\n",
    "print(d)\n",
    "print(g)"
   ]
  },
  {
   "cell_type": "markdown",
   "metadata": {
    "slideshow": {
     "slide_type": "fragment"
    }
   },
   "source": [
    "Nos dois últimos casos, para representar o valor de $\\pi$, foi utilizado 'np.pi'."
   ]
  },
  {
   "cell_type": "markdown",
   "metadata": {
    "slideshow": {
     "slide_type": "slide"
    }
   },
   "source": [
    "**Função piso e função teto**\n",
    "\n",
    "A função piso calcula o número inteiro imediatamente menor que o número de entrada da função:"
   ]
  },
  {
   "cell_type": "code",
   "execution_count": 20,
   "metadata": {
    "ExecuteTime": {
     "end_time": "2021-01-28T22:06:07.123777Z",
     "start_time": "2021-01-28T22:06:07.119045Z"
    },
    "slideshow": {
     "slide_type": "fragment"
    }
   },
   "outputs": [
    {
     "data": {
      "text/plain": [
       "4"
      ]
     },
     "execution_count": 20,
     "metadata": {},
     "output_type": "execute_result"
    }
   ],
   "source": [
    "print(math.floor(4.5))"
   ]
  },
  {
   "cell_type": "markdown",
   "metadata": {
    "slideshow": {
     "slide_type": "fragment"
    }
   },
   "source": [
    "A função teto calcula o número inteiro imediatamente maior que o número de entrada da função:"
   ]
  },
  {
   "cell_type": "code",
   "execution_count": 21,
   "metadata": {
    "ExecuteTime": {
     "end_time": "2021-01-28T22:06:07.134262Z",
     "start_time": "2021-01-28T22:06:07.126065Z"
    },
    "slideshow": {
     "slide_type": "fragment"
    }
   },
   "outputs": [
    {
     "data": {
      "text/plain": [
       "5"
      ]
     },
     "execution_count": 21,
     "metadata": {},
     "output_type": "execute_result"
    }
   ],
   "source": [
    "print(math.ceil(4.5))"
   ]
  },
  {
   "cell_type": "markdown",
   "metadata": {
    "slideshow": {
     "slide_type": "slide"
    }
   },
   "source": [
    "## Comentários\n",
    "\n",
    "Comentários são expressões que não têm nenhuma função na execução do código, mas servem para auxiliar na compreensão do código.\n",
    "\n",
    "É muito importante que o código esteja comentado. É muito comum acontecer de um programador ler o seu próprio código dias depois dele ter sido escrito e não entender o que o código faz.\n",
    "\n",
    "No Python, um comentário é iniciado pelo caracter '#'. Tudo que for escrito após o # não é executado pelo Python"
   ]
  },
  {
   "cell_type": "code",
   "execution_count": 22,
   "metadata": {
    "ExecuteTime": {
     "end_time": "2021-01-28T22:06:07.175635Z",
     "start_time": "2021-01-28T22:06:07.172521Z"
    },
    "slideshow": {
     "slide_type": "fragment"
    }
   },
   "outputs": [
    {
     "data": {
      "text/plain": [
       "4.0"
      ]
     },
     "execution_count": 22,
     "metadata": {},
     "output_type": "execute_result"
    }
   ],
   "source": [
    "x = x + 1 # Incremento de 1 na variável x\n",
    "print(x)"
   ]
  },
  {
   "cell_type": "markdown",
   "metadata": {
    "slideshow": {
     "slide_type": "fragment"
    }
   },
   "source": [
    "Uma outra maneira de fazer comentários seria com blocos de comentários, iniciados e finalizados com `'''` ou `\"\"\"`. Esta é a maneira preferencial para fazer comentários no Python."
   ]
  },
  {
   "cell_type": "markdown",
   "metadata": {
    "slideshow": {
     "slide_type": "slide"
    }
   },
   "source": [
    "## Um código um pouco mais complexo\n",
    "\n",
    "Em um a célula podem ser dadas várias instruções, uma em cada linha. O código abaixo transforma uma massa em libras para kilogramas."
   ]
  },
  {
   "cell_type": "code",
   "execution_count": 39,
   "metadata": {
    "ExecuteTime": {
     "end_time": "2021-01-28T22:12:14.496554Z",
     "start_time": "2021-01-28T22:12:14.490516Z"
    },
    "slideshow": {
     "slide_type": "fragment"
    }
   },
   "outputs": [
    {
     "name": "stdout",
     "output_type": "stream",
     "text": [
      "m = 4.535147392290249 kg\n"
     ]
    }
   ],
   "source": [
    "ml = 10 # massa em libras\n",
    "mk = ml/2.205 # massa em kg\n",
    "print('m =',mk,'kg')\n"
   ]
  },
  {
   "cell_type": "markdown",
   "metadata": {
    "slideshow": {
     "slide_type": "slide"
    }
   },
   "source": [
    "## Formatando a saída no print\n",
    "\n",
    "É possível formatar a maneira como resultados numéricos são apresentados na tela. Por exemplo, para mostrar a massa encontrada com apenas três casas decimais, fazemos:"
   ]
  },
  {
   "cell_type": "code",
   "execution_count": 42,
   "metadata": {
    "ExecuteTime": {
     "end_time": "2021-01-28T22:14:55.753645Z",
     "start_time": "2021-01-28T22:14:55.747111Z"
    },
    "slideshow": {
     "slide_type": "fragment"
    }
   },
   "outputs": [
    {
     "name": "stdout",
     "output_type": "stream",
     "text": [
      "m = 4.535 kg\n"
     ]
    }
   ],
   "source": [
    "print('m = %.3f kg'%mk)"
   ]
  },
  {
   "cell_type": "markdown",
   "metadata": {
    "slideshow": {
     "slide_type": "slide"
    }
   },
   "source": [
    "## Referências\n",
    "\n",
    "- Chalco, JM, *Slides de Bases Computacionais da Ciência*, (2014)\n",
    "- Leite, S, *Slides de Bases Computacionais da Ciência*, (2018)\n",
    "- [Marietto, MGB et al.; **Bases computacionais da Ciência** (2013)](http://prograd.ufabc.edu.br/images/pdf/bases_computacionais_livro.pdf).\n",
    "- [Duarte, M, *Python para computação científica* (2017)](https://nbviewer.jupyter.org/github/BMClab/bmc/blob/master/notebooks/PT-BR/PythonForScientificComputing_PT-BR.ipynb)\n",
    "- [NumPy Reference¶](https://docs.scipy.org/doc/numpy/reference/index.html)\n",
    "- [Duarte, M e Watanabe, R; Python Tutorial (2018)](https://nbviewer.jupyter.org/github/BMClab/bmc/blob/master/notebooks/PT-BR/PythonTutorial_PT-BR.ipynb)\n"
   ]
  },
  {
   "cell_type": "code",
   "execution_count": null,
   "metadata": {},
   "outputs": [],
   "source": []
  }
 ],
 "metadata": {
  "celltoolbar": "Slideshow",
  "kernelspec": {
   "display_name": "Python 3",
   "language": "python",
   "name": "python3"
  },
  "language_info": {
   "codemirror_mode": {
    "name": "ipython",
    "version": 3
   },
   "file_extension": ".py",
   "mimetype": "text/x-python",
   "name": "python",
   "nbconvert_exporter": "python",
   "pygments_lexer": "ipython3",
   "version": "3.8.3"
  },
  "latex_envs": {
   "LaTeX_envs_menu_present": true,
   "autoclose": false,
   "autocomplete": true,
   "bibliofile": "biblio.bib",
   "cite_by": "apalike",
   "current_citInitial": 1,
   "eqLabelWithNumbers": true,
   "eqNumInitial": 1,
   "hotkeys": {
    "equation": "Ctrl-E",
    "itemize": "Ctrl-I"
   },
   "labels_anchors": false,
   "latex_user_defs": false,
   "report_style_numbering": false,
   "user_envs_cfg": false
  },
  "nbTranslate": {
   "displayLangs": [
    "*"
   ],
   "hotkey": "alt-t",
   "langInMainMenu": true,
   "sourceLang": "en",
   "targetLang": "fr",
   "useGoogleTranslate": true
  },
  "toc": {
   "base_numbering": 1,
   "nav_menu": {},
   "number_sections": true,
   "sideBar": true,
   "skip_h1_title": false,
   "title_cell": "Table of Contents",
   "title_sidebar": "Contents",
   "toc_cell": false,
   "toc_position": {},
   "toc_section_display": true,
   "toc_window_display": false
  },
  "varInspector": {
   "cols": {
    "lenName": 16,
    "lenType": 16,
    "lenVar": 40
   },
   "kernels_config": {
    "python": {
     "delete_cmd_postfix": "",
     "delete_cmd_prefix": "del ",
     "library": "var_list.py",
     "varRefreshCmd": "print(var_dic_list())"
    },
    "r": {
     "delete_cmd_postfix": ") ",
     "delete_cmd_prefix": "rm(",
     "library": "var_list.r",
     "varRefreshCmd": "cat(var_dic_list()) "
    }
   },
   "types_to_exclude": [
    "module",
    "function",
    "builtin_function_or_method",
    "instance",
    "_Feature"
   ],
   "window_display": false
  }
 },
 "nbformat": 4,
 "nbformat_minor": 2
}
