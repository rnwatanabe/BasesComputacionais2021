{
 "cells": [
  {
   "cell_type": "markdown",
   "metadata": {
    "slideshow": {
     "slide_type": "slide"
    }
   },
   "source": [
    "# Estruturas de repetição\n",
    "\n",
    "Renato Naville Watananbe"
   ]
  },
  {
   "cell_type": "markdown",
   "metadata": {
    "slideshow": {
     "slide_type": "slide"
    }
   },
   "source": [
    "Suponha que queiramos que uma variável $i$, que inicialmente tem o valor igual a 0, tenha o seu valor somado de 1 cinco vezes seguidas. O resultado de cada soma deve ser guardado na própria variável e ser mostrado na tela. Uma solução possível seria:"
   ]
  },
  {
   "cell_type": "code",
   "execution_count": 1,
   "metadata": {
    "slideshow": {
     "slide_type": "fragment"
    }
   },
   "outputs": [
    {
     "name": "stdout",
     "output_type": "stream",
     "text": [
      "0\n",
      "1\n",
      "2\n",
      "3\n",
      "4\n",
      "5\n"
     ]
    }
   ],
   "source": [
    "i = 0\n",
    "print(i)\n",
    "i = i + 1\n",
    "print(i)\n",
    "i = i + 1\n",
    "print(i)\n",
    "i = i + 1\n",
    "print(i)\n",
    "i = i + 1\n",
    "print(i)\n",
    "i = i + 1\n",
    "print(i)"
   ]
  },
  {
   "cell_type": "markdown",
   "metadata": {},
   "source": [
    "Suponhamos agora que queiramos fazer a mesma coisa, só que 50 vezes. Escrever esse conjunto de 2 linhas 50 vezes, embora possível, não é razoável. Para resolver situações desse tipo, em que se deseja repetir uma sequência de instruções algumas vezes, existem as estruturas conhecidas como **laços (ou *loops* em inglês)**."
   ]
  },
  {
   "cell_type": "markdown",
   "metadata": {
    "slideshow": {
     "slide_type": "slide"
    }
   },
   "source": [
    "### Laços\n",
    "\n",
    "Veremos duas formas de fazer repetições:\n",
    "\n",
    "- **while**: executa uma sequência de instruções *enquanto* uma condição (operação booleana) for verdadeira.\n",
    "\n",
    "- **for**: executa uma sequência de instruções *para* um número pré-determinado de valores."
   ]
  },
  {
   "cell_type": "markdown",
   "metadata": {
    "slideshow": {
     "slide_type": "slide"
    }
   },
   "source": [
    "### While\n",
    "\n",
    "while CONDIÇÃO_BOOLEANA:     \n",
    "    &nbsp;&nbsp;&nbsp;&nbsp;&nbsp;&nbsp;&nbsp;&nbsp;&nbsp;&nbsp;&nbsp;&nbsp;INSTRUÇÕES_QUE_SE_REPETIRÃO\n",
    "\n",
    "INSTRUÇÕES_EXECUTADAS_APENAS_UMA_VEZ\n",
    "\n",
    "Por exemplo:"
   ]
  },
  {
   "cell_type": "code",
   "execution_count": 2,
   "metadata": {
    "slideshow": {
     "slide_type": "fragment"
    }
   },
   "outputs": [
    {
     "name": "stdout",
     "output_type": "stream",
     "text": [
      "i = 0\n",
      "i = 1\n",
      "i = 2\n",
      "i = 3\n",
      "i = 4\n",
      "i = 5\n"
     ]
    }
   ],
   "source": [
    "i = 0\n",
    "while i <= 5:\n",
    "    print('i =', i)\n",
    "    i = i + 1"
   ]
  },
  {
   "cell_type": "markdown",
   "metadata": {},
   "source": [
    "O **while** funciona da seguinte maneira:\n",
    "\n",
    "- Verifica se a condição é satisfeita;\n",
    "- se a condição não for satisfeita, não executa as instruções dentro do while e continua a execução normal.\n",
    "- se a condição for satisfeita, executa todas as instruções que está dentro do while (isso é indicado pela indentação)\n",
    "- Volta para o primeiro item para verificar novamente se a condição é satisfeita.\n"
   ]
  },
  {
   "cell_type": "markdown",
   "metadata": {
    "slideshow": {
     "slide_type": "fragment"
    }
   },
   "source": [
    "Repare em como a variável i muda de valor. Quando uma variável é utilizada desta forma, ela é conhecida como um **contador**."
   ]
  },
  {
   "cell_type": "markdown",
   "metadata": {
    "slideshow": {
     "slide_type": "slide"
    }
   },
   "source": [
    "### For\n",
    "\n",
    "A estrutura do comando for é:\n",
    "\n",
    "for VARIÁVEL in VETOR_COM_TODOS_OS_VALORES_QUE_VARIÁVEL_IRA_ASSUMIR:     \n",
    "    &nbsp;&nbsp;&nbsp;&nbsp;&nbsp;&nbsp;&nbsp;&nbsp;&nbsp;&nbsp;&nbsp;&nbsp;INSTRUÇÕES_QUE_SE_REPETIRÃO_PARA_CADA_VALOR_DA_VARIÁVEL \n",
    "\n",
    "INSTRUÇÕES_EXECUTADAS_APENAS_UMA_VEZ\n",
    "\n",
    "Por exemplo, o laço **for** a seguir irá imprimir o valor da variável **i** para cada valor que ela assumir."
   ]
  },
  {
   "cell_type": "code",
   "execution_count": 3,
   "metadata": {
    "slideshow": {
     "slide_type": "fragment"
    }
   },
   "outputs": [
    {
     "name": "stdout",
     "output_type": "stream",
     "text": [
      "i = 0\n",
      "i = 1\n",
      "i = 2\n",
      "i = 3\n",
      "i = 4\n",
      "i = 5\n"
     ]
    }
   ],
   "source": [
    "for i in [0,1,2,3,4,5]:\n",
    "    print('i =', i)"
   ]
  },
  {
   "cell_type": "markdown",
   "metadata": {
    "slideshow": {
     "slide_type": "slide"
    }
   },
   "source": [
    "Um outro comando para a construção da lista de números que a variável irá adotar é o comando **range**. Esse comando funciona apenas dentro do **for**, e é a maneira mais comum para produzir essa lista de números. \n",
    "\n",
    "O comando range é chamado com **range(inicio, fim, passo)**, em que *inicio* é um número inteiro que vai indicar o primeiro número da lista, *fim* é um número igual ao último número da lista adicionado de um e *passo* é um número inteiro que indica quanto será adicionado entre um número e outro da lista.\n",
    "\n",
    "Por exemplo, no caso abaixo será repetido entre 0 e 5 de 1 em 1:"
   ]
  },
  {
   "cell_type": "code",
   "execution_count": 7,
   "metadata": {
    "slideshow": {
     "slide_type": "fragment"
    }
   },
   "outputs": [
    {
     "name": "stdout",
     "output_type": "stream",
     "text": [
      "i = 0\n",
      "i = 1\n",
      "i = 2\n",
      "i = 3\n",
      "i = 4\n",
      "i = 5\n"
     ]
    }
   ],
   "source": [
    "for i in range(0,6,1):\n",
    "    print('i =', i)"
   ]
  },
  {
   "cell_type": "markdown",
   "metadata": {},
   "source": [
    "No exemplo abaixo o passo é 2, então começando do zero, a cada repetição é adicionado 2. Isso faz com que o i assuma os valores 0, 2 e 4. O 5 não aparece na lista porque o passo é 2."
   ]
  },
  {
   "cell_type": "code",
   "execution_count": 9,
   "metadata": {},
   "outputs": [
    {
     "name": "stdout",
     "output_type": "stream",
     "text": [
      "i = 0\n",
      "i = 2\n",
      "i = 4\n"
     ]
    }
   ],
   "source": [
    "for i in range(0,6,2):\n",
    "    print('i =', i)"
   ]
  },
  {
   "cell_type": "markdown",
   "metadata": {
    "slideshow": {
     "slide_type": "slide"
    }
   },
   "source": [
    "Para simplificar o comando 'range', se a diferença entre um elemento e outro for 1, não é necessário colocar essa diferença. No exemplo abaixo o i assume valores entre 0 e 5."
   ]
  },
  {
   "cell_type": "code",
   "execution_count": 10,
   "metadata": {
    "slideshow": {
     "slide_type": "fragment"
    }
   },
   "outputs": [
    {
     "name": "stdout",
     "output_type": "stream",
     "text": [
      "i = 0\n",
      "i = 1\n",
      "i = 2\n",
      "i = 3\n",
      "i = 4\n",
      "i = 5\n"
     ]
    }
   ],
   "source": [
    "for i in range(0,6):\n",
    "    print('i =', i)"
   ]
  },
  {
   "cell_type": "markdown",
   "metadata": {
    "slideshow": {
     "slide_type": "fragment"
    }
   },
   "source": [
    "Além disso, se o primeiro elemento for 0, não é necessário especificar o primeiro elemento. No exemplo abaixo o i assume valores entre 0 e 5:"
   ]
  },
  {
   "cell_type": "code",
   "execution_count": 7,
   "metadata": {
    "slideshow": {
     "slide_type": "fragment"
    }
   },
   "outputs": [
    {
     "name": "stdout",
     "output_type": "stream",
     "text": [
      "i = 0\n",
      "i = 1\n",
      "i = 2\n",
      "i = 3\n",
      "i = 4\n",
      "i = 5\n"
     ]
    }
   ],
   "source": [
    "for i in range(6):\n",
    "    print('i =', i)"
   ]
  },
  {
   "cell_type": "markdown",
   "metadata": {
    "slideshow": {
     "slide_type": "slide"
    }
   },
   "source": [
    "Se quisermos que o loop comece de um valor diferente de 0, devemos explicitar o primeiro elemento:"
   ]
  },
  {
   "cell_type": "code",
   "execution_count": 11,
   "metadata": {},
   "outputs": [
    {
     "name": "stdout",
     "output_type": "stream",
     "text": [
      "i = 2\n",
      "i = 3\n",
      "i = 4\n",
      "i = 5\n"
     ]
    }
   ],
   "source": [
    "for i in range(2, 6):\n",
    "    print('i =', i)"
   ]
  },
  {
   "cell_type": "markdown",
   "metadata": {
    "slideshow": {
     "slide_type": "slide"
    }
   },
   "source": [
    "### Somatória\n",
    "\n",
    "\n",
    "Se quisermos, por exemplo, fazer a seguinte somatória:\n",
    "\n",
    "\n",
    "$$ S = 1 + \\frac{1}{2} + \\frac{1}{4} + \\frac{1}{8} + ... $$"
   ]
  },
  {
   "cell_type": "markdown",
   "metadata": {
    "slideshow": {
     "slide_type": "fragment"
    }
   },
   "source": [
    "Pode-se notar que podemos escrever a somatória acima como:\n",
    "\n",
    "$$S = \\displaystyle\\sum_{i=0}^N \\frac{1}{2^i}$$\n",
    "\n",
    "Isso pode ser feito com um loop **for**. Considerando $N = 30$:"
   ]
  },
  {
   "cell_type": "code",
   "execution_count": 22,
   "metadata": {
    "slideshow": {
     "slide_type": "fragment"
    }
   },
   "outputs": [
    {
     "name": "stdout",
     "output_type": "stream",
     "text": [
      "S =  1.9999999990686774\n"
     ]
    }
   ],
   "source": [
    "N = 30\n",
    "S = 0\n",
    "for i in range(0, N+1, 1):\n",
    "    S = S + 1/2**i\n",
    "print('S = ',S)"
   ]
  },
  {
   "cell_type": "markdown",
   "metadata": {},
   "source": [
    "Um outro exemplo: vamos fazer a soma dos números 1 a 20 tirados a raiz quadrada. A soma será guardada na variável soma, que inicialmente tem o valor 0. Essa somatória pode ser representada por :\n",
    "\n",
    "$$S = \\sum_{i=1}^{20} \\sqrt{i} $$"
   ]
  },
  {
   "cell_type": "code",
   "execution_count": 13,
   "metadata": {},
   "outputs": [
    {
     "name": "stdout",
     "output_type": "stream",
     "text": [
      "61.66597781141981\n"
     ]
    }
   ],
   "source": [
    "import numpy as np\n",
    "\n",
    "soma = 0\n",
    "for i in range(1, 21):\n",
    "    soma = soma + np.sqrt(i)\n",
    "\n",
    "print(soma)"
   ]
  },
  {
   "cell_type": "markdown",
   "metadata": {},
   "source": [
    "Repare que a variável soma é inicializada fora do for. Se colocássemos dentro do for, a variável seria inicializada a cada repetição:"
   ]
  },
  {
   "cell_type": "code",
   "execution_count": 15,
   "metadata": {},
   "outputs": [
    {
     "name": "stdout",
     "output_type": "stream",
     "text": [
      "4.47213595499958\n"
     ]
    }
   ],
   "source": [
    "import numpy as np\n",
    "\n",
    "\n",
    "for i in range(1, 21):\n",
    "    soma = 0\n",
    "    soma = soma + np.sqrt(i)\n",
    "\n",
    "print(soma)"
   ]
  },
  {
   "cell_type": "markdown",
   "metadata": {},
   "source": [
    "Esse resultado é simplesmente a raiz quadrada do número 20 e não a soma de todas as raízes quadradas dos números 1 a 20. Colocar a variável que deve acumular um valor dentro do for é um dos erros mais comuns ao usar laços."
   ]
  },
  {
   "cell_type": "markdown",
   "metadata": {
    "slideshow": {
     "slide_type": "slide"
    }
   },
   "source": [
    "### Lendo um vetor do Numpy ou Listas\n",
    "\n",
    "\n",
    "Você pode usar um loop for (ou while) para ler valores individuais de vetores do Numpy.\n",
    "\n"
   ]
  },
  {
   "cell_type": "code",
   "execution_count": 18,
   "metadata": {
    "slideshow": {
     "slide_type": "fragment"
    }
   },
   "outputs": [
    {
     "name": "stdout",
     "output_type": "stream",
     "text": [
      "3\n",
      "19\n",
      "20\n",
      "-10\n",
      "101\n",
      "29\n"
     ]
    }
   ],
   "source": [
    "import numpy as np\n",
    "\n",
    "x = [3, 19, 20, -10, 101, 29]\n",
    "\n",
    "for i in range(len(x)):\n",
    "    print(x[i])"
   ]
  },
  {
   "cell_type": "markdown",
   "metadata": {
    "slideshow": {
     "slide_type": "slide"
    }
   },
   "source": [
    "### Gravando valores em uma lista\n",
    "**Loops com listas devem ser utilizados como último recurso. Na maioria das situações os comandos do Numpy são suficientes. Em geral é necessário usar um loop quando os elementos dos vetores dependem dos elementos anteriores.**\n",
    "\n",
    "Suponhamos agora que queremos gravar vários elementos em um vetor. \n",
    "\n",
    "Por exemplo, podemos querer gravar os 30 primeiros elementos da série de Fibonacci em um vetor (um elemento da série de Fibonacci é a soma dos dois elementos anteriores da série, em que os dois primeiros elementos são iguais a 1):"
   ]
  },
  {
   "cell_type": "code",
   "execution_count": 16,
   "metadata": {
    "slideshow": {
     "slide_type": "fragment"
    }
   },
   "outputs": [
    {
     "name": "stdout",
     "output_type": "stream",
     "text": [
      "[1, 1, 2, 3, 5, 8, 13, 21, 34, 55, 89, 144, 233, 377, 610, 987, 1597, 2584, 4181, 6765, 10946, 17711, 28657, 46368, 75025, 121393, 196418, 317811, 514229, 832040]\n"
     ]
    }
   ],
   "source": [
    "import numpy as np\n",
    "\n",
    "fib = [0]*30\n",
    "\n",
    "fib[0] = 1\n",
    "fib[1] = 1\n",
    "for i in range(2, len(fib)):\n",
    "    fib[i] = fib[i-1] + fib[i-2]\n",
    "\n",
    "print(fib)"
   ]
  },
  {
   "cell_type": "markdown",
   "metadata": {
    "slideshow": {
     "slide_type": "fragment"
    }
   },
   "source": [
    "Repare que antes de começar a gravar os valores no vetor fib, é necessário criá-lo. Isso é feito com o comando [0]\\*N, em que N é o número de elementos que o vetor tem. Além disso, os primeiros elementos de uma série devem ter os seus valores designados antes de começar o loop for."
   ]
  },
  {
   "cell_type": "markdown",
   "metadata": {},
   "source": [
    "## Laços com condicionais\n",
    "\n",
    "Podemos usar uma ou mais estruturas if dentro do for (ou while). "
   ]
  },
  {
   "cell_type": "markdown",
   "metadata": {
    "slideshow": {
     "slide_type": "slide"
    }
   },
   "source": [
    "Por exemplo, se quisermos computar a classificação do IMC ([ver o Notebook de Estruturas Condicionais](https://nbviewer.jupyter.org/format/slides/github/rnwatanabe/BasesComputacionais2021/blob/master/aula2/EstruturasCondicionais.ipynb)) para três pessoas, podemos gravar a massa e altura em listas e dentro de um for ler um valor por vez. Por exemplo, para $m_1 = 51$ kg e $h_1=1,51$ m, $m_2 = 78$ kg e $h_2=1,75$ m e $m_3 = 51$ kg e $h_3=1,51$ m , temos:"
   ]
  },
  {
   "cell_type": "code",
   "execution_count": 20,
   "metadata": {
    "slideshow": {
     "slide_type": "fragment"
    }
   },
   "outputs": [
    {
     "name": "stdout",
     "output_type": "stream",
     "text": [
      "O IMC para m =  51 kg e h =  1.51 m é  22.37 e  é classificado como Peso Normal\n",
      "O IMC para m =  78 kg e h =  1.75 m é  25.47 e  é classificado como Acima do Peso\n",
      "O IMC para m =  67 kg e h =  1.94 m é  17.8 e  é classificado como Abaixo do peso\n"
     ]
    }
   ],
   "source": [
    "m = [51, 78, 67]\n",
    "h = [1.51, 1.75, 1.94]\n",
    "\n",
    "for i in range(len(m)):\n",
    "\n",
    "    IMC= m[i]/h[i]**2\n",
    "\n",
    "    if  IMC <= 17:\n",
    "        print ('O IMC para m = ', m[i], 'kg e h = ', h[i], 'm é ', round(IMC, 2), 'e  é classificado como Muito abaixo do peso')\n",
    "    elif IMC <= 18.5:\n",
    "        print('O IMC para m = ', m[i], 'kg e h = ', h[i], 'm é ', round(IMC, 2), 'e  é classificado como Abaixo do peso')\n",
    "    elif IMC <= 25:\n",
    "        print('O IMC para m = ', m[i], 'kg e h = ', h[i], 'm é ', round(IMC, 2), 'e  é classificado como Peso Normal')\n",
    "    elif IMC <= 30:\n",
    "        print ('O IMC para m = ', m[i], 'kg e h = ', h[i], 'm é ', round(IMC, 2), 'e  é classificado como Acima do Peso')\n",
    "    elif IMC <= 35:\n",
    "        print ('O IMC para m = ', m[i], 'kg e h = ', h[i], 'm é ', round(IMC, 2), 'e  é classificado como Obesidade Grau I')\n",
    "    elif IMC <= 40:\n",
    "        print ('O IMC para m = ', m[i], 'kg e h = ', h[i], 'm é ', round(IMC, 2), 'e  é classificado como Obesidade Grau II')\n",
    "    else:\n",
    "        print ('O IMC para m = ', m[i], 'kg e h = ', h[i], 'm é ', round(IMC, 2), 'e  é classificado como Obesidade Grau III')"
   ]
  },
  {
   "cell_type": "markdown",
   "metadata": {
    "slideshow": {
     "slide_type": "slide"
    }
   },
   "source": [
    "### Lendo e gravando valores em tabelas\n",
    "\n",
    "Existem diversas maneiras para ler o valor de uma posição específica de uma tabela do Pandas.\n",
    "\n"
   ]
  },
  {
   "cell_type": "markdown",
   "metadata": {
    "slideshow": {
     "slide_type": "fragment"
    }
   },
   "source": [
    "A maneira mais comum é com o comando '.loc[*linha*, *coluna*]' acrescentado após o nome da variável com a tabela. Por exemplo, na tabela contendo informações de cada jogo, para vermos a Renda do jogo na linha 10, pode-se fazer:"
   ]
  },
  {
   "cell_type": "code",
   "execution_count": 24,
   "metadata": {},
   "outputs": [
    {
     "data": {
      "text/plain": [
       "317748.0"
      ]
     },
     "execution_count": 24,
     "metadata": {},
     "output_type": "execute_result"
    }
   ],
   "source": [
    "import pandas as pd\n",
    "\n",
    "tabela = pd.read_csv('https://raw.githubusercontent.com/rnwatanabe/BasesComputacionais2021/main/dados/tabelaBrasileirao2018.csv')\n",
    "tabela.loc[10, 'Renda (R$)']"
   ]
  },
  {
   "cell_type": "markdown",
   "metadata": {},
   "source": [
    "Podemos ler cada linha dentro de um for e mostrar na tela qual foi a renda de cada jogo:"
   ]
  },
  {
   "cell_type": "code",
   "execution_count": 25,
   "metadata": {},
   "outputs": [
    {
     "name": "stdout",
     "output_type": "stream",
     "text": [
      "418305.0\n",
      "238994.0\n",
      "526550.0\n",
      "36293.0\n",
      "796275.0\n",
      "176600.0\n",
      "1372018.07\n",
      "130015.0\n",
      "207880.0\n",
      "338295.0\n",
      "317748.0\n",
      "1641395.0\n",
      "632120.0\n",
      "128294.0\n",
      "263145.0\n",
      "193270.0\n",
      "743600.0\n",
      "717950.0\n",
      "688660.0\n",
      "101020.0\n",
      "248845.0\n",
      "1636169.0\n",
      "565405.0\n",
      "598085.0\n",
      "172105.0\n",
      "312815.0\n",
      "1749825.94\n",
      "816055.0\n",
      "60890.0\n",
      "318336.5\n",
      "788822.0\n",
      "91950.0\n",
      "2416706.37\n",
      "1415585.0\n",
      "391830.0\n",
      "733565.0\n",
      "66159.5\n",
      "249050.0\n",
      "822996.0\n",
      "155770.0\n",
      "2094717.0\n",
      "407831.0\n",
      "400565.0\n",
      "81630.0\n",
      "115685.0\n",
      "529597.0\n",
      "2006830.26\n",
      "140110.0\n",
      "250140.0\n",
      "84285.0\n",
      "629360.0\n",
      "1103010.0\n",
      "1517906.22\n",
      "101934.0\n",
      "954725.0\n",
      "252240.0\n",
      "593910.0\n",
      "54259.0\n",
      "238835.0\n",
      "480225.0\n",
      "395375.0\n",
      "1506726.18\n",
      "561325.0\n",
      "146405.0\n",
      "349730.0\n",
      "292051.0\n",
      "795765.0\n",
      "129145.0\n",
      "128138.0\n",
      "64570.0\n",
      "52101.0\n",
      "101875.0\n",
      "241945.0\n",
      "547988.0\n",
      "132850.0\n",
      "510968.0\n",
      "365112.0\n",
      "1780859.0\n",
      "1815526.96\n",
      "181655.0\n",
      "173475.0\n",
      "822680.0\n",
      "236400.0\n",
      "2172298.88\n",
      "2033277.0\n",
      "285457.5\n",
      "82830.0\n",
      "32230.0\n",
      "71385.0\n",
      "69525.0\n",
      "324896.0\n",
      "172220.0\n",
      "46519.0\n",
      "1249919.56\n",
      "288605.0\n",
      "889315.0\n",
      "411772.0\n",
      "3117575.0\n",
      "77635.0\n",
      "91850.0\n",
      "228490.0\n",
      "136420.0\n",
      "161905.0\n",
      "1212745.36\n",
      "246095.0\n",
      "189549.0\n",
      "959576.0\n",
      "372021.0\n",
      "1745965.0\n",
      "179645.0\n",
      "468038.0\n",
      "35434.0\n",
      "173580.0\n",
      "110050.0\n",
      "319665.0\n",
      "2598847.88\n",
      "124805.0\n",
      "303035.0\n",
      "563585.0\n",
      "303678.5\n",
      "99236.0\n",
      "67088.5\n",
      "1588687.0\n",
      "813687.13\n",
      "637521.0\n",
      "294127.0\n",
      "156310.0\n",
      "748458.0\n",
      "242405.0\n",
      "207770.0\n",
      "1121892.6\n",
      "2186542.5\n",
      "453426.0\n",
      "171160.0\n",
      "63515.0\n",
      "1907270.12\n",
      "171595.0\n",
      "167150.0\n",
      "245910.0\n",
      "569225.0\n",
      "565430.0\n",
      "262820.0\n",
      "292847.0\n",
      "840676.01\n",
      "57706.5\n",
      "128550.0\n",
      "695732.0\n",
      "32026.0\n",
      "40300.0\n",
      "234605.0\n",
      "101067.0\n",
      "2565986.14\n",
      "1823665.0\n",
      "1506319.0\n",
      "753455.0\n",
      "641978.0\n",
      "155230.0\n",
      "681095.0\n",
      "155868.0\n",
      "275277.0\n",
      "122665.0\n",
      "499161.0\n",
      "1087600.64\n",
      "86183.0\n",
      "1863410.0\n",
      "162275.0\n",
      "86756.0\n",
      "392845.0\n",
      "81640.0\n",
      "334995.0\n",
      "105166.0\n",
      "375746.0\n",
      "95680.0\n",
      "369140.0\n",
      "1530899.6\n",
      "311135.0\n",
      "324005.0\n",
      "1930884.8\n",
      "446803.0\n",
      "351130.0\n",
      "185210.5\n",
      "1621165.44\n",
      "744350.0\n",
      "1220310.0\n",
      "387435.0\n",
      "112783.0\n",
      "155440.0\n",
      "32872.0\n",
      "1348906.0\n",
      "378105.0\n",
      "169435.0\n",
      "339261.0\n",
      "296420.0\n",
      "1446357.26\n",
      "112605.0\n",
      "199795.0\n",
      "398680.0\n",
      "1090353.6\n",
      "381840.0\n",
      "78150.0\n",
      "201458.0\n",
      "349830.0\n",
      "1019205.58\n",
      "158575.0\n",
      "43980.0\n",
      "2118120.04\n",
      "166008.0\n",
      "1241702.5\n",
      "58872.0\n",
      "178970.0\n",
      "538966.0\n",
      "130653.5\n",
      "871670.0\n",
      "1059954.9\n",
      "1860048.0\n",
      "238580.0\n",
      "1881675.0\n",
      "88950.0\n",
      "217050.0\n",
      "186015.0\n",
      "210104.0\n",
      "70240.0\n",
      "1100839.0\n",
      "34480.0\n",
      "1263083.14\n",
      "842060.0\n",
      "312455.0\n",
      "170930.0\n",
      "335134.0\n",
      "48329.0\n",
      "53860.0\n",
      "1696417.5\n",
      "739360.0\n",
      "1375621.0\n",
      "231090.0\n",
      "36625.0\n",
      "2781213.42\n",
      "154300.0\n",
      "96348.0\n",
      "293068.0\n",
      "399507.0\n",
      "498716.0\n",
      "2902950.0\n",
      "222515.0\n",
      "1034262.0\n",
      "199670.0\n",
      "671382.0\n",
      "276596.0\n",
      "731299.3\n",
      "847505.0\n",
      "1906143.0\n",
      "1523542.0\n",
      "1062984.5\n",
      "1149396.6\n",
      "299815.0\n",
      "76697.0\n",
      "139705.0\n",
      "78179.5\n",
      "101065.0\n",
      "285695.0\n",
      "152190.0\n",
      "99755.0\n",
      "1171225.0\n",
      "1260130.0\n",
      "921900.0\n",
      "141227.0\n",
      "285760.0\n",
      "252708.0\n",
      "310170.0\n",
      "100535.0\n",
      "52510.0\n",
      "1381719.0\n",
      "57716.0\n",
      "116800.0\n",
      "198705.0\n",
      "2959044.0\n",
      "992980.0\n",
      "128405.0\n",
      "179210.0\n",
      "204315.0\n",
      "1140402.0\n",
      "778974.5\n",
      "256259.0\n",
      "116000.0\n",
      "249945.0\n",
      "1254125.0\n",
      "1307521.0\n",
      "181204.0\n",
      "196235.0\n",
      "402313.0\n",
      "107695.0\n",
      "45085.0\n",
      "495527.0\n",
      "86355.0\n",
      "188897.0\n",
      "81545.0\n",
      "1178690.0\n",
      "269185.0\n",
      "163169.0\n",
      "1082715.0\n",
      "122074.0\n",
      "262320.0\n",
      "329685.0\n",
      "165563.5\n",
      "1452823.0\n",
      "217270.0\n",
      "1116596.5\n",
      "104923.0\n",
      "132970.0\n",
      "477896.0\n",
      "143816.0\n",
      "343255.0\n",
      "2723126.86\n",
      "1109117.0\n",
      "15030.0\n",
      "98805.0\n",
      "195995.0\n",
      "294869.0\n",
      "741820.0\n",
      "265185.0\n",
      "31835.0\n",
      "1911492.99\n",
      "169885.0\n",
      "174170.0\n",
      "190868.0\n",
      "666258.0\n",
      "222650.0\n",
      "739883.0\n",
      "85355.0\n",
      "334014.5\n",
      "306340.0\n",
      "328821.0\n",
      "22940.0\n",
      "214425.0\n",
      "2480931.96\n",
      "128669.0\n",
      "1136024.0\n",
      "255850.0\n",
      "759161.0\n",
      "654065.0\n",
      "61140.0\n",
      "1350667.5\n",
      "112493.0\n",
      "283760.0\n",
      "1953570.0\n",
      "156802.5\n",
      "31955.0\n",
      "394042.0\n",
      "380708.0\n",
      "105015.0\n",
      "510090.0\n",
      "64715.5\n",
      "701361.0\n",
      "21781.0\n",
      "422925.0\n",
      "2615582.46\n",
      "354345.0\n",
      "187190.0\n",
      "306198.0\n",
      "541183.0\n",
      "89946.5\n",
      "343624.0\n",
      "596810.0\n",
      "191850.0\n",
      "18835.0\n",
      "19635.0\n",
      "1219472.0\n",
      "656330.0\n",
      "454321.0\n",
      "301970.0\n",
      "697255.0\n",
      "313452.0\n",
      "88495.0\n",
      "331630.0\n",
      "338691.0\n",
      "139932.5\n",
      "1128494.0\n",
      "3514618.3\n",
      "1450578.0\n",
      "225305.0\n"
     ]
    }
   ],
   "source": [
    "for i in range(len(tabela)):\n",
    "    print(tabela.loc[i, 'Renda (R$)'])"
   ]
  },
  {
   "cell_type": "code",
   "execution_count": 50,
   "metadata": {
    "slideshow": {
     "slide_type": "fragment"
    }
   },
   "outputs": [
    {
     "name": "stdout",
     "output_type": "stream",
     "text": [
      "Arroz\n"
     ]
    }
   ],
   "source": [
    "print(compras.loc[3, 'Produto'])"
   ]
  },
  {
   "cell_type": "markdown",
   "metadata": {
    "slideshow": {
     "slide_type": "slide"
    }
   },
   "source": [
    "Por exemplo, podemos usar um laço for para designar valores a uma nova coluna.  Na tabela abaixo, com informações de diversos sujeitos que participaram de um experimento, podemos classificar o índice de massa corporal e gravar em uma nova coluna.\n",
    "\n"
   ]
  },
  {
   "cell_type": "code",
   "execution_count": 27,
   "metadata": {},
   "outputs": [
    {
     "data": {
      "text/html": [
       "<div>\n",
       "<style scoped>\n",
       "    .dataframe tbody tr th:only-of-type {\n",
       "        vertical-align: middle;\n",
       "    }\n",
       "\n",
       "    .dataframe tbody tr th {\n",
       "        vertical-align: top;\n",
       "    }\n",
       "\n",
       "    .dataframe thead th {\n",
       "        text-align: right;\n",
       "    }\n",
       "</style>\n",
       "<table border=\"1\" class=\"dataframe\">\n",
       "  <thead>\n",
       "    <tr style=\"text-align: right;\">\n",
       "      <th></th>\n",
       "      <th>Trial</th>\n",
       "      <th>Subject</th>\n",
       "      <th>Vision</th>\n",
       "      <th>Surface</th>\n",
       "      <th>Age</th>\n",
       "      <th>AgeGroup</th>\n",
       "      <th>Gender</th>\n",
       "      <th>Height</th>\n",
       "      <th>Weight</th>\n",
       "      <th>BMI</th>\n",
       "      <th>...</th>\n",
       "      <th>Best_7</th>\n",
       "      <th>Best_8</th>\n",
       "      <th>Best_9</th>\n",
       "      <th>Best_10</th>\n",
       "      <th>Best_11</th>\n",
       "      <th>Best_12</th>\n",
       "      <th>Best_13</th>\n",
       "      <th>Best_14</th>\n",
       "      <th>Best_T</th>\n",
       "      <th>Date</th>\n",
       "    </tr>\n",
       "  </thead>\n",
       "  <tbody>\n",
       "    <tr>\n",
       "      <th>0</th>\n",
       "      <td>BDS00001</td>\n",
       "      <td>1</td>\n",
       "      <td>Open</td>\n",
       "      <td>Firm</td>\n",
       "      <td>33.000000</td>\n",
       "      <td>Young</td>\n",
       "      <td>F</td>\n",
       "      <td>157.5</td>\n",
       "      <td>54.2</td>\n",
       "      <td>21.849332</td>\n",
       "      <td>...</td>\n",
       "      <td>2</td>\n",
       "      <td>2</td>\n",
       "      <td>2</td>\n",
       "      <td>2</td>\n",
       "      <td>2</td>\n",
       "      <td>2</td>\n",
       "      <td>2</td>\n",
       "      <td>1</td>\n",
       "      <td>25</td>\n",
       "      <td>2015-10-08 08:30:00.000</td>\n",
       "    </tr>\n",
       "    <tr>\n",
       "      <th>1</th>\n",
       "      <td>BDS00002</td>\n",
       "      <td>1</td>\n",
       "      <td>Open</td>\n",
       "      <td>Firm</td>\n",
       "      <td>33.000000</td>\n",
       "      <td>Young</td>\n",
       "      <td>F</td>\n",
       "      <td>157.5</td>\n",
       "      <td>54.2</td>\n",
       "      <td>21.849332</td>\n",
       "      <td>...</td>\n",
       "      <td>2</td>\n",
       "      <td>2</td>\n",
       "      <td>2</td>\n",
       "      <td>2</td>\n",
       "      <td>2</td>\n",
       "      <td>2</td>\n",
       "      <td>2</td>\n",
       "      <td>1</td>\n",
       "      <td>25</td>\n",
       "      <td>2015-10-08 08:30:00.000</td>\n",
       "    </tr>\n",
       "    <tr>\n",
       "      <th>2</th>\n",
       "      <td>BDS00003</td>\n",
       "      <td>1</td>\n",
       "      <td>Open</td>\n",
       "      <td>Firm</td>\n",
       "      <td>33.000000</td>\n",
       "      <td>Young</td>\n",
       "      <td>F</td>\n",
       "      <td>157.5</td>\n",
       "      <td>54.2</td>\n",
       "      <td>21.849332</td>\n",
       "      <td>...</td>\n",
       "      <td>2</td>\n",
       "      <td>2</td>\n",
       "      <td>2</td>\n",
       "      <td>2</td>\n",
       "      <td>2</td>\n",
       "      <td>2</td>\n",
       "      <td>2</td>\n",
       "      <td>1</td>\n",
       "      <td>25</td>\n",
       "      <td>2015-10-08 08:30:00.000</td>\n",
       "    </tr>\n",
       "    <tr>\n",
       "      <th>3</th>\n",
       "      <td>BDS00004</td>\n",
       "      <td>1</td>\n",
       "      <td>Closed</td>\n",
       "      <td>Firm</td>\n",
       "      <td>33.000000</td>\n",
       "      <td>Young</td>\n",
       "      <td>F</td>\n",
       "      <td>157.5</td>\n",
       "      <td>54.2</td>\n",
       "      <td>21.849332</td>\n",
       "      <td>...</td>\n",
       "      <td>2</td>\n",
       "      <td>2</td>\n",
       "      <td>2</td>\n",
       "      <td>2</td>\n",
       "      <td>2</td>\n",
       "      <td>2</td>\n",
       "      <td>2</td>\n",
       "      <td>1</td>\n",
       "      <td>25</td>\n",
       "      <td>2015-10-08 08:30:00.000</td>\n",
       "    </tr>\n",
       "    <tr>\n",
       "      <th>4</th>\n",
       "      <td>BDS00005</td>\n",
       "      <td>1</td>\n",
       "      <td>Closed</td>\n",
       "      <td>Firm</td>\n",
       "      <td>33.000000</td>\n",
       "      <td>Young</td>\n",
       "      <td>F</td>\n",
       "      <td>157.5</td>\n",
       "      <td>54.2</td>\n",
       "      <td>21.849332</td>\n",
       "      <td>...</td>\n",
       "      <td>2</td>\n",
       "      <td>2</td>\n",
       "      <td>2</td>\n",
       "      <td>2</td>\n",
       "      <td>2</td>\n",
       "      <td>2</td>\n",
       "      <td>2</td>\n",
       "      <td>1</td>\n",
       "      <td>25</td>\n",
       "      <td>2015-10-08 08:30:00.000</td>\n",
       "    </tr>\n",
       "    <tr>\n",
       "      <th>...</th>\n",
       "      <td>...</td>\n",
       "      <td>...</td>\n",
       "      <td>...</td>\n",
       "      <td>...</td>\n",
       "      <td>...</td>\n",
       "      <td>...</td>\n",
       "      <td>...</td>\n",
       "      <td>...</td>\n",
       "      <td>...</td>\n",
       "      <td>...</td>\n",
       "      <td>...</td>\n",
       "      <td>...</td>\n",
       "      <td>...</td>\n",
       "      <td>...</td>\n",
       "      <td>...</td>\n",
       "      <td>...</td>\n",
       "      <td>...</td>\n",
       "      <td>...</td>\n",
       "      <td>...</td>\n",
       "      <td>...</td>\n",
       "      <td>...</td>\n",
       "    </tr>\n",
       "    <tr>\n",
       "      <th>1925</th>\n",
       "      <td>BDS01952</td>\n",
       "      <td>163</td>\n",
       "      <td>Open</td>\n",
       "      <td>Firm</td>\n",
       "      <td>25.416667</td>\n",
       "      <td>Young</td>\n",
       "      <td>M</td>\n",
       "      <td>172.0</td>\n",
       "      <td>74.6</td>\n",
       "      <td>25.216333</td>\n",
       "      <td>...</td>\n",
       "      <td>2</td>\n",
       "      <td>2</td>\n",
       "      <td>2</td>\n",
       "      <td>2</td>\n",
       "      <td>2</td>\n",
       "      <td>2</td>\n",
       "      <td>2</td>\n",
       "      <td>2</td>\n",
       "      <td>26</td>\n",
       "      <td>2016-03-11 10:49:57.538</td>\n",
       "    </tr>\n",
       "    <tr>\n",
       "      <th>1926</th>\n",
       "      <td>BDS01953</td>\n",
       "      <td>163</td>\n",
       "      <td>Open</td>\n",
       "      <td>Firm</td>\n",
       "      <td>25.416667</td>\n",
       "      <td>Young</td>\n",
       "      <td>M</td>\n",
       "      <td>172.0</td>\n",
       "      <td>74.6</td>\n",
       "      <td>25.216333</td>\n",
       "      <td>...</td>\n",
       "      <td>2</td>\n",
       "      <td>2</td>\n",
       "      <td>2</td>\n",
       "      <td>2</td>\n",
       "      <td>2</td>\n",
       "      <td>2</td>\n",
       "      <td>2</td>\n",
       "      <td>2</td>\n",
       "      <td>26</td>\n",
       "      <td>2016-03-11 10:49:57.538</td>\n",
       "    </tr>\n",
       "    <tr>\n",
       "      <th>1927</th>\n",
       "      <td>BDS01954</td>\n",
       "      <td>163</td>\n",
       "      <td>Closed</td>\n",
       "      <td>Foam</td>\n",
       "      <td>25.416667</td>\n",
       "      <td>Young</td>\n",
       "      <td>M</td>\n",
       "      <td>172.0</td>\n",
       "      <td>74.6</td>\n",
       "      <td>25.216333</td>\n",
       "      <td>...</td>\n",
       "      <td>2</td>\n",
       "      <td>2</td>\n",
       "      <td>2</td>\n",
       "      <td>2</td>\n",
       "      <td>2</td>\n",
       "      <td>2</td>\n",
       "      <td>2</td>\n",
       "      <td>2</td>\n",
       "      <td>26</td>\n",
       "      <td>2016-03-11 10:49:57.538</td>\n",
       "    </tr>\n",
       "    <tr>\n",
       "      <th>1928</th>\n",
       "      <td>BDS01955</td>\n",
       "      <td>163</td>\n",
       "      <td>Closed</td>\n",
       "      <td>Foam</td>\n",
       "      <td>25.416667</td>\n",
       "      <td>Young</td>\n",
       "      <td>M</td>\n",
       "      <td>172.0</td>\n",
       "      <td>74.6</td>\n",
       "      <td>25.216333</td>\n",
       "      <td>...</td>\n",
       "      <td>2</td>\n",
       "      <td>2</td>\n",
       "      <td>2</td>\n",
       "      <td>2</td>\n",
       "      <td>2</td>\n",
       "      <td>2</td>\n",
       "      <td>2</td>\n",
       "      <td>2</td>\n",
       "      <td>26</td>\n",
       "      <td>2016-03-11 10:49:57.538</td>\n",
       "    </tr>\n",
       "    <tr>\n",
       "      <th>1929</th>\n",
       "      <td>BDS01956</td>\n",
       "      <td>163</td>\n",
       "      <td>Closed</td>\n",
       "      <td>Foam</td>\n",
       "      <td>25.416667</td>\n",
       "      <td>Young</td>\n",
       "      <td>M</td>\n",
       "      <td>172.0</td>\n",
       "      <td>74.6</td>\n",
       "      <td>25.216333</td>\n",
       "      <td>...</td>\n",
       "      <td>2</td>\n",
       "      <td>2</td>\n",
       "      <td>2</td>\n",
       "      <td>2</td>\n",
       "      <td>2</td>\n",
       "      <td>2</td>\n",
       "      <td>2</td>\n",
       "      <td>2</td>\n",
       "      <td>26</td>\n",
       "      <td>2016-03-11 10:49:57.538</td>\n",
       "    </tr>\n",
       "  </tbody>\n",
       "</table>\n",
       "<p>1930 rows × 64 columns</p>\n",
       "</div>"
      ],
      "text/plain": [
       "         Trial  Subject  Vision Surface        Age AgeGroup Gender  Height  \\\n",
       "0     BDS00001        1    Open    Firm  33.000000    Young      F   157.5   \n",
       "1     BDS00002        1    Open    Firm  33.000000    Young      F   157.5   \n",
       "2     BDS00003        1    Open    Firm  33.000000    Young      F   157.5   \n",
       "3     BDS00004        1  Closed    Firm  33.000000    Young      F   157.5   \n",
       "4     BDS00005        1  Closed    Firm  33.000000    Young      F   157.5   \n",
       "...        ...      ...     ...     ...        ...      ...    ...     ...   \n",
       "1925  BDS01952      163    Open    Firm  25.416667    Young      M   172.0   \n",
       "1926  BDS01953      163    Open    Firm  25.416667    Young      M   172.0   \n",
       "1927  BDS01954      163  Closed    Foam  25.416667    Young      M   172.0   \n",
       "1928  BDS01955      163  Closed    Foam  25.416667    Young      M   172.0   \n",
       "1929  BDS01956      163  Closed    Foam  25.416667    Young      M   172.0   \n",
       "\n",
       "      Weight        BMI  ...  Best_7 Best_8 Best_9  Best_10 Best_11 Best_12  \\\n",
       "0       54.2  21.849332  ...       2      2      2        2       2       2   \n",
       "1       54.2  21.849332  ...       2      2      2        2       2       2   \n",
       "2       54.2  21.849332  ...       2      2      2        2       2       2   \n",
       "3       54.2  21.849332  ...       2      2      2        2       2       2   \n",
       "4       54.2  21.849332  ...       2      2      2        2       2       2   \n",
       "...      ...        ...  ...     ...    ...    ...      ...     ...     ...   \n",
       "1925    74.6  25.216333  ...       2      2      2        2       2       2   \n",
       "1926    74.6  25.216333  ...       2      2      2        2       2       2   \n",
       "1927    74.6  25.216333  ...       2      2      2        2       2       2   \n",
       "1928    74.6  25.216333  ...       2      2      2        2       2       2   \n",
       "1929    74.6  25.216333  ...       2      2      2        2       2       2   \n",
       "\n",
       "     Best_13  Best_14 Best_T                     Date  \n",
       "0          2        1     25  2015-10-08 08:30:00.000  \n",
       "1          2        1     25  2015-10-08 08:30:00.000  \n",
       "2          2        1     25  2015-10-08 08:30:00.000  \n",
       "3          2        1     25  2015-10-08 08:30:00.000  \n",
       "4          2        1     25  2015-10-08 08:30:00.000  \n",
       "...      ...      ...    ...                      ...  \n",
       "1925       2        2     26  2016-03-11 10:49:57.538  \n",
       "1926       2        2     26  2016-03-11 10:49:57.538  \n",
       "1927       2        2     26  2016-03-11 10:49:57.538  \n",
       "1928       2        2     26  2016-03-11 10:49:57.538  \n",
       "1929       2        2     26  2016-03-11 10:49:57.538  \n",
       "\n",
       "[1930 rows x 64 columns]"
      ]
     },
     "execution_count": 27,
     "metadata": {},
     "output_type": "execute_result"
    }
   ],
   "source": [
    "info = pd.read_csv('https://raw.githubusercontent.com/rnwatanabe/BasesComputacionais2021/main/dados/BDSinfo.csv', sep='\\t')\n",
    "info"
   ]
  },
  {
   "cell_type": "markdown",
   "metadata": {},
   "source": [
    "Para criar a nova coluna pode-se por o nome da nova coluna entre colchetes e igualar a zero."
   ]
  },
  {
   "cell_type": "code",
   "execution_count": 33,
   "metadata": {},
   "outputs": [
    {
     "data": {
      "text/html": [
       "<div>\n",
       "<style scoped>\n",
       "    .dataframe tbody tr th:only-of-type {\n",
       "        vertical-align: middle;\n",
       "    }\n",
       "\n",
       "    .dataframe tbody tr th {\n",
       "        vertical-align: top;\n",
       "    }\n",
       "\n",
       "    .dataframe thead th {\n",
       "        text-align: right;\n",
       "    }\n",
       "</style>\n",
       "<table border=\"1\" class=\"dataframe\">\n",
       "  <thead>\n",
       "    <tr style=\"text-align: right;\">\n",
       "      <th></th>\n",
       "      <th>Trial</th>\n",
       "      <th>Subject</th>\n",
       "      <th>Vision</th>\n",
       "      <th>Surface</th>\n",
       "      <th>Age</th>\n",
       "      <th>AgeGroup</th>\n",
       "      <th>Gender</th>\n",
       "      <th>Height</th>\n",
       "      <th>Weight</th>\n",
       "      <th>BMI</th>\n",
       "      <th>...</th>\n",
       "      <th>Best_8</th>\n",
       "      <th>Best_9</th>\n",
       "      <th>Best_10</th>\n",
       "      <th>Best_11</th>\n",
       "      <th>Best_12</th>\n",
       "      <th>Best_13</th>\n",
       "      <th>Best_14</th>\n",
       "      <th>Best_T</th>\n",
       "      <th>Date</th>\n",
       "      <th>Classificação IMC</th>\n",
       "    </tr>\n",
       "  </thead>\n",
       "  <tbody>\n",
       "    <tr>\n",
       "      <th>0</th>\n",
       "      <td>BDS00001</td>\n",
       "      <td>1</td>\n",
       "      <td>Open</td>\n",
       "      <td>Firm</td>\n",
       "      <td>33.000000</td>\n",
       "      <td>Young</td>\n",
       "      <td>F</td>\n",
       "      <td>157.5</td>\n",
       "      <td>54.2</td>\n",
       "      <td>21.849332</td>\n",
       "      <td>...</td>\n",
       "      <td>2</td>\n",
       "      <td>2</td>\n",
       "      <td>2</td>\n",
       "      <td>2</td>\n",
       "      <td>2</td>\n",
       "      <td>2</td>\n",
       "      <td>1</td>\n",
       "      <td>25</td>\n",
       "      <td>2015-10-08 08:30:00.000</td>\n",
       "      <td>Peso Normal</td>\n",
       "    </tr>\n",
       "    <tr>\n",
       "      <th>1</th>\n",
       "      <td>BDS00002</td>\n",
       "      <td>1</td>\n",
       "      <td>Open</td>\n",
       "      <td>Firm</td>\n",
       "      <td>33.000000</td>\n",
       "      <td>Young</td>\n",
       "      <td>F</td>\n",
       "      <td>157.5</td>\n",
       "      <td>54.2</td>\n",
       "      <td>21.849332</td>\n",
       "      <td>...</td>\n",
       "      <td>2</td>\n",
       "      <td>2</td>\n",
       "      <td>2</td>\n",
       "      <td>2</td>\n",
       "      <td>2</td>\n",
       "      <td>2</td>\n",
       "      <td>1</td>\n",
       "      <td>25</td>\n",
       "      <td>2015-10-08 08:30:00.000</td>\n",
       "      <td>Peso Normal</td>\n",
       "    </tr>\n",
       "    <tr>\n",
       "      <th>2</th>\n",
       "      <td>BDS00003</td>\n",
       "      <td>1</td>\n",
       "      <td>Open</td>\n",
       "      <td>Firm</td>\n",
       "      <td>33.000000</td>\n",
       "      <td>Young</td>\n",
       "      <td>F</td>\n",
       "      <td>157.5</td>\n",
       "      <td>54.2</td>\n",
       "      <td>21.849332</td>\n",
       "      <td>...</td>\n",
       "      <td>2</td>\n",
       "      <td>2</td>\n",
       "      <td>2</td>\n",
       "      <td>2</td>\n",
       "      <td>2</td>\n",
       "      <td>2</td>\n",
       "      <td>1</td>\n",
       "      <td>25</td>\n",
       "      <td>2015-10-08 08:30:00.000</td>\n",
       "      <td>Peso Normal</td>\n",
       "    </tr>\n",
       "    <tr>\n",
       "      <th>3</th>\n",
       "      <td>BDS00004</td>\n",
       "      <td>1</td>\n",
       "      <td>Closed</td>\n",
       "      <td>Firm</td>\n",
       "      <td>33.000000</td>\n",
       "      <td>Young</td>\n",
       "      <td>F</td>\n",
       "      <td>157.5</td>\n",
       "      <td>54.2</td>\n",
       "      <td>21.849332</td>\n",
       "      <td>...</td>\n",
       "      <td>2</td>\n",
       "      <td>2</td>\n",
       "      <td>2</td>\n",
       "      <td>2</td>\n",
       "      <td>2</td>\n",
       "      <td>2</td>\n",
       "      <td>1</td>\n",
       "      <td>25</td>\n",
       "      <td>2015-10-08 08:30:00.000</td>\n",
       "      <td>Peso Normal</td>\n",
       "    </tr>\n",
       "    <tr>\n",
       "      <th>4</th>\n",
       "      <td>BDS00005</td>\n",
       "      <td>1</td>\n",
       "      <td>Closed</td>\n",
       "      <td>Firm</td>\n",
       "      <td>33.000000</td>\n",
       "      <td>Young</td>\n",
       "      <td>F</td>\n",
       "      <td>157.5</td>\n",
       "      <td>54.2</td>\n",
       "      <td>21.849332</td>\n",
       "      <td>...</td>\n",
       "      <td>2</td>\n",
       "      <td>2</td>\n",
       "      <td>2</td>\n",
       "      <td>2</td>\n",
       "      <td>2</td>\n",
       "      <td>2</td>\n",
       "      <td>1</td>\n",
       "      <td>25</td>\n",
       "      <td>2015-10-08 08:30:00.000</td>\n",
       "      <td>Peso Normal</td>\n",
       "    </tr>\n",
       "    <tr>\n",
       "      <th>...</th>\n",
       "      <td>...</td>\n",
       "      <td>...</td>\n",
       "      <td>...</td>\n",
       "      <td>...</td>\n",
       "      <td>...</td>\n",
       "      <td>...</td>\n",
       "      <td>...</td>\n",
       "      <td>...</td>\n",
       "      <td>...</td>\n",
       "      <td>...</td>\n",
       "      <td>...</td>\n",
       "      <td>...</td>\n",
       "      <td>...</td>\n",
       "      <td>...</td>\n",
       "      <td>...</td>\n",
       "      <td>...</td>\n",
       "      <td>...</td>\n",
       "      <td>...</td>\n",
       "      <td>...</td>\n",
       "      <td>...</td>\n",
       "      <td>...</td>\n",
       "    </tr>\n",
       "    <tr>\n",
       "      <th>1925</th>\n",
       "      <td>BDS01952</td>\n",
       "      <td>163</td>\n",
       "      <td>Open</td>\n",
       "      <td>Firm</td>\n",
       "      <td>25.416667</td>\n",
       "      <td>Young</td>\n",
       "      <td>M</td>\n",
       "      <td>172.0</td>\n",
       "      <td>74.6</td>\n",
       "      <td>25.216333</td>\n",
       "      <td>...</td>\n",
       "      <td>2</td>\n",
       "      <td>2</td>\n",
       "      <td>2</td>\n",
       "      <td>2</td>\n",
       "      <td>2</td>\n",
       "      <td>2</td>\n",
       "      <td>2</td>\n",
       "      <td>26</td>\n",
       "      <td>2016-03-11 10:49:57.538</td>\n",
       "      <td>Acima do Peso</td>\n",
       "    </tr>\n",
       "    <tr>\n",
       "      <th>1926</th>\n",
       "      <td>BDS01953</td>\n",
       "      <td>163</td>\n",
       "      <td>Open</td>\n",
       "      <td>Firm</td>\n",
       "      <td>25.416667</td>\n",
       "      <td>Young</td>\n",
       "      <td>M</td>\n",
       "      <td>172.0</td>\n",
       "      <td>74.6</td>\n",
       "      <td>25.216333</td>\n",
       "      <td>...</td>\n",
       "      <td>2</td>\n",
       "      <td>2</td>\n",
       "      <td>2</td>\n",
       "      <td>2</td>\n",
       "      <td>2</td>\n",
       "      <td>2</td>\n",
       "      <td>2</td>\n",
       "      <td>26</td>\n",
       "      <td>2016-03-11 10:49:57.538</td>\n",
       "      <td>Acima do Peso</td>\n",
       "    </tr>\n",
       "    <tr>\n",
       "      <th>1927</th>\n",
       "      <td>BDS01954</td>\n",
       "      <td>163</td>\n",
       "      <td>Closed</td>\n",
       "      <td>Foam</td>\n",
       "      <td>25.416667</td>\n",
       "      <td>Young</td>\n",
       "      <td>M</td>\n",
       "      <td>172.0</td>\n",
       "      <td>74.6</td>\n",
       "      <td>25.216333</td>\n",
       "      <td>...</td>\n",
       "      <td>2</td>\n",
       "      <td>2</td>\n",
       "      <td>2</td>\n",
       "      <td>2</td>\n",
       "      <td>2</td>\n",
       "      <td>2</td>\n",
       "      <td>2</td>\n",
       "      <td>26</td>\n",
       "      <td>2016-03-11 10:49:57.538</td>\n",
       "      <td>Acima do Peso</td>\n",
       "    </tr>\n",
       "    <tr>\n",
       "      <th>1928</th>\n",
       "      <td>BDS01955</td>\n",
       "      <td>163</td>\n",
       "      <td>Closed</td>\n",
       "      <td>Foam</td>\n",
       "      <td>25.416667</td>\n",
       "      <td>Young</td>\n",
       "      <td>M</td>\n",
       "      <td>172.0</td>\n",
       "      <td>74.6</td>\n",
       "      <td>25.216333</td>\n",
       "      <td>...</td>\n",
       "      <td>2</td>\n",
       "      <td>2</td>\n",
       "      <td>2</td>\n",
       "      <td>2</td>\n",
       "      <td>2</td>\n",
       "      <td>2</td>\n",
       "      <td>2</td>\n",
       "      <td>26</td>\n",
       "      <td>2016-03-11 10:49:57.538</td>\n",
       "      <td>Acima do Peso</td>\n",
       "    </tr>\n",
       "    <tr>\n",
       "      <th>1929</th>\n",
       "      <td>BDS01956</td>\n",
       "      <td>163</td>\n",
       "      <td>Closed</td>\n",
       "      <td>Foam</td>\n",
       "      <td>25.416667</td>\n",
       "      <td>Young</td>\n",
       "      <td>M</td>\n",
       "      <td>172.0</td>\n",
       "      <td>74.6</td>\n",
       "      <td>25.216333</td>\n",
       "      <td>...</td>\n",
       "      <td>2</td>\n",
       "      <td>2</td>\n",
       "      <td>2</td>\n",
       "      <td>2</td>\n",
       "      <td>2</td>\n",
       "      <td>2</td>\n",
       "      <td>2</td>\n",
       "      <td>26</td>\n",
       "      <td>2016-03-11 10:49:57.538</td>\n",
       "      <td>Acima do Peso</td>\n",
       "    </tr>\n",
       "  </tbody>\n",
       "</table>\n",
       "<p>1930 rows × 65 columns</p>\n",
       "</div>"
      ],
      "text/plain": [
       "         Trial  Subject  Vision Surface        Age AgeGroup Gender  Height  \\\n",
       "0     BDS00001        1    Open    Firm  33.000000    Young      F   157.5   \n",
       "1     BDS00002        1    Open    Firm  33.000000    Young      F   157.5   \n",
       "2     BDS00003        1    Open    Firm  33.000000    Young      F   157.5   \n",
       "3     BDS00004        1  Closed    Firm  33.000000    Young      F   157.5   \n",
       "4     BDS00005        1  Closed    Firm  33.000000    Young      F   157.5   \n",
       "...        ...      ...     ...     ...        ...      ...    ...     ...   \n",
       "1925  BDS01952      163    Open    Firm  25.416667    Young      M   172.0   \n",
       "1926  BDS01953      163    Open    Firm  25.416667    Young      M   172.0   \n",
       "1927  BDS01954      163  Closed    Foam  25.416667    Young      M   172.0   \n",
       "1928  BDS01955      163  Closed    Foam  25.416667    Young      M   172.0   \n",
       "1929  BDS01956      163  Closed    Foam  25.416667    Young      M   172.0   \n",
       "\n",
       "      Weight        BMI  ...  Best_8 Best_9 Best_10  Best_11 Best_12 Best_13  \\\n",
       "0       54.2  21.849332  ...       2      2       2        2       2       2   \n",
       "1       54.2  21.849332  ...       2      2       2        2       2       2   \n",
       "2       54.2  21.849332  ...       2      2       2        2       2       2   \n",
       "3       54.2  21.849332  ...       2      2       2        2       2       2   \n",
       "4       54.2  21.849332  ...       2      2       2        2       2       2   \n",
       "...      ...        ...  ...     ...    ...     ...      ...     ...     ...   \n",
       "1925    74.6  25.216333  ...       2      2       2        2       2       2   \n",
       "1926    74.6  25.216333  ...       2      2       2        2       2       2   \n",
       "1927    74.6  25.216333  ...       2      2       2        2       2       2   \n",
       "1928    74.6  25.216333  ...       2      2       2        2       2       2   \n",
       "1929    74.6  25.216333  ...       2      2       2        2       2       2   \n",
       "\n",
       "     Best_14  Best_T                     Date Classificação IMC  \n",
       "0          1      25  2015-10-08 08:30:00.000       Peso Normal  \n",
       "1          1      25  2015-10-08 08:30:00.000       Peso Normal  \n",
       "2          1      25  2015-10-08 08:30:00.000       Peso Normal  \n",
       "3          1      25  2015-10-08 08:30:00.000       Peso Normal  \n",
       "4          1      25  2015-10-08 08:30:00.000       Peso Normal  \n",
       "...      ...     ...                      ...               ...  \n",
       "1925       2      26  2016-03-11 10:49:57.538     Acima do Peso  \n",
       "1926       2      26  2016-03-11 10:49:57.538     Acima do Peso  \n",
       "1927       2      26  2016-03-11 10:49:57.538     Acima do Peso  \n",
       "1928       2      26  2016-03-11 10:49:57.538     Acima do Peso  \n",
       "1929       2      26  2016-03-11 10:49:57.538     Acima do Peso  \n",
       "\n",
       "[1930 rows x 65 columns]"
      ]
     },
     "execution_count": 33,
     "metadata": {},
     "output_type": "execute_result"
    }
   ],
   "source": [
    "info['Classificação IMC'] = 0\n",
    "\n",
    "for i in range(len(info)):\n",
    "    IMC = info.loc[i, 'BMI']\n",
    "    if  IMC <= 17:\n",
    "        info.loc[i, 'Classificação IMC'] = 'Muito abaixo do peso'\n",
    "    elif IMC <= 18.5:\n",
    "        info.loc[i, 'Classificação IMC'] =  'Abaixo do peso'\n",
    "    elif IMC <= 25:\n",
    "        info.loc[i, 'Classificação IMC'] =  'Peso Normal'\n",
    "    elif IMC <= 30:\n",
    "        info.loc[i, 'Classificação IMC'] =  'Acima do Peso'\n",
    "    elif IMC <= 35:\n",
    "        info.loc[i, 'Classificação IMC'] =  'Obesidade Grau I'\n",
    "    elif IMC <= 40:\n",
    "        info.loc[i, 'Classificação IMC'] =  'Obesidade Grau II'\n",
    "    else:\n",
    "        info.loc[i, 'Classificação IMC'] =  'Obesidade Grau III'\n",
    "info"
   ]
  },
  {
   "cell_type": "markdown",
   "metadata": {},
   "source": [
    "## Lendo informações de diversas tabelas.\n",
    "\n",
    "Vamos considerar novamente a tabela vista no item, anterior.\n",
    "\n",
    "A coluna Trial tem a informação do nome do arquivo csv que separa as colunas com tabulação (sep='\\t'). Os arquivos se encontram no endereço 'https://raw.githubusercontent.com/BMClab/datasets/master/BDS/data/'. Por exemplo, o arquivo da primeira coluna está em 'https://raw.githubusercontent.com/BMClab/datasets/master/BDS/data/BDS00001.txt'. \n",
    "\n",
    "Um exemplo está abaixo. O que será feito é calcular o desvio-padrão da coluna 'COPx[cm]' e gravar na coluna nova SD COP da tabela info."
   ]
  },
  {
   "cell_type": "code",
   "execution_count": 32,
   "metadata": {},
   "outputs": [
    {
     "data": {
      "text/html": [
       "<div>\n",
       "<style scoped>\n",
       "    .dataframe tbody tr th:only-of-type {\n",
       "        vertical-align: middle;\n",
       "    }\n",
       "\n",
       "    .dataframe tbody tr th {\n",
       "        vertical-align: top;\n",
       "    }\n",
       "\n",
       "    .dataframe thead th {\n",
       "        text-align: right;\n",
       "    }\n",
       "</style>\n",
       "<table border=\"1\" class=\"dataframe\">\n",
       "  <thead>\n",
       "    <tr style=\"text-align: right;\">\n",
       "      <th></th>\n",
       "      <th>Time[s]</th>\n",
       "      <th>Fx[N]</th>\n",
       "      <th>Fy[N]</th>\n",
       "      <th>Fz[N]</th>\n",
       "      <th>Mx[Nm]</th>\n",
       "      <th>My[Nm]</th>\n",
       "      <th>Mz[Nm]</th>\n",
       "      <th>COPx[cm]</th>\n",
       "      <th>COPy[cm]</th>\n",
       "    </tr>\n",
       "  </thead>\n",
       "  <tbody>\n",
       "    <tr>\n",
       "      <th>0</th>\n",
       "      <td>0.01</td>\n",
       "      <td>-1.633567</td>\n",
       "      <td>-3.739135</td>\n",
       "      <td>539.066061</td>\n",
       "      <td>5.383505</td>\n",
       "      <td>43.064851</td>\n",
       "      <td>-0.570876</td>\n",
       "      <td>-7.988789</td>\n",
       "      <td>0.998673</td>\n",
       "    </tr>\n",
       "    <tr>\n",
       "      <th>1</th>\n",
       "      <td>0.02</td>\n",
       "      <td>-1.631645</td>\n",
       "      <td>-3.755459</td>\n",
       "      <td>538.591198</td>\n",
       "      <td>5.373275</td>\n",
       "      <td>43.020015</td>\n",
       "      <td>-0.575349</td>\n",
       "      <td>-7.987508</td>\n",
       "      <td>0.997654</td>\n",
       "    </tr>\n",
       "    <tr>\n",
       "      <th>2</th>\n",
       "      <td>0.03</td>\n",
       "      <td>-1.628593</td>\n",
       "      <td>-3.762146</td>\n",
       "      <td>538.207318</td>\n",
       "      <td>5.367719</td>\n",
       "      <td>42.974805</td>\n",
       "      <td>-0.578670</td>\n",
       "      <td>-7.984805</td>\n",
       "      <td>0.997333</td>\n",
       "    </tr>\n",
       "    <tr>\n",
       "      <th>3</th>\n",
       "      <td>0.04</td>\n",
       "      <td>-1.623200</td>\n",
       "      <td>-3.753010</td>\n",
       "      <td>537.977214</td>\n",
       "      <td>5.369522</td>\n",
       "      <td>42.929275</td>\n",
       "      <td>-0.580162</td>\n",
       "      <td>-7.979757</td>\n",
       "      <td>0.998095</td>\n",
       "    </tr>\n",
       "    <tr>\n",
       "      <th>4</th>\n",
       "      <td>0.05</td>\n",
       "      <td>-1.613998</td>\n",
       "      <td>-3.727238</td>\n",
       "      <td>537.915946</td>\n",
       "      <td>5.378311</td>\n",
       "      <td>42.883767</td>\n",
       "      <td>-0.579954</td>\n",
       "      <td>-7.972206</td>\n",
       "      <td>0.999842</td>\n",
       "    </tr>\n",
       "    <tr>\n",
       "      <th>...</th>\n",
       "      <td>...</td>\n",
       "      <td>...</td>\n",
       "      <td>...</td>\n",
       "      <td>...</td>\n",
       "      <td>...</td>\n",
       "      <td>...</td>\n",
       "      <td>...</td>\n",
       "      <td>...</td>\n",
       "      <td>...</td>\n",
       "    </tr>\n",
       "    <tr>\n",
       "      <th>5995</th>\n",
       "      <td>59.96</td>\n",
       "      <td>-1.852502</td>\n",
       "      <td>-3.789532</td>\n",
       "      <td>537.973430</td>\n",
       "      <td>3.874740</td>\n",
       "      <td>42.991493</td>\n",
       "      <td>-0.588572</td>\n",
       "      <td>-7.991379</td>\n",
       "      <td>0.720248</td>\n",
       "    </tr>\n",
       "    <tr>\n",
       "      <th>5996</th>\n",
       "      <td>59.97</td>\n",
       "      <td>-1.886581</td>\n",
       "      <td>-3.779105</td>\n",
       "      <td>537.948648</td>\n",
       "      <td>3.861585</td>\n",
       "      <td>43.033405</td>\n",
       "      <td>-0.589867</td>\n",
       "      <td>-7.999538</td>\n",
       "      <td>0.717835</td>\n",
       "    </tr>\n",
       "    <tr>\n",
       "      <th>5997</th>\n",
       "      <td>59.98</td>\n",
       "      <td>-1.921050</td>\n",
       "      <td>-3.756310</td>\n",
       "      <td>537.925328</td>\n",
       "      <td>3.856231</td>\n",
       "      <td>43.065014</td>\n",
       "      <td>-0.587054</td>\n",
       "      <td>-8.005761</td>\n",
       "      <td>0.716871</td>\n",
       "    </tr>\n",
       "    <tr>\n",
       "      <th>5998</th>\n",
       "      <td>59.99</td>\n",
       "      <td>-1.955378</td>\n",
       "      <td>-3.720179</td>\n",
       "      <td>537.918819</td>\n",
       "      <td>3.858031</td>\n",
       "      <td>43.087835</td>\n",
       "      <td>-0.580753</td>\n",
       "      <td>-8.010100</td>\n",
       "      <td>0.717214</td>\n",
       "    </tr>\n",
       "    <tr>\n",
       "      <th>5999</th>\n",
       "      <td>60.00</td>\n",
       "      <td>-1.989472</td>\n",
       "      <td>-3.675460</td>\n",
       "      <td>537.928958</td>\n",
       "      <td>3.864220</td>\n",
       "      <td>43.105662</td>\n",
       "      <td>-0.572509</td>\n",
       "      <td>-8.013263</td>\n",
       "      <td>0.718351</td>\n",
       "    </tr>\n",
       "  </tbody>\n",
       "</table>\n",
       "<p>6000 rows × 9 columns</p>\n",
       "</div>"
      ],
      "text/plain": [
       "      Time[s]     Fx[N]     Fy[N]       Fz[N]    Mx[Nm]     My[Nm]    Mz[Nm]  \\\n",
       "0        0.01 -1.633567 -3.739135  539.066061  5.383505  43.064851 -0.570876   \n",
       "1        0.02 -1.631645 -3.755459  538.591198  5.373275  43.020015 -0.575349   \n",
       "2        0.03 -1.628593 -3.762146  538.207318  5.367719  42.974805 -0.578670   \n",
       "3        0.04 -1.623200 -3.753010  537.977214  5.369522  42.929275 -0.580162   \n",
       "4        0.05 -1.613998 -3.727238  537.915946  5.378311  42.883767 -0.579954   \n",
       "...       ...       ...       ...         ...       ...        ...       ...   \n",
       "5995    59.96 -1.852502 -3.789532  537.973430  3.874740  42.991493 -0.588572   \n",
       "5996    59.97 -1.886581 -3.779105  537.948648  3.861585  43.033405 -0.589867   \n",
       "5997    59.98 -1.921050 -3.756310  537.925328  3.856231  43.065014 -0.587054   \n",
       "5998    59.99 -1.955378 -3.720179  537.918819  3.858031  43.087835 -0.580753   \n",
       "5999    60.00 -1.989472 -3.675460  537.928958  3.864220  43.105662 -0.572509   \n",
       "\n",
       "      COPx[cm]  COPy[cm]  \n",
       "0    -7.988789  0.998673  \n",
       "1    -7.987508  0.997654  \n",
       "2    -7.984805  0.997333  \n",
       "3    -7.979757  0.998095  \n",
       "4    -7.972206  0.999842  \n",
       "...        ...       ...  \n",
       "5995 -7.991379  0.720248  \n",
       "5996 -7.999538  0.717835  \n",
       "5997 -8.005761  0.716871  \n",
       "5998 -8.010100  0.717214  \n",
       "5999 -8.013263  0.718351  \n",
       "\n",
       "[6000 rows x 9 columns]"
      ]
     },
     "execution_count": 32,
     "metadata": {},
     "output_type": "execute_result"
    }
   ],
   "source": [
    "dado = pd.read_csv('https://raw.githubusercontent.com/BMClab/datasets/master/BDS/data/BDS00001.txt', sep='\\t')\n",
    "dado"
   ]
  },
  {
   "cell_type": "markdown",
   "metadata": {},
   "source": [
    "Como fazer para todos os arquivos levaria muito tempo, podemos fazer apenas para as primeiras 50 linhas."
   ]
  },
  {
   "cell_type": "code",
   "execution_count": 34,
   "metadata": {},
   "outputs": [
    {
     "data": {
      "text/html": [
       "<div>\n",
       "<style scoped>\n",
       "    .dataframe tbody tr th:only-of-type {\n",
       "        vertical-align: middle;\n",
       "    }\n",
       "\n",
       "    .dataframe tbody tr th {\n",
       "        vertical-align: top;\n",
       "    }\n",
       "\n",
       "    .dataframe thead th {\n",
       "        text-align: right;\n",
       "    }\n",
       "</style>\n",
       "<table border=\"1\" class=\"dataframe\">\n",
       "  <thead>\n",
       "    <tr style=\"text-align: right;\">\n",
       "      <th></th>\n",
       "      <th>Trial</th>\n",
       "      <th>Subject</th>\n",
       "      <th>Vision</th>\n",
       "      <th>Surface</th>\n",
       "      <th>Age</th>\n",
       "      <th>AgeGroup</th>\n",
       "      <th>Gender</th>\n",
       "      <th>Height</th>\n",
       "      <th>Weight</th>\n",
       "      <th>BMI</th>\n",
       "      <th>...</th>\n",
       "      <th>Best_9</th>\n",
       "      <th>Best_10</th>\n",
       "      <th>Best_11</th>\n",
       "      <th>Best_12</th>\n",
       "      <th>Best_13</th>\n",
       "      <th>Best_14</th>\n",
       "      <th>Best_T</th>\n",
       "      <th>Date</th>\n",
       "      <th>Classificação IMC</th>\n",
       "      <th>SD COP</th>\n",
       "    </tr>\n",
       "  </thead>\n",
       "  <tbody>\n",
       "    <tr>\n",
       "      <th>0</th>\n",
       "      <td>BDS00001</td>\n",
       "      <td>1</td>\n",
       "      <td>Open</td>\n",
       "      <td>Firm</td>\n",
       "      <td>33.000000</td>\n",
       "      <td>Young</td>\n",
       "      <td>F</td>\n",
       "      <td>157.5</td>\n",
       "      <td>54.2</td>\n",
       "      <td>21.849332</td>\n",
       "      <td>...</td>\n",
       "      <td>2</td>\n",
       "      <td>2</td>\n",
       "      <td>2</td>\n",
       "      <td>2</td>\n",
       "      <td>2</td>\n",
       "      <td>1</td>\n",
       "      <td>25</td>\n",
       "      <td>2015-10-08 08:30:00.000</td>\n",
       "      <td>Peso Normal</td>\n",
       "      <td>0.296330</td>\n",
       "    </tr>\n",
       "    <tr>\n",
       "      <th>1</th>\n",
       "      <td>BDS00002</td>\n",
       "      <td>1</td>\n",
       "      <td>Open</td>\n",
       "      <td>Firm</td>\n",
       "      <td>33.000000</td>\n",
       "      <td>Young</td>\n",
       "      <td>F</td>\n",
       "      <td>157.5</td>\n",
       "      <td>54.2</td>\n",
       "      <td>21.849332</td>\n",
       "      <td>...</td>\n",
       "      <td>2</td>\n",
       "      <td>2</td>\n",
       "      <td>2</td>\n",
       "      <td>2</td>\n",
       "      <td>2</td>\n",
       "      <td>1</td>\n",
       "      <td>25</td>\n",
       "      <td>2015-10-08 08:30:00.000</td>\n",
       "      <td>Peso Normal</td>\n",
       "      <td>0.371164</td>\n",
       "    </tr>\n",
       "    <tr>\n",
       "      <th>2</th>\n",
       "      <td>BDS00003</td>\n",
       "      <td>1</td>\n",
       "      <td>Open</td>\n",
       "      <td>Firm</td>\n",
       "      <td>33.000000</td>\n",
       "      <td>Young</td>\n",
       "      <td>F</td>\n",
       "      <td>157.5</td>\n",
       "      <td>54.2</td>\n",
       "      <td>21.849332</td>\n",
       "      <td>...</td>\n",
       "      <td>2</td>\n",
       "      <td>2</td>\n",
       "      <td>2</td>\n",
       "      <td>2</td>\n",
       "      <td>2</td>\n",
       "      <td>1</td>\n",
       "      <td>25</td>\n",
       "      <td>2015-10-08 08:30:00.000</td>\n",
       "      <td>Peso Normal</td>\n",
       "      <td>0.212820</td>\n",
       "    </tr>\n",
       "    <tr>\n",
       "      <th>3</th>\n",
       "      <td>BDS00004</td>\n",
       "      <td>1</td>\n",
       "      <td>Closed</td>\n",
       "      <td>Firm</td>\n",
       "      <td>33.000000</td>\n",
       "      <td>Young</td>\n",
       "      <td>F</td>\n",
       "      <td>157.5</td>\n",
       "      <td>54.2</td>\n",
       "      <td>21.849332</td>\n",
       "      <td>...</td>\n",
       "      <td>2</td>\n",
       "      <td>2</td>\n",
       "      <td>2</td>\n",
       "      <td>2</td>\n",
       "      <td>2</td>\n",
       "      <td>1</td>\n",
       "      <td>25</td>\n",
       "      <td>2015-10-08 08:30:00.000</td>\n",
       "      <td>Peso Normal</td>\n",
       "      <td>0.183446</td>\n",
       "    </tr>\n",
       "    <tr>\n",
       "      <th>4</th>\n",
       "      <td>BDS00005</td>\n",
       "      <td>1</td>\n",
       "      <td>Closed</td>\n",
       "      <td>Firm</td>\n",
       "      <td>33.000000</td>\n",
       "      <td>Young</td>\n",
       "      <td>F</td>\n",
       "      <td>157.5</td>\n",
       "      <td>54.2</td>\n",
       "      <td>21.849332</td>\n",
       "      <td>...</td>\n",
       "      <td>2</td>\n",
       "      <td>2</td>\n",
       "      <td>2</td>\n",
       "      <td>2</td>\n",
       "      <td>2</td>\n",
       "      <td>1</td>\n",
       "      <td>25</td>\n",
       "      <td>2015-10-08 08:30:00.000</td>\n",
       "      <td>Peso Normal</td>\n",
       "      <td>0.396116</td>\n",
       "    </tr>\n",
       "    <tr>\n",
       "      <th>...</th>\n",
       "      <td>...</td>\n",
       "      <td>...</td>\n",
       "      <td>...</td>\n",
       "      <td>...</td>\n",
       "      <td>...</td>\n",
       "      <td>...</td>\n",
       "      <td>...</td>\n",
       "      <td>...</td>\n",
       "      <td>...</td>\n",
       "      <td>...</td>\n",
       "      <td>...</td>\n",
       "      <td>...</td>\n",
       "      <td>...</td>\n",
       "      <td>...</td>\n",
       "      <td>...</td>\n",
       "      <td>...</td>\n",
       "      <td>...</td>\n",
       "      <td>...</td>\n",
       "      <td>...</td>\n",
       "      <td>...</td>\n",
       "      <td>...</td>\n",
       "    </tr>\n",
       "    <tr>\n",
       "      <th>1925</th>\n",
       "      <td>BDS01952</td>\n",
       "      <td>163</td>\n",
       "      <td>Open</td>\n",
       "      <td>Firm</td>\n",
       "      <td>25.416667</td>\n",
       "      <td>Young</td>\n",
       "      <td>M</td>\n",
       "      <td>172.0</td>\n",
       "      <td>74.6</td>\n",
       "      <td>25.216333</td>\n",
       "      <td>...</td>\n",
       "      <td>2</td>\n",
       "      <td>2</td>\n",
       "      <td>2</td>\n",
       "      <td>2</td>\n",
       "      <td>2</td>\n",
       "      <td>2</td>\n",
       "      <td>26</td>\n",
       "      <td>2016-03-11 10:49:57.538</td>\n",
       "      <td>Acima do Peso</td>\n",
       "      <td>0.000000</td>\n",
       "    </tr>\n",
       "    <tr>\n",
       "      <th>1926</th>\n",
       "      <td>BDS01953</td>\n",
       "      <td>163</td>\n",
       "      <td>Open</td>\n",
       "      <td>Firm</td>\n",
       "      <td>25.416667</td>\n",
       "      <td>Young</td>\n",
       "      <td>M</td>\n",
       "      <td>172.0</td>\n",
       "      <td>74.6</td>\n",
       "      <td>25.216333</td>\n",
       "      <td>...</td>\n",
       "      <td>2</td>\n",
       "      <td>2</td>\n",
       "      <td>2</td>\n",
       "      <td>2</td>\n",
       "      <td>2</td>\n",
       "      <td>2</td>\n",
       "      <td>26</td>\n",
       "      <td>2016-03-11 10:49:57.538</td>\n",
       "      <td>Acima do Peso</td>\n",
       "      <td>0.000000</td>\n",
       "    </tr>\n",
       "    <tr>\n",
       "      <th>1927</th>\n",
       "      <td>BDS01954</td>\n",
       "      <td>163</td>\n",
       "      <td>Closed</td>\n",
       "      <td>Foam</td>\n",
       "      <td>25.416667</td>\n",
       "      <td>Young</td>\n",
       "      <td>M</td>\n",
       "      <td>172.0</td>\n",
       "      <td>74.6</td>\n",
       "      <td>25.216333</td>\n",
       "      <td>...</td>\n",
       "      <td>2</td>\n",
       "      <td>2</td>\n",
       "      <td>2</td>\n",
       "      <td>2</td>\n",
       "      <td>2</td>\n",
       "      <td>2</td>\n",
       "      <td>26</td>\n",
       "      <td>2016-03-11 10:49:57.538</td>\n",
       "      <td>Acima do Peso</td>\n",
       "      <td>0.000000</td>\n",
       "    </tr>\n",
       "    <tr>\n",
       "      <th>1928</th>\n",
       "      <td>BDS01955</td>\n",
       "      <td>163</td>\n",
       "      <td>Closed</td>\n",
       "      <td>Foam</td>\n",
       "      <td>25.416667</td>\n",
       "      <td>Young</td>\n",
       "      <td>M</td>\n",
       "      <td>172.0</td>\n",
       "      <td>74.6</td>\n",
       "      <td>25.216333</td>\n",
       "      <td>...</td>\n",
       "      <td>2</td>\n",
       "      <td>2</td>\n",
       "      <td>2</td>\n",
       "      <td>2</td>\n",
       "      <td>2</td>\n",
       "      <td>2</td>\n",
       "      <td>26</td>\n",
       "      <td>2016-03-11 10:49:57.538</td>\n",
       "      <td>Acima do Peso</td>\n",
       "      <td>0.000000</td>\n",
       "    </tr>\n",
       "    <tr>\n",
       "      <th>1929</th>\n",
       "      <td>BDS01956</td>\n",
       "      <td>163</td>\n",
       "      <td>Closed</td>\n",
       "      <td>Foam</td>\n",
       "      <td>25.416667</td>\n",
       "      <td>Young</td>\n",
       "      <td>M</td>\n",
       "      <td>172.0</td>\n",
       "      <td>74.6</td>\n",
       "      <td>25.216333</td>\n",
       "      <td>...</td>\n",
       "      <td>2</td>\n",
       "      <td>2</td>\n",
       "      <td>2</td>\n",
       "      <td>2</td>\n",
       "      <td>2</td>\n",
       "      <td>2</td>\n",
       "      <td>26</td>\n",
       "      <td>2016-03-11 10:49:57.538</td>\n",
       "      <td>Acima do Peso</td>\n",
       "      <td>0.000000</td>\n",
       "    </tr>\n",
       "  </tbody>\n",
       "</table>\n",
       "<p>1930 rows × 66 columns</p>\n",
       "</div>"
      ],
      "text/plain": [
       "         Trial  Subject  Vision Surface        Age AgeGroup Gender  Height  \\\n",
       "0     BDS00001        1    Open    Firm  33.000000    Young      F   157.5   \n",
       "1     BDS00002        1    Open    Firm  33.000000    Young      F   157.5   \n",
       "2     BDS00003        1    Open    Firm  33.000000    Young      F   157.5   \n",
       "3     BDS00004        1  Closed    Firm  33.000000    Young      F   157.5   \n",
       "4     BDS00005        1  Closed    Firm  33.000000    Young      F   157.5   \n",
       "...        ...      ...     ...     ...        ...      ...    ...     ...   \n",
       "1925  BDS01952      163    Open    Firm  25.416667    Young      M   172.0   \n",
       "1926  BDS01953      163    Open    Firm  25.416667    Young      M   172.0   \n",
       "1927  BDS01954      163  Closed    Foam  25.416667    Young      M   172.0   \n",
       "1928  BDS01955      163  Closed    Foam  25.416667    Young      M   172.0   \n",
       "1929  BDS01956      163  Closed    Foam  25.416667    Young      M   172.0   \n",
       "\n",
       "      Weight        BMI  ...  Best_9 Best_10 Best_11  Best_12 Best_13 Best_14  \\\n",
       "0       54.2  21.849332  ...       2       2       2        2       2       1   \n",
       "1       54.2  21.849332  ...       2       2       2        2       2       1   \n",
       "2       54.2  21.849332  ...       2       2       2        2       2       1   \n",
       "3       54.2  21.849332  ...       2       2       2        2       2       1   \n",
       "4       54.2  21.849332  ...       2       2       2        2       2       1   \n",
       "...      ...        ...  ...     ...     ...     ...      ...     ...     ...   \n",
       "1925    74.6  25.216333  ...       2       2       2        2       2       2   \n",
       "1926    74.6  25.216333  ...       2       2       2        2       2       2   \n",
       "1927    74.6  25.216333  ...       2       2       2        2       2       2   \n",
       "1928    74.6  25.216333  ...       2       2       2        2       2       2   \n",
       "1929    74.6  25.216333  ...       2       2       2        2       2       2   \n",
       "\n",
       "     Best_T                     Date Classificação IMC    SD COP  \n",
       "0        25  2015-10-08 08:30:00.000       Peso Normal  0.296330  \n",
       "1        25  2015-10-08 08:30:00.000       Peso Normal  0.371164  \n",
       "2        25  2015-10-08 08:30:00.000       Peso Normal  0.212820  \n",
       "3        25  2015-10-08 08:30:00.000       Peso Normal  0.183446  \n",
       "4        25  2015-10-08 08:30:00.000       Peso Normal  0.396116  \n",
       "...     ...                      ...               ...       ...  \n",
       "1925     26  2016-03-11 10:49:57.538     Acima do Peso  0.000000  \n",
       "1926     26  2016-03-11 10:49:57.538     Acima do Peso  0.000000  \n",
       "1927     26  2016-03-11 10:49:57.538     Acima do Peso  0.000000  \n",
       "1928     26  2016-03-11 10:49:57.538     Acima do Peso  0.000000  \n",
       "1929     26  2016-03-11 10:49:57.538     Acima do Peso  0.000000  \n",
       "\n",
       "[1930 rows x 66 columns]"
      ]
     },
     "execution_count": 34,
     "metadata": {},
     "output_type": "execute_result"
    }
   ],
   "source": [
    "info['SD COP'] = 0\n",
    "\n",
    "for i in range(50):\n",
    "    trial = info.loc[i, 'Trial']\n",
    "    dado = pd.read_csv('https://raw.githubusercontent.com/BMClab/datasets/master/BDS/data/'+trial+'.txt', sep='\\t')\n",
    "    dp_cop = dado['COPx[cm]'].std()\n",
    "    info.loc[i, 'SD COP'] = dp_cop\n",
    "\n",
    "info"
   ]
  },
  {
   "cell_type": "markdown",
   "metadata": {},
   "source": [
    "## Gráficos"
   ]
  },
  {
   "cell_type": "markdown",
   "metadata": {},
   "source": [
    "Podemos usar laços também para fazer gráficos. Por exemplo, para fazer um gráfico do Peso (Weight) em função da Altura da pessoa (Height)."
   ]
  },
  {
   "cell_type": "code",
   "execution_count": 36,
   "metadata": {},
   "outputs": [
    {
     "data": {
      "image/png": "[encoded data removed]",
      "text/plain": [
       "<Figure size 432x288 with 1 Axes>"
      ]
     },
     "metadata": {
      "needs_background": "light"
     },
     "output_type": "display_data"
    }
   ],
   "source": [
    "import matplotlib.pyplot as plt\n",
    "\n",
    "plt.figure()\n",
    "plt.plot(info['Weight'], info['Height'], marker='o', linestyle='')\n",
    "plt.show()"
   ]
  },
  {
   "cell_type": "markdown",
   "metadata": {},
   "source": [
    "Mas podemos fazer um outro nível de informação no gráfico, mudando, por exemplo, o tamanho do marcador de acordo com o IMC da pessoa (BMI). Para isso temos que fazer cada marcador com um plot dentro de um for."
   ]
  },
  {
   "cell_type": "code",
   "execution_count": 43,
   "metadata": {},
   "outputs": [
    {
     "data": {
      "image/png": "[encoded data removed]",
      "text/plain": [
       "<Figure size 432x288 with 1 Axes>"
      ]
     },
     "metadata": {
      "needs_background": "light"
     },
     "output_type": "display_data"
    }
   ],
   "source": [
    "plt.figure()\n",
    "for i in range(len(info)):  \n",
    "    plt.plot(info.loc[i,'Weight'], info.loc[i,'Height'], marker='o', \n",
    "             linestyle='', markersize=info.loc[i,'BMI']/3, color='blue')\n",
    "plt.xlabel('Peso (kg)')\n",
    "plt.ylabel('Altura (cm)')\n",
    "plt.show()\n",
    "    "
   ]
  },
  {
   "cell_type": "markdown",
   "metadata": {},
   "source": [
    "O gráfico acima mostra um marcador do tamanho proporcional ao IMC da pessoa. Dessa maneira podemos mostrar uma terceira informação no mesmo gráfico. Abaixo adicionamos um quarto nível de informação fazendo a cor do marcador ser em função da idade (Age). Isso pode ser feito colocando o parâmetro color em função da coluna idade. Aqui, quanto mais claro a bola, mais velho é o sujeito."
   ]
  },
  {
   "cell_type": "code",
   "execution_count": 48,
   "metadata": {},
   "outputs": [
    {
     "data": {
      "image/png": "[encoded data removed]",
      "text/plain": [
       "<Figure size 432x288 with 1 Axes>"
      ]
     },
     "metadata": {
      "needs_background": "light"
     },
     "output_type": "display_data"
    }
   ],
   "source": [
    "plt.figure()\n",
    "for i in range(len(info)):  \n",
    "    plt.plot(info.loc[i,'Weight'], info.loc[i,'Height'], marker='o', \n",
    "             linestyle='', color=[info.loc[i,'Age']/100, info.loc[i,'Age']/100, info.loc[i,'Age']/100], markersize=info.loc[i,'BMI']/3)\n",
    "plt.xlabel('Peso (kg)')\n",
    "plt.ylabel('Altura (cm)')\n",
    "plt.show()"
   ]
  },
  {
   "cell_type": "markdown",
   "metadata": {
    "slideshow": {
     "slide_type": "slide"
    }
   },
   "source": [
    "### Sugestão de exercícios\n",
    "\n",
    "- **1)** Três séries, $v, y$ e $t$ seguem as seguintes regras:\n",
    "        \n",
    "$$v[i] = v[i-1] + 0,01.(-9,81)$$\n",
    "$$y[i] = y[i-1] + 0,01v[i-1]$$\n",
    "$$t[i] = t[i-1] + 0,01$$\n",
    "        \n",
    "Começando com v[0] = 10 m/s, y[0] = 0 m e t[0] = 0 s, calcule os 250 primeiros valores das três séries. \n",
    "\n",
    "Faça os gráficos com os valores encontrados de $y$ em função de $t$ e dos valores encontrados de $v$ em função de $t$.\n",
    "\n",
    "Observação: o cálculo destas três séries é uma simulação computacional para calcular a posição e velocidade de uma partícula lançada na vertical com velocidade inicial de 10 m/s. O método utilizado para realizar esta simulação é conhecido como método de Euler."
   ]
  },
  {
   "cell_type": "markdown",
   "metadata": {
    "slideshow": {
     "slide_type": "slide"
    }
   },
   "source": [
    "**2)** Faça a aproximação de $\\pi$ usando a fórmula de Leibniz:\n",
    "\n",
    "$$\\pi \\approx 4 - \\frac{4}{3} + \\frac{4}{5} - \\frac{4}{7} + \\frac{4}{9}+...$$\n",
    "\n",
    "Calcule (e mostre na tela) a aproximação de $\\pi$ considerando a) 50 termos, b) 500 termos, c) 1000 termos e d) 10000 termos. \n",
    "\n",
    "Dica: Note que o sinal do termo muda a cada termo. Talvez verificar se o $i$ é par ou ímpar ajude a decidir se para aquele i o sinal é mais ou menos.\n"
   ]
  },
  {
   "cell_type": "markdown",
   "metadata": {
    "slideshow": {
     "slide_type": "slide"
    }
   },
   "source": [
    "**3)** Para este item você deverá usar o arquivo com a [taxa de inflação mensal (IGP-DI) no Brasil de fevereiro de 1944 a junho de 2019](dados/inflacaoMensal.csv) (dados disponibilizados por Ipeadata). \n",
    "\n",
    "- Faça um gráfico com a taxa de inflação anual em função dos anos, de 1945 a 2018.\n",
    "\n",
    "Sugestões: Crie um outro DataFrame com um campo com a inflação anual e um outro campo  com o ano. Outra opção é criar um vetor do Numpy com os anos e um outro vetor do Numpy com a taxa de inflação anual calculada. \n",
    "\n",
    "Lembre-se de que o dado da inflação mensal é o aumento de preço em relação ao mês anterior.\n",
    "\n",
    "Portanto, o índice de inflação anual, dado os índices de inflação mensais em %, é:\n",
    "\n",
    "$$\\text{Inf} = \\left[\\left(1+\\frac{\\text{Inf}_1}{100}\\right).\\left(1+\\frac{\\text{Inf}_2}{100}\\right)...\\left(1+\\frac{\\text{Inf}_{12}}{100}\\right) - 1\\right].100$$\n",
    "\n",
    "Dica: para construir um vetor x com N elementos com o valor 1 em todos os elementos, utilize o comando 'x = np.ones((N))'. Isso pode ser útil para construir o vetor inicial com a inflação de cada ano. Como o cálculo da inflação envolve multiplicações e não somas o valor inicial deve ser 1 e não 0."
   ]
  },
  {
   "cell_type": "markdown",
   "metadata": {
    "slideshow": {
     "slide_type": "slide"
    }
   },
   "source": [
    "**4)** Calcular a aproximação de uma onda quadrada seguindo a seguinte expressão (a expressão abaixo é calculada utilizando uma teoria matemática conhecida como série de Fourier):\n",
    "\n",
    "$$x(t)  \\approx \\frac{4}{\\pi}\\displaystyle \\sum_{i = 1}^N \\frac{\\sin\\left[(2i - 1)t\\right]}{2i - 1}$$\n",
    "\n",
    "Faça a aproximação para $0 \\leqslant t \\leqslant 10$ (utilize um número suficiente de pontos no vetor $t$ para poder observar o gráfico de $x(t)$, algo em torno de 100000 pontos).\n",
    "\n",
    "Faça a aproximação para a) N = 10, b) N = 100, c) N = 1000 e d) N = 10000. Coloque todas as aproximações em um único gráfico, com a aproximação de $x(t)$ em função de $t$.\n",
    "\n",
    "Dica: se você estiver com dificuldade, faça primeiro o gráfico considerando i = 1, sem nenhuma somatória (N = 1). Depois disso, coloque o código que você tiver escrito dentro de um for ou while para variar o valor de i e fazer a somatória.\n",
    "\n"
   ]
  },
  {
   "cell_type": "markdown",
   "metadata": {
    "slideshow": {
     "slide_type": "slide"
    }
   },
   "source": [
    "### Referências\n",
    "\n",
    "- Chalco, JM, *Slides de Bases Computacionais da Ciência*, (2014)\n",
    "- Leite, S, *Slides de Bases Computacionais da Ciência*, (2018)\n",
    "- [Marietto, MGB et al.; **Bases computacionais da Ciência** (2013)](http://prograd.ufabc.edu.br/images/pdf/bases_computacionais_livro.pdf).\n",
    "- [Ipeadata](http://www.ipeadata.gov.br)\n",
    "- [BDS: Balance Data Set](https://github.com/BMClab/datasets/tree/master/Balance)"
   ]
  },
  {
   "cell_type": "code",
   "execution_count": null,
   "metadata": {},
   "outputs": [],
   "source": []
  }
 ],
 "metadata": {
  "celltoolbar": "Slideshow",
  "kernelspec": {
   "display_name": "Python 3",
   "language": "python",
   "name": "python3"
  },
  "language_info": {
   "codemirror_mode": {
    "name": "ipython",
    "version": 3
   },
   "file_extension": ".py",
   "mimetype": "text/x-python",
   "name": "python",
   "nbconvert_exporter": "python",
   "pygments_lexer": "ipython3",
   "version": "3.8.8"
  },
  "latex_envs": {
   "LaTeX_envs_menu_present": true,
   "autoclose": false,
   "autocomplete": true,
   "bibliofile": "biblio.bib",
   "cite_by": "apalike",
   "current_citInitial": 1,
   "eqLabelWithNumbers": true,
   "eqNumInitial": 1,
   "hotkeys": {
    "equation": "Ctrl-E",
    "itemize": "Ctrl-I"
   },
   "labels_anchors": false,
   "latex_user_defs": false,
   "report_style_numbering": false,
   "user_envs_cfg": false
  },
  "nbTranslate": {
   "displayLangs": [
    "*"
   ],
   "hotkey": "alt-t",
   "langInMainMenu": true,
   "sourceLang": "en",
   "targetLang": "fr",
   "useGoogleTranslate": true
  }
 },
 "nbformat": 4,
 "nbformat_minor": 4
}
