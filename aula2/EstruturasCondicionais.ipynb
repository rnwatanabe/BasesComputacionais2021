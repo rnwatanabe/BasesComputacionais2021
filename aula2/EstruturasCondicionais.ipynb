{
 "cells": [
  {
   "cell_type": "markdown",
   "metadata": {
    "slideshow": {
     "slide_type": "slide"
    }
   },
   "source": [
    "# Estruturas condicionais\n",
    "\n",
    "Renato Naville Watanabe"
   ]
  },
  {
   "cell_type": "markdown",
   "metadata": {
    "slideshow": {
     "slide_type": "slide"
    }
   },
   "source": [
    "## Operações com variáveis booleanas\n",
    "\n",
    "Existem três operações que se aplicam a variáveis booleanas:\n",
    "\n",
    "**E (and)**\n",
    "\n",
    "Operação entre duas variáveis booleanas. Seu resultado é verdadeiro apenas se as duas variáveis são verdadeiras, caso contrário o resultado será Falso.\n",
    "\n",
    "a **E** b = c\n",
    "\n",
    "\\begin{equation}\n",
    "    \\begin{array}{|c|c|c|}\n",
    "    \\hline\n",
    "     {\\bf a}&{\\bf b}&{\\bf c}\\\\\n",
    "     \\hline\n",
    "     F&F&F\\\\\n",
    "     \\hline\n",
    "     F&V&F\\\\\n",
    "     \\hline\n",
    "     V&F&F\\\\\n",
    "     \\hline\n",
    "     V&V&V\\\\\n",
    "     \\hline\n",
    "    \\end{array}\n",
    "\\end{equation}"
   ]
  },
  {
   "cell_type": "code",
   "execution_count": 9,
   "metadata": {
    "slideshow": {
     "slide_type": "slide"
    }
   },
   "outputs": [
    {
     "name": "stdout",
     "output_type": "stream",
     "text": [
      "False\n"
     ]
    }
   ],
   "source": [
    "a = True\n",
    "b = False\n",
    "c = True\n",
    "d = False\n",
    "\n",
    "e = a and b\n",
    "print(e)"
   ]
  },
  {
   "cell_type": "code",
   "execution_count": 10,
   "metadata": {
    "slideshow": {
     "slide_type": "fragment"
    }
   },
   "outputs": [
    {
     "name": "stdout",
     "output_type": "stream",
     "text": [
      "False\n"
     ]
    }
   ],
   "source": [
    "f = b and d\n",
    "print(f)"
   ]
  },
  {
   "cell_type": "code",
   "execution_count": 11,
   "metadata": {
    "slideshow": {
     "slide_type": "fragment"
    }
   },
   "outputs": [
    {
     "name": "stdout",
     "output_type": "stream",
     "text": [
      "True\n"
     ]
    }
   ],
   "source": [
    "g = a and c\n",
    "print(g)"
   ]
  },
  {
   "cell_type": "markdown",
   "metadata": {
    "slideshow": {
     "slide_type": "slide"
    }
   },
   "source": [
    "**OU (or)**\n",
    "\n",
    "Operação entre duas variáveis booleanas. Seu resultado é verdadeiro  se pelo menos uma das duas variáveis é verdadeira, caso contrário o resultado será falso.\n",
    "\n",
    "\n",
    "a **OU** b = c\n",
    "\n",
    "\\begin{equation}\n",
    "    \\begin{array}{|c|c|c|}\n",
    "    \\hline\n",
    "     {\\bf a}&{\\bf b}&{\\bf c}\\\\\n",
    "     \\hline\n",
    "     F&F&F\\\\\n",
    "     \\hline\n",
    "     F&V&V\\\\\n",
    "     \\hline\n",
    "     V&F&V\\\\\n",
    "     \\hline\n",
    "     V&V&V\\\\\n",
    "     \\hline\n",
    "    \\end{array}\n",
    "\\end{equation}"
   ]
  },
  {
   "cell_type": "code",
   "execution_count": 12,
   "metadata": {
    "slideshow": {
     "slide_type": "slide"
    }
   },
   "outputs": [
    {
     "name": "stdout",
     "output_type": "stream",
     "text": [
      "False\n"
     ]
    }
   ],
   "source": [
    "a = True\n",
    "b = False\n",
    "c = True\n",
    "d = False\n",
    "\n",
    "e = b or d\n",
    "print(e)"
   ]
  },
  {
   "cell_type": "code",
   "execution_count": 13,
   "metadata": {
    "slideshow": {
     "slide_type": "fragment"
    }
   },
   "outputs": [
    {
     "name": "stdout",
     "output_type": "stream",
     "text": [
      "True\n"
     ]
    }
   ],
   "source": [
    "f = a or b\n",
    "print(f)"
   ]
  },
  {
   "cell_type": "code",
   "execution_count": 14,
   "metadata": {
    "slideshow": {
     "slide_type": "fragment"
    }
   },
   "outputs": [
    {
     "name": "stdout",
     "output_type": "stream",
     "text": [
      "True\n"
     ]
    }
   ],
   "source": [
    "g = a or c\n",
    "print(g)"
   ]
  },
  {
   "cell_type": "markdown",
   "metadata": {
    "slideshow": {
     "slide_type": "slide"
    }
   },
   "source": [
    "**NEGAÇÃO (not)**\n",
    "\n",
    "Operação em uma variável booleana. Seu resultado é verdadeiro se a variável for falsa. Seu resultado é falso se a variável for verdadeira.\n",
    "\n",
    "**NEGAÇÃO** de a = c\n",
    "\n",
    "\n",
    "\\begin{equation}\n",
    "    \\begin{array}{|c|c|}\n",
    "    \\hline\n",
    "     {\\bf a}&{\\bf c}\\\\\n",
    "     \\hline\n",
    "     F&V\\\\\n",
    "     \\hline\n",
    "     V&F\\\\\n",
    "     \\hline\n",
    "    \\end{array}\n",
    "\\end{equation}\n"
   ]
  },
  {
   "cell_type": "code",
   "execution_count": 15,
   "metadata": {
    "slideshow": {
     "slide_type": "slide"
    }
   },
   "outputs": [
    {
     "name": "stdout",
     "output_type": "stream",
     "text": [
      "False\n"
     ]
    }
   ],
   "source": [
    "a = True\n",
    "b = False\n",
    "\n",
    "g = not a\n",
    "print(g)"
   ]
  },
  {
   "cell_type": "code",
   "execution_count": 16,
   "metadata": {
    "slideshow": {
     "slide_type": "fragment"
    }
   },
   "outputs": [
    {
     "name": "stdout",
     "output_type": "stream",
     "text": [
      "True\n"
     ]
    }
   ],
   "source": [
    "f = not b\n",
    "print(f)"
   ]
  },
  {
   "cell_type": "markdown",
   "metadata": {
    "slideshow": {
     "slide_type": "slide"
    }
   },
   "source": [
    "### Valor booleano como resultado de uma comparação\n",
    "\n",
    "Existem seis operações de comparação:\n",
    "\n",
    "- **<**: menor que\n",
    "- **<=**: menor ou igual que\n",
    "- **>**: maior que\n",
    "- **>=**: maior ou igual que\n",
    "- **==**: igual a\n",
    "- **!=**: diferente de\n",
    "\n",
    "Estas operações atuam entre dois valores. Se a comparação for verdadeira, o resultado será um valor booleano **True**. Se a comparação for falsa, o resultado será um valor booleano **False**"
   ]
  },
  {
   "cell_type": "code",
   "execution_count": 17,
   "metadata": {
    "slideshow": {
     "slide_type": "slide"
    }
   },
   "outputs": [
    {
     "name": "stdout",
     "output_type": "stream",
     "text": [
      "True\n"
     ]
    }
   ],
   "source": [
    "a = 4.5\n",
    "b = 6\n",
    "c = -10.6\n",
    "d = 6\n",
    "f = 23.6\n",
    "\n",
    "print(a > c)"
   ]
  },
  {
   "cell_type": "code",
   "execution_count": 18,
   "metadata": {
    "slideshow": {
     "slide_type": "fragment"
    }
   },
   "outputs": [
    {
     "name": "stdout",
     "output_type": "stream",
     "text": [
      "False\n"
     ]
    }
   ],
   "source": [
    "print(a == b)"
   ]
  },
  {
   "cell_type": "code",
   "execution_count": 19,
   "metadata": {
    "slideshow": {
     "slide_type": "fragment"
    }
   },
   "outputs": [
    {
     "name": "stdout",
     "output_type": "stream",
     "text": [
      "True\n"
     ]
    }
   ],
   "source": [
    "print(b == d)"
   ]
  },
  {
   "cell_type": "code",
   "execution_count": 20,
   "metadata": {
    "slideshow": {
     "slide_type": "fragment"
    }
   },
   "outputs": [
    {
     "name": "stdout",
     "output_type": "stream",
     "text": [
      "False\n"
     ]
    }
   ],
   "source": [
    "print(b != d)"
   ]
  },
  {
   "cell_type": "code",
   "execution_count": 21,
   "metadata": {
    "slideshow": {
     "slide_type": "fragment"
    }
   },
   "outputs": [
    {
     "name": "stdout",
     "output_type": "stream",
     "text": [
      "False\n"
     ]
    }
   ],
   "source": [
    "print(f <= d)"
   ]
  },
  {
   "cell_type": "markdown",
   "metadata": {
    "slideshow": {
     "slide_type": "slide"
    }
   },
   "source": [
    "É possível também combinar com várias comparações com as operações **not**, **and** e **or**."
   ]
  },
  {
   "cell_type": "code",
   "execution_count": 22,
   "metadata": {
    "slideshow": {
     "slide_type": "fragment"
    }
   },
   "outputs": [
    {
     "name": "stdout",
     "output_type": "stream",
     "text": [
      "False\n"
     ]
    }
   ],
   "source": [
    "a = 4.5\n",
    "b = 6\n",
    "c = -10.6\n",
    "d = 6\n",
    "f = 23.6\n",
    "\n",
    "print(c >= f or f==b)"
   ]
  },
  {
   "cell_type": "code",
   "execution_count": 23,
   "metadata": {
    "slideshow": {
     "slide_type": "fragment"
    }
   },
   "outputs": [
    {
     "name": "stdout",
     "output_type": "stream",
     "text": [
      "True\n"
     ]
    }
   ],
   "source": [
    "print(a < b and d > c)"
   ]
  },
  {
   "cell_type": "code",
   "execution_count": 24,
   "metadata": {
    "slideshow": {
     "slide_type": "fragment"
    }
   },
   "outputs": [
    {
     "name": "stdout",
     "output_type": "stream",
     "text": [
      "False\n"
     ]
    }
   ],
   "source": [
    "print(not c != d)"
   ]
  },
  {
   "cell_type": "markdown",
   "metadata": {
    "slideshow": {
     "slide_type": "slide"
    }
   },
   "source": [
    "### Execução condicional: seleção unária\n",
    "\n",
    "Comando **if**.\n",
    "\n",
    "É usada quando se deseja executar uma sequência de instruções apenas se uma condição for verdadeira.\n",
    "\n",
    "Tem a seguinte estrutura:\n",
    "\n",
    "if OPERAÇÃO_BOOLEANA:     \n",
    "    &nbsp;&nbsp;&nbsp;&nbsp;&nbsp;&nbsp;&nbsp;&nbsp;&nbsp;&nbsp;&nbsp;&nbsp;INSTRUÇÕES_CASO_OPERAÇÃO_BOOLEANA_SEJA_True  \n",
    "\n",
    "INSTRUÇÕES\n",
    "\n",
    "Repare que para indicar o que é executado se a condição for verdadeira está indentado (avanço de 4 espaços ou 1 tabulação) em relação à chamada do if."
   ]
  },
  {
   "cell_type": "code",
   "execution_count": 5,
   "metadata": {
    "ExecuteTime": {
     "end_time": "2021-02-09T20:59:01.532515Z",
     "start_time": "2021-02-09T20:58:57.459990Z"
    },
    "slideshow": {
     "slide_type": "slide"
    }
   },
   "outputs": [
    {
     "name": "stdout",
     "output_type": "stream",
     "text": [
      "Valor de y0\n",
      "Valor de x10\n",
      "Esse print é executado sempre\n"
     ]
    }
   ],
   "source": [
    "y = float(input('Valor de y'))\n",
    "x = float(input('Valor de x'))\n",
    "\n",
    "if x > 0 and y < 0:\n",
    "    print('O if está sendo executado')\n",
    "    \n",
    "print('Esse print é executado sempre')"
   ]
  },
  {
   "cell_type": "markdown",
   "metadata": {
    "slideshow": {
     "slide_type": "slide"
    }
   },
   "source": [
    "### Execução condicional: seleção binária\n",
    "\n",
    "Comando **if-else**.\n",
    "\n",
    "É usada quando se deseja executar uma sequência de instruções caso alguma condição for verdadeira e uma outra sequência caso alguma condição seja falsa.\n",
    "\n",
    "Tem a seguinte estrutura:\n",
    "\n",
    "if OPERAÇÃO_BOOLEANA:     \n",
    "    &nbsp;&nbsp;&nbsp;&nbsp;&nbsp;&nbsp;&nbsp;&nbsp;&nbsp;&nbsp;&nbsp;&nbsp;INSTRUÇÕES_CASO_OPERAÇÃO_BOOLEANA_SEJA_True  \n",
    "else:     \n",
    "&nbsp;&nbsp;&nbsp;&nbsp;&nbsp;&nbsp;&nbsp;&nbsp;&nbsp;&nbsp;&nbsp;&nbsp;INSTRUÇÕES_CASO_OPERAÇÃO_BOOLEANA_SEJA_False \n",
    "\n",
    "INSTRUÇÕES\n",
    "\n",
    "Repare que para indicar o que é executado se a condição for verdadeira está indentado (avanço de 4 espaços ou 1 tabulação) em relação à chamada do if."
   ]
  },
  {
   "cell_type": "markdown",
   "metadata": {
    "slideshow": {
     "slide_type": "slide"
    }
   },
   "source": [
    "O código abaixo recebe um número. Se esse número estiver entre 5 e 10 ele soma 5. Caso contrário, subtrai 10. "
   ]
  },
  {
   "cell_type": "code",
   "execution_count": 2,
   "metadata": {
    "ExecuteTime": {
     "end_time": "2021-02-09T20:56:28.740950Z",
     "start_time": "2021-02-09T20:56:26.918006Z"
    },
    "slideshow": {
     "slide_type": "fragment"
    }
   },
   "outputs": [
    {
     "name": "stdout",
     "output_type": "stream",
     "text": [
      "8\n",
      "O número está no intervalo [5 ,10]\n",
      "Agora o número é 13.0\n"
     ]
    }
   ],
   "source": [
    "a = float(input())\n",
    "if a >= 5 and a <= 10:\n",
    "    print(\"O número está no intervalo [5 ,10]\")\n",
    "    a = a + 5\n",
    "else:\n",
    "    print(\"O número não está no intervalo [5 ,10]\")\n",
    "    a = a - 10\n",
    "print('Agora o número é', a)"
   ]
  },
  {
   "cell_type": "markdown",
   "metadata": {
    "slideshow": {
     "slide_type": "slide"
    }
   },
   "source": [
    "### Condicionais aninhados\n",
    "\n",
    "É possível colocar uma estrutura if-else dentro de uma estrutura if-else.\n",
    "\n",
    "Por exemplo, comparando 2 números inteiros:"
   ]
  },
  {
   "cell_type": "code",
   "execution_count": 19,
   "metadata": {
    "ExecuteTime": {
     "end_time": "2021-02-10T13:15:42.538978Z",
     "start_time": "2021-02-10T13:15:39.621004Z"
    },
    "slideshow": {
     "slide_type": "fragment"
    }
   },
   "outputs": [
    {
     "name": "stdout",
     "output_type": "stream",
     "text": [
      "Valor de x: 9\n",
      "Valor de y: 10\n",
      "x é menor do que y\n"
     ]
    }
   ],
   "source": [
    "x = int(input('Valor de x: '))\n",
    "y = int(input('Valor de y: '))\n",
    "\n",
    "if x == y:\n",
    "    print('x é igual a y')\n",
    "else:\n",
    "    if x < y:\n",
    "        print('x é menor do que y')\n",
    "    else:\n",
    "        print('x é maior do que y')\n",
    "        "
   ]
  },
  {
   "cell_type": "markdown",
   "metadata": {
    "slideshow": {
     "slide_type": "slide"
    }
   },
   "source": [
    "### Comparação de números de ponto flutuante"
   ]
  },
  {
   "cell_type": "markdown",
   "metadata": {
    "slideshow": {
     "slide_type": "fragment"
    }
   },
   "source": [
    "Considerando a seguinte situação:"
   ]
  },
  {
   "cell_type": "code",
   "execution_count": 20,
   "metadata": {
    "ExecuteTime": {
     "end_time": "2021-02-10T13:15:53.494592Z",
     "start_time": "2021-02-10T13:15:53.485235Z"
    },
    "slideshow": {
     "slide_type": "fragment"
    }
   },
   "outputs": [
    {
     "name": "stdout",
     "output_type": "stream",
     "text": [
      "x é menor do que y\n"
     ]
    }
   ],
   "source": [
    "x = 0.3\n",
    "y = 0.1 + 0.2\n",
    "\n",
    "if x == y:\n",
    "    print('x é igual a y')\n",
    "else:\n",
    "    if x < y:\n",
    "        print('x é menor do que y')\n",
    "    else:\n",
    "        print('x é maior do que y')"
   ]
  },
  {
   "cell_type": "markdown",
   "metadata": {
    "slideshow": {
     "slide_type": "fragment"
    }
   },
   "source": [
    "Obviamente a resposta está errada. Deveria ser `x é igual a y`. O que acontece é que a representação de números em ponto flutuante não é exata. No caso da soma de 0.1 e 0.2 vemos um dígito 4 depois de 16 casas decimais. Isso causa a resposta errada."
   ]
  },
  {
   "cell_type": "code",
   "execution_count": 21,
   "metadata": {
    "ExecuteTime": {
     "end_time": "2021-02-10T13:16:22.592111Z",
     "start_time": "2021-02-10T13:16:22.581773Z"
    },
    "slideshow": {
     "slide_type": "fragment"
    }
   },
   "outputs": [
    {
     "name": "stdout",
     "output_type": "stream",
     "text": [
      "0.3\n",
      "0.30000000000000004\n"
     ]
    }
   ],
   "source": [
    "print(x)\n",
    "print(y)"
   ]
  },
  {
   "cell_type": "markdown",
   "metadata": {
    "slideshow": {
     "slide_type": "subslide"
    }
   },
   "source": [
    "Para contornar esta situação, ao comparar dois números de ponto flutuante (float) **nunca** devemos usar o sinal ==.\n",
    "O que deve ser feito é verificar se o módulo da diferença entre os dois números é muito pequena (por exemplo, menor do que $10^{-6}$). O módulo de um número pode ser calculado usando o comando **abs**."
   ]
  },
  {
   "cell_type": "code",
   "execution_count": 23,
   "metadata": {
    "ExecuteTime": {
     "end_time": "2021-02-10T13:18:24.258919Z",
     "start_time": "2021-02-10T13:18:24.241414Z"
    },
    "slideshow": {
     "slide_type": "fragment"
    }
   },
   "outputs": [
    {
     "name": "stdout",
     "output_type": "stream",
     "text": [
      "x é igual a y\n"
     ]
    }
   ],
   "source": [
    "x = 0.3\n",
    "y = 0.1 + 0.2\n",
    "\n",
    "if abs(x - y) < 10**-6:\n",
    "    print('x é igual a y')\n",
    "else:\n",
    "    if x < y:\n",
    "        print('x é menor do que y')\n",
    "    else:\n",
    "        print('x é maior do que y')"
   ]
  },
  {
   "cell_type": "markdown",
   "metadata": {
    "slideshow": {
     "slide_type": "slide"
    }
   },
   "source": [
    "### Exemplo mais complexo\n",
    "\n",
    "Cáculo do índice de massa corporal de uma pessoa:\n",
    "\n",
    "$$IMC = \\frac{m}{h^2}$$\n",
    "\n",
    "em que $m$ é a massa da pessoa e $h$ é a altura da pessoa. O IMC é classificado da seguinte maneira:\n",
    "\n",
    "\n",
    "\t\n",
    "IMC < 16 - Magreza grau III  \n",
    "16.0 $\\leqslant$ IMC < 17\t- Magreza grau II  \n",
    "17.0 $\\leqslant$ IMC < 18.5\t- Magreza grau I  \n",
    "18.5 $\\leqslant$ IMC < 25\t- Adequado  \n",
    "25.0 $\\leqslant$ IMC < 30\t- Pré-obeso  \n",
    "30.0 $\\leqslant$ IMC < 35 - Obesidade grau I  \n",
    "35.0 $\\leqslant$ IMC < 40\t- Obesidade grau II  \n",
    "IMC $\\geqslant$ 40\t- Obesidade grau III\n"
   ]
  },
  {
   "cell_type": "code",
   "execution_count": 34,
   "metadata": {
    "ExecuteTime": {
     "end_time": "2021-02-10T13:45:43.160686Z",
     "start_time": "2021-02-10T13:45:38.328676Z"
    },
    "slideshow": {
     "slide_type": "subslide"
    }
   },
   "outputs": [
    {
     "name": "stdout",
     "output_type": "stream",
     "text": [
      "Digite a altura (m): 1.75\n",
      "Digite a massa (kg): 82\n",
      "IMC = 26.78 m/kg²\n",
      "Pré-obeso\n"
     ]
    }
   ],
   "source": [
    "h = float(input('Digite a altura (m): '))\n",
    "m = float(input('Digite a massa (kg): '))\n",
    "\n",
    "IMC = m/h**2\n",
    "\n",
    "print('IMC = %.2f m/kg²' %IMC)\n",
    "\n",
    "if IMC < 16:\n",
    "    print('Magreza grau III')\n",
    "if 16 <= IMC < 17:\n",
    "    print('Magreza grau II')\n",
    "if 17 <= IMC < 18.5:\n",
    "    print('Magreza grau I')\n",
    "if 18.5 <= IMC < 25:\n",
    "    print('Adequado')\n",
    "if 25 <= IMC < 30:\n",
    "    print('Pré-obeso')\n",
    "if 30 <= IMC < 35:\n",
    "    print('Obesidade grau I')                  \n",
    "if 35 <= IMC < 40:\n",
    "    print('Obesidade grau II')\n",
    "if IMC >= 40:\n",
    "    print('Obesidade grau III')"
   ]
  },
  {
   "cell_type": "markdown",
   "metadata": {
    "slideshow": {
     "slide_type": "subslide"
    }
   },
   "source": [
    "Outra solução:"
   ]
  },
  {
   "cell_type": "code",
   "execution_count": 36,
   "metadata": {
    "ExecuteTime": {
     "end_time": "2021-02-10T13:46:37.545408Z",
     "start_time": "2021-02-10T13:46:33.950347Z"
    },
    "slideshow": {
     "slide_type": "fragment"
    }
   },
   "outputs": [
    {
     "name": "stdout",
     "output_type": "stream",
     "text": [
      "Digite a altura (m): 1.75\n",
      "Digite a massa (kg): 82\n",
      "IMC = 26.78 m/kg²\n",
      "Pré-obeso\n"
     ]
    }
   ],
   "source": [
    "h = float(input('Digite a altura (m): '))\n",
    "m = float(input('Digite a massa (kg): '))\n",
    "\n",
    "IMC = m/h**2\n",
    "\n",
    "print('IMC = %.2f m/kg²' %IMC)\n",
    "\n",
    "if IMC < 16:\n",
    "    print('Magreza grau III')\n",
    "else:\n",
    "    if IMC < 17:\n",
    "        print('Magreza grau II')\n",
    "    else: \n",
    "        if IMC < 18.5:\n",
    "            print('Magreza grau I')\n",
    "        else:\n",
    "            if IMC < 25:\n",
    "                print('Adequado')\n",
    "            else:\n",
    "                if IMC < 30:\n",
    "                    print('Pré-obeso')\n",
    "                else:\n",
    "                    if IMC < 35:\n",
    "                        print('Obesidade grau I')\n",
    "                    else:\n",
    "                        if IMC < 40:\n",
    "                            print('Obesidade grau II')\n",
    "                        else:\n",
    "                            print('Obesidade grau III')\n",
    "                    "
   ]
  },
  {
   "cell_type": "markdown",
   "metadata": {
    "slideshow": {
     "slide_type": "slide"
    }
   },
   "source": [
    "### Referências\n",
    "\n",
    "- Chalco, JM, *Slides de Bases Computacionais da Ciência*, (2014)\n",
    "- Leite, S, *Slides de Bases Computacionais da Ciência*, (2018)\n",
    "- [Marietto, MGB et al.; **Bases computacionais da Ciência** (2013)](http://prograd.ufabc.edu.br/images/pdf/bases_computacionais_livro.pdf).\n",
    "- [Miller, B e Ranum, D; Decisões e Seleção, In: *Como Pensar Como um Cientista da Computação*](https://panda.ime.usp.br/pensepy/static/pensepy/06-Selecao/selecao.html)"
   ]
  }
 ],
 "metadata": {
  "celltoolbar": "Slideshow",
  "kernelspec": {
   "display_name": "Python 3",
   "language": "python",
   "name": "python3"
  },
  "language_info": {
   "codemirror_mode": {
    "name": "ipython",
    "version": 3
   },
   "file_extension": ".py",
   "mimetype": "text/x-python",
   "name": "python",
   "nbconvert_exporter": "python",
   "pygments_lexer": "ipython3",
   "version": "3.8.5"
  },
  "latex_envs": {
   "LaTeX_envs_menu_present": true,
   "autoclose": false,
   "autocomplete": true,
   "bibliofile": "biblio.bib",
   "cite_by": "apalike",
   "current_citInitial": 1,
   "eqLabelWithNumbers": true,
   "eqNumInitial": 1,
   "hotkeys": {
    "equation": "Ctrl-E",
    "itemize": "Ctrl-I"
   },
   "labels_anchors": false,
   "latex_user_defs": false,
   "report_style_numbering": false,
   "user_envs_cfg": false
  },
  "nbTranslate": {
   "displayLangs": [
    "*"
   ],
   "hotkey": "alt-t",
   "langInMainMenu": true,
   "sourceLang": "en",
   "targetLang": "fr",
   "useGoogleTranslate": true
  },
  "toc": {
   "base_numbering": 1,
   "nav_menu": {},
   "number_sections": true,
   "sideBar": true,
   "skip_h1_title": false,
   "title_cell": "Table of Contents",
   "title_sidebar": "Contents",
   "toc_cell": false,
   "toc_position": {},
   "toc_section_display": true,
   "toc_window_display": false
  },
  "varInspector": {
   "cols": {
    "lenName": 16,
    "lenType": 16,
    "lenVar": 40
   },
   "kernels_config": {
    "python": {
     "delete_cmd_postfix": "",
     "delete_cmd_prefix": "del ",
     "library": "var_list.py",
     "varRefreshCmd": "print(var_dic_list())"
    },
    "r": {
     "delete_cmd_postfix": ") ",
     "delete_cmd_prefix": "rm(",
     "library": "var_list.r",
     "varRefreshCmd": "cat(var_dic_list()) "
    }
   },
   "types_to_exclude": [
    "module",
    "function",
    "builtin_function_or_method",
    "instance",
    "_Feature"
   ],
   "window_display": false
  }
 },
 "nbformat": 4,
 "nbformat_minor": 2
}
