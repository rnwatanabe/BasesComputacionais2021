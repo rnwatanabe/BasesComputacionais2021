{
 "cells": [
  {
   "cell_type": "markdown",
   "id": "received-qatar",
   "metadata": {
    "slideshow": {
     "slide_type": "slide"
    }
   },
   "source": [
    "# Entrada de dados"
   ]
  },
  {
   "cell_type": "markdown",
   "id": "secondary-recall",
   "metadata": {
    "slideshow": {
     "slide_type": "slide"
    }
   },
   "source": [
    "## Tipos de variáveis\n",
    "\n",
    "**Inteiro (int)** \n",
    "\n",
    "Números inteiros. Não têm uma parte decimal."
   ]
  },
  {
   "cell_type": "code",
   "execution_count": 1,
   "id": "previous-vertex",
   "metadata": {
    "slideshow": {
     "slide_type": "fragment"
    }
   },
   "outputs": [
    {
     "name": "stdout",
     "output_type": "stream",
     "text": [
      "3\n"
     ]
    }
   ],
   "source": [
    "a = 3\n",
    "print(a)"
   ]
  },
  {
   "cell_type": "markdown",
   "id": "chinese-slope",
   "metadata": {
    "slideshow": {
     "slide_type": "fragment"
    }
   },
   "source": [
    "**Ponto flutuante (float)**\n",
    "\n",
    "Usado para representar números reais. Têm uma parte decimal, indicada por um ponto."
   ]
  },
  {
   "cell_type": "code",
   "execution_count": 2,
   "id": "featured-archives",
   "metadata": {
    "slideshow": {
     "slide_type": "fragment"
    }
   },
   "outputs": [
    {
     "name": "stdout",
     "output_type": "stream",
     "text": [
      "3.0\n"
     ]
    }
   ],
   "source": [
    "x = 3.0\n",
    "print(x)"
   ]
  },
  {
   "cell_type": "markdown",
   "id": "varying-barcelona",
   "metadata": {
    "slideshow": {
     "slide_type": "slide"
    }
   },
   "source": [
    "**Complexo (complex)**\n",
    "\n",
    "Usado para armazenar números complexos. Têm uma parte real e uma parte imaginária (indicada pela letra j)."
   ]
  },
  {
   "cell_type": "code",
   "execution_count": 3,
   "id": "prepared-pastor",
   "metadata": {
    "slideshow": {
     "slide_type": "fragment"
    }
   },
   "outputs": [
    {
     "name": "stdout",
     "output_type": "stream",
     "text": [
      "(4+3j)\n"
     ]
    }
   ],
   "source": [
    "d = 4 + 3j\n",
    "\n",
    "\n",
    "print(d)"
   ]
  },
  {
   "cell_type": "markdown",
   "id": "approximate-triumph",
   "metadata": {
    "slideshow": {
     "slide_type": "fragment"
    }
   },
   "source": [
    "É possível fazer todas as operações comuns em números complexos, como a multiplicação:"
   ]
  },
  {
   "cell_type": "code",
   "execution_count": 4,
   "id": "associate-dubai",
   "metadata": {
    "slideshow": {
     "slide_type": "fragment"
    }
   },
   "outputs": [
    {
     "name": "stdout",
     "output_type": "stream",
     "text": [
      "(27-11j)\n"
     ]
    }
   ],
   "source": [
    "e = 3 - 5j\n",
    "\n",
    "print(d*e)"
   ]
  },
  {
   "cell_type": "markdown",
   "id": "severe-whale",
   "metadata": {
    "slideshow": {
     "slide_type": "slide"
    }
   },
   "source": [
    "**Sequência de caracteres (string)**\n",
    "\n",
    "Usado para guardar uma sequência de caracteres alfanuméricos. É definido escrevendo a sequência de caracteres entre aspas duplas ou simples."
   ]
  },
  {
   "cell_type": "code",
   "execution_count": 46,
   "id": "legitimate-prerequisite",
   "metadata": {
    "slideshow": {
     "slide_type": "fragment"
    }
   },
   "outputs": [
    {
     "name": "stdout",
     "output_type": "stream",
     "text": [
      "isso é uma variável tipo string\n",
      "isso também é uma variável tipo string\n"
     ]
    }
   ],
   "source": [
    "f = 'isso é uma variável tipo string'\n",
    "print(f)\n",
    "\n",
    "g = \"isso também é uma variável tipo string\"\n",
    "print(g)"
   ]
  },
  {
   "cell_type": "markdown",
   "id": "living-express",
   "metadata": {
    "slideshow": {
     "slide_type": "fragment"
    }
   },
   "source": [
    "É possível juntar várias strings com o sinal +. Com o sinal \\* é possível repetir uma string o número de vezes depois do \\*."
   ]
  },
  {
   "cell_type": "code",
   "execution_count": 6,
   "id": "signal-olive",
   "metadata": {},
   "outputs": [
    {
     "name": "stdout",
     "output_type": "stream",
     "text": [
      "Python\n",
      "PythonPythonPythonPythonPython\n"
     ]
    }
   ],
   "source": [
    "s = 'P'+'y'+'t'+'h'+'o'+'n'\n",
    "h = s*5\n",
    "\n",
    "print(s)\n",
    "print(h)"
   ]
  },
  {
   "cell_type": "markdown",
   "id": "suited-reynolds",
   "metadata": {
    "slideshow": {
     "slide_type": "slide"
    }
   },
   "source": [
    "### Variáveis booleanas (bool)\n",
    "\n",
    "Variáveis booleanas (em homenagem a [George Boole](https://pt.wikipedia.org/wiki/George_Boole)) podem assumir apenas dois valores.\n",
    "\n",
    "**Verdadeiro** ou **Falso**\n",
    "\n",
    "No Python esses valores são designados a uma variável com **True** ou **False**:"
   ]
  },
  {
   "cell_type": "code",
   "execution_count": 7,
   "id": "dimensional-petroleum",
   "metadata": {
    "slideshow": {
     "slide_type": "fragment"
    }
   },
   "outputs": [
    {
     "name": "stdout",
     "output_type": "stream",
     "text": [
      "True\n"
     ]
    }
   ],
   "source": [
    "a = True\n",
    "print(a)"
   ]
  },
  {
   "cell_type": "code",
   "execution_count": 8,
   "id": "smaller-vatican",
   "metadata": {
    "slideshow": {
     "slide_type": "fragment"
    }
   },
   "outputs": [
    {
     "name": "stdout",
     "output_type": "stream",
     "text": [
      "False\n"
     ]
    }
   ],
   "source": [
    "b = False\n",
    "print(b)"
   ]
  },
  {
   "cell_type": "markdown",
   "id": "improved-given",
   "metadata": {
    "slideshow": {
     "slide_type": "slide"
    }
   },
   "source": [
    "## Comando input()\n",
    "\n",
    "Se quisermos que uma variável tenha um valor que seja digitado no teclado, usamos o comando input()"
   ]
  },
  {
   "cell_type": "code",
   "execution_count": 17,
   "id": "demonstrated-shoot",
   "metadata": {
    "ExecuteTime": {
     "end_time": "2021-02-04T19:34:24.262710Z",
     "start_time": "2021-02-04T19:34:22.638115Z"
    },
    "slideshow": {
     "slide_type": "fragment"
    }
   },
   "outputs": [
    {
     "name": "stdout",
     "output_type": "stream",
     "text": [
      "6\n"
     ]
    }
   ],
   "source": [
    "v = input()"
   ]
  },
  {
   "cell_type": "markdown",
   "id": "committed-maximum",
   "metadata": {
    "slideshow": {
     "slide_type": "fragment"
    }
   },
   "source": [
    "Acima o número 6 foi digitado no teclado."
   ]
  },
  {
   "cell_type": "code",
   "execution_count": 18,
   "id": "seventh-height",
   "metadata": {
    "ExecuteTime": {
     "end_time": "2021-02-04T19:34:25.481818Z",
     "start_time": "2021-02-04T19:34:25.468319Z"
    },
    "slideshow": {
     "slide_type": "fragment"
    }
   },
   "outputs": [
    {
     "name": "stdout",
     "output_type": "stream",
     "text": [
      "6\n"
     ]
    }
   ],
   "source": [
    "print(v)"
   ]
  },
  {
   "cell_type": "markdown",
   "id": "missing-compensation",
   "metadata": {
    "slideshow": {
     "slide_type": "slide"
    }
   },
   "source": [
    "### O comando input transforma tudo que foi digitado em *string*.\n",
    "\n",
    "Apesar de ter digitado um número, a variável v é uma string. Se fizermos v+v, acontece a concatenação da string c com ela mesma, e não a soma."
   ]
  },
  {
   "cell_type": "code",
   "execution_count": 19,
   "id": "younger-johns",
   "metadata": {
    "ExecuteTime": {
     "end_time": "2021-02-04T19:34:26.436507Z",
     "start_time": "2021-02-04T19:34:26.419607Z"
    },
    "slideshow": {
     "slide_type": "fragment"
    }
   },
   "outputs": [
    {
     "name": "stdout",
     "output_type": "stream",
     "text": [
      "66\n"
     ]
    }
   ],
   "source": [
    "print(v+v)"
   ]
  },
  {
   "cell_type": "markdown",
   "id": "severe-variation",
   "metadata": {
    "ExecuteTime": {
     "end_time": "2021-02-04T19:08:37.569049Z",
     "start_time": "2021-02-04T19:08:37.538735Z"
    },
    "slideshow": {
     "slide_type": "slide"
    }
   },
   "source": [
    "### Se for necessário fazer contas, é necessário transformar em número o que foi obtido com comando input\n",
    "\n",
    "Isso é feito indicando o tipo de número (int, float ou complex)."
   ]
  },
  {
   "cell_type": "code",
   "execution_count": 21,
   "id": "neural-contribution",
   "metadata": {
    "ExecuteTime": {
     "end_time": "2021-02-04T19:36:08.775117Z",
     "start_time": "2021-02-04T19:36:08.766865Z"
    },
    "slideshow": {
     "slide_type": "fragment"
    }
   },
   "outputs": [
    {
     "name": "stdout",
     "output_type": "stream",
     "text": [
      "12\n"
     ]
    }
   ],
   "source": [
    "v = int(v)\n",
    "print(v+v)"
   ]
  },
  {
   "cell_type": "code",
   "execution_count": 22,
   "id": "optical-registration",
   "metadata": {
    "ExecuteTime": {
     "end_time": "2021-02-04T19:36:44.080505Z",
     "start_time": "2021-02-04T19:36:39.938543Z"
    },
    "slideshow": {
     "slide_type": "fragment"
    }
   },
   "outputs": [
    {
     "name": "stdout",
     "output_type": "stream",
     "text": [
      "7.3\n",
      "21.9\n"
     ]
    }
   ],
   "source": [
    "f = input()\n",
    "f = float(f)\n",
    "print(3*f)"
   ]
  },
  {
   "cell_type": "code",
   "execution_count": 23,
   "id": "portable-teach",
   "metadata": {
    "ExecuteTime": {
     "end_time": "2021-02-04T19:42:21.043463Z",
     "start_time": "2021-02-04T19:42:18.059179Z"
    },
    "slideshow": {
     "slide_type": "fragment"
    }
   },
   "outputs": [
    {
     "name": "stdout",
     "output_type": "stream",
     "text": [
      "8\n",
      "(0.8888888888888888+0j)\n"
     ]
    }
   ],
   "source": [
    "g = input()\n",
    "g = complex(g)\n",
    "print(g/9)"
   ]
  },
  {
   "cell_type": "markdown",
   "id": "understanding-category",
   "metadata": {
    "slideshow": {
     "slide_type": "slide"
    }
   },
   "source": [
    "### É possível colocar uma mensagem"
   ]
  },
  {
   "cell_type": "code",
   "execution_count": 25,
   "id": "joined-dispatch",
   "metadata": {
    "ExecuteTime": {
     "end_time": "2021-02-04T19:46:42.012688Z",
     "start_time": "2021-02-04T19:46:38.503871Z"
    },
    "slideshow": {
     "slide_type": "fragment"
    }
   },
   "outputs": [
    {
     "name": "stdout",
     "output_type": "stream",
     "text": [
      "Qual o instante desejado, em segundos?10.6\n",
      "10.6 s\n"
     ]
    }
   ],
   "source": [
    "t = input('Qual o instante desejado, em segundos?')\n",
    "t = float(t)\n",
    "print(t, 's')"
   ]
  },
  {
   "cell_type": "markdown",
   "id": "moderate-microwave",
   "metadata": {
    "slideshow": {
     "slide_type": "slide"
    }
   },
   "source": [
    "## Referências\n",
    "\n",
    "- Watanabe, R.N. (2019) Bases Computacionais 2019. GitHub repository, https://github.com/rnwatanabe/BasesComputacionais2019.\n",
    "- Chalco, JM, *Slides de Bases Computacionais da Ciência*, (2014)\n",
    "- Leite, S, *Slides de Bases Computacionais da Ciência*, (2018)\n",
    "- [Marietto, MGB et al.; **Bases computacionais da Ciência** (2013)](http://prograd.ufabc.edu.br/images/pdf/bases_computacionais_livro.pdf).\n",
    "- [Miller, B e Ranum, D; Decisões e Seleção, In: *Como Pensar Como um Cientista da Computação*](https://panda.ime.usp.br/pensepy/static/pensepy/06-Selecao/selecao.html)\n"
   ]
  }
 ],
 "metadata": {
  "celltoolbar": "Slideshow",
  "kernelspec": {
   "display_name": "Python 3",
   "language": "python",
   "name": "python3"
  },
  "language_info": {
   "codemirror_mode": {
    "name": "ipython",
    "version": 3
   },
   "file_extension": ".py",
   "mimetype": "text/x-python",
   "name": "python",
   "nbconvert_exporter": "python",
   "pygments_lexer": "ipython3",
   "version": "3.8.5"
  },
  "nbTranslate": {
   "displayLangs": [
    "*"
   ],
   "hotkey": "alt-t",
   "langInMainMenu": true,
   "sourceLang": "en",
   "targetLang": "fr",
   "useGoogleTranslate": true
  },
  "toc": {
   "base_numbering": 1,
   "nav_menu": {},
   "number_sections": true,
   "sideBar": true,
   "skip_h1_title": false,
   "title_cell": "Table of Contents",
   "title_sidebar": "Contents",
   "toc_cell": false,
   "toc_position": {},
   "toc_section_display": true,
   "toc_window_display": false
  },
  "varInspector": {
   "cols": {
    "lenName": 16,
    "lenType": 16,
    "lenVar": 40
   },
   "kernels_config": {
    "python": {
     "delete_cmd_postfix": "",
     "delete_cmd_prefix": "del ",
     "library": "var_list.py",
     "varRefreshCmd": "print(var_dic_list())"
    },
    "r": {
     "delete_cmd_postfix": ") ",
     "delete_cmd_prefix": "rm(",
     "library": "var_list.r",
     "varRefreshCmd": "cat(var_dic_list()) "
    }
   },
   "types_to_exclude": [
    "module",
    "function",
    "builtin_function_or_method",
    "instance",
    "_Feature"
   ],
   "window_display": false
  }
 },
 "nbformat": 4,
 "nbformat_minor": 5
}
