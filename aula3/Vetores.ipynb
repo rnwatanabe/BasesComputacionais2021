{
 "cells": [
  {
   "cell_type": "markdown",
   "metadata": {
    "slideshow": {
     "slide_type": "slide"
    }
   },
   "source": [
    "# Lidando com vetores (lista de números)\n",
    "\n",
    "Renato Naville Watanabe"
   ]
  },
  {
   "cell_type": "markdown",
   "metadata": {
    "slideshow": {
     "slide_type": "slide"
    }
   },
   "source": [
    "Para trabalhar com vetores, vamos utilizar a biblioteca Numpy. Para utilizá-la, devemos importá-ĺa:"
   ]
  },
  {
   "cell_type": "code",
   "execution_count": 1,
   "metadata": {
    "ExecuteTime": {
     "end_time": "2021-02-19T14:47:50.969418Z",
     "start_time": "2021-02-19T14:47:50.965172Z"
    },
    "slideshow": {
     "slide_type": "fragment"
    }
   },
   "outputs": [],
   "source": [
    "import numpy"
   ]
  },
  {
   "cell_type": "markdown",
   "metadata": {
    "slideshow": {
     "slide_type": "fragment"
    }
   },
   "source": [
    "Como o termo numpy é muito grande, é muito comum usar um *alias* (\"apelido\") para essa biblioteca. Normalmente o *alias* usado é np."
   ]
  },
  {
   "cell_type": "code",
   "execution_count": 2,
   "metadata": {
    "ExecuteTime": {
     "end_time": "2021-02-19T14:49:11.412484Z",
     "start_time": "2021-02-19T14:49:11.407485Z"
    },
    "slideshow": {
     "slide_type": "fragment"
    }
   },
   "outputs": [],
   "source": [
    "import numpy as np"
   ]
  },
  {
   "cell_type": "markdown",
   "metadata": {
    "slideshow": {
     "slide_type": "fragment"
    }
   },
   "source": [
    "Dessa forma, sempre que for utilizar a biblioteca numpy, não é necessário escrever numpy e sim np."
   ]
  },
  {
   "cell_type": "markdown",
   "metadata": {
    "slideshow": {
     "slide_type": "slide"
    }
   },
   "source": [
    "## Vetores\n",
    "\n",
    "Com a biblioteca Numpy você pode criar vetores. \n",
    "Com o comando 'np.array' você cria vetores digitando cada elemento pertencente ao vetor:"
   ]
  },
  {
   "cell_type": "code",
   "execution_count": 3,
   "metadata": {
    "ExecuteTime": {
     "end_time": "2021-02-19T14:49:56.404736Z",
     "start_time": "2021-02-19T14:49:56.390313Z"
    },
    "slideshow": {
     "slide_type": "fragment"
    }
   },
   "outputs": [
    {
     "name": "stdout",
     "output_type": "stream",
     "text": [
      "[1 2 3 4 5]\n"
     ]
    }
   ],
   "source": [
    "x = np.array([1,2,3,4,5])\n",
    "print(x)"
   ]
  },
  {
   "cell_type": "markdown",
   "metadata": {
    "slideshow": {
     "slide_type": "fragment"
    }
   },
   "source": [
    "Com o comando 'np.arange', você cria vetores especificando os limites e o intervalo entre os elementos. Por exemplo, para criar um vetor que vai de 0 a 12 com intervalo entre os elementos de 0,2, deve-se digitar:"
   ]
  },
  {
   "cell_type": "code",
   "execution_count": 4,
   "metadata": {
    "ExecuteTime": {
     "end_time": "2021-02-19T14:50:00.285929Z",
     "start_time": "2021-02-19T14:50:00.278325Z"
    },
    "slideshow": {
     "slide_type": "fragment"
    }
   },
   "outputs": [
    {
     "name": "stdout",
     "output_type": "stream",
     "text": [
      "[ 0.   0.2  0.4  0.6  0.8  1.   1.2  1.4  1.6  1.8  2.   2.2  2.4  2.6\n",
      "  2.8  3.   3.2  3.4  3.6  3.8  4.   4.2  4.4  4.6  4.8  5.   5.2  5.4\n",
      "  5.6  5.8  6.   6.2  6.4  6.6  6.8  7.   7.2  7.4  7.6  7.8  8.   8.2\n",
      "  8.4  8.6  8.8  9.   9.2  9.4  9.6  9.8 10.  10.2 10.4 10.6 10.8 11.\n",
      " 11.2 11.4 11.6 11.8]\n"
     ]
    }
   ],
   "source": [
    "y = np.arange(0, 12, 0.2)\n",
    "print(y)"
   ]
  },
  {
   "cell_type": "markdown",
   "metadata": {
    "slideshow": {
     "slide_type": "fragment"
    }
   },
   "source": [
    "Com o comando 'np.linspace', você cria vetores especificando os limites e o número de elementos. Por exemplo, para criar um vetor que vai de 0 a 11 com 130 elementos, deve-se digitar:"
   ]
  },
  {
   "cell_type": "code",
   "execution_count": 5,
   "metadata": {
    "ExecuteTime": {
     "end_time": "2021-02-19T14:50:03.055219Z",
     "start_time": "2021-02-19T14:50:03.046733Z"
    },
    "scrolled": false,
    "slideshow": {
     "slide_type": "fragment"
    }
   },
   "outputs": [
    {
     "name": "stdout",
     "output_type": "stream",
     "text": [
      "[ 0.          0.08527132  0.17054264  0.25581395  0.34108527  0.42635659\n",
      "  0.51162791  0.59689922  0.68217054  0.76744186  0.85271318  0.9379845\n",
      "  1.02325581  1.10852713  1.19379845  1.27906977  1.36434109  1.4496124\n",
      "  1.53488372  1.62015504  1.70542636  1.79069767  1.87596899  1.96124031\n",
      "  2.04651163  2.13178295  2.21705426  2.30232558  2.3875969   2.47286822\n",
      "  2.55813953  2.64341085  2.72868217  2.81395349  2.89922481  2.98449612\n",
      "  3.06976744  3.15503876  3.24031008  3.3255814   3.41085271  3.49612403\n",
      "  3.58139535  3.66666667  3.75193798  3.8372093   3.92248062  4.00775194\n",
      "  4.09302326  4.17829457  4.26356589  4.34883721  4.43410853  4.51937984\n",
      "  4.60465116  4.68992248  4.7751938   4.86046512  4.94573643  5.03100775\n",
      "  5.11627907  5.20155039  5.28682171  5.37209302  5.45736434  5.54263566\n",
      "  5.62790698  5.71317829  5.79844961  5.88372093  5.96899225  6.05426357\n",
      "  6.13953488  6.2248062   6.31007752  6.39534884  6.48062016  6.56589147\n",
      "  6.65116279  6.73643411  6.82170543  6.90697674  6.99224806  7.07751938\n",
      "  7.1627907   7.24806202  7.33333333  7.41860465  7.50387597  7.58914729\n",
      "  7.6744186   7.75968992  7.84496124  7.93023256  8.01550388  8.10077519\n",
      "  8.18604651  8.27131783  8.35658915  8.44186047  8.52713178  8.6124031\n",
      "  8.69767442  8.78294574  8.86821705  8.95348837  9.03875969  9.12403101\n",
      "  9.20930233  9.29457364  9.37984496  9.46511628  9.5503876   9.63565891\n",
      "  9.72093023  9.80620155  9.89147287  9.97674419 10.0620155  10.14728682\n",
      " 10.23255814 10.31782946 10.40310078 10.48837209 10.57364341 10.65891473\n",
      " 10.74418605 10.82945736 10.91472868 11.        ]\n"
     ]
    }
   ],
   "source": [
    "z = np.linspace(0, 11, 130)\n",
    "print(z)"
   ]
  },
  {
   "cell_type": "markdown",
   "metadata": {
    "slideshow": {
     "slide_type": "fragment"
    }
   },
   "source": [
    "Para saber qual o tamanho de um vetor, use o comando 'len'."
   ]
  },
  {
   "cell_type": "code",
   "execution_count": 6,
   "metadata": {
    "ExecuteTime": {
     "end_time": "2021-02-19T14:50:05.645565Z",
     "start_time": "2021-02-19T14:50:05.621192Z"
    },
    "slideshow": {
     "slide_type": "fragment"
    }
   },
   "outputs": [
    {
     "data": {
      "text/plain": [
       "130"
      ]
     },
     "execution_count": 6,
     "metadata": {},
     "output_type": "execute_result"
    }
   ],
   "source": [
    "len(z)"
   ]
  },
  {
   "cell_type": "markdown",
   "metadata": {
    "slideshow": {
     "slide_type": "slide"
    }
   },
   "source": [
    "## Funções matemáticas\n",
    "\n",
    "As funções da biblioteca math não se aplicam a vetores. Se você tentar usar a biblioteca math em vetores, aparecerá um erro:\n"
   ]
  },
  {
   "cell_type": "code",
   "execution_count": 8,
   "metadata": {
    "ExecuteTime": {
     "end_time": "2021-02-19T14:50:43.699049Z",
     "start_time": "2021-02-19T14:50:43.685793Z"
    },
    "slideshow": {
     "slide_type": "fragment"
    }
   },
   "outputs": [
    {
     "ename": "TypeError",
     "evalue": "only size-1 arrays can be converted to Python scalars",
     "output_type": "error",
     "traceback": [
      "\u001b[0;31m---------------------------------------------------------------------------\u001b[0m",
      "\u001b[0;31mTypeError\u001b[0m                                 Traceback (most recent call last)",
      "\u001b[0;32m<ipython-input-8-2cf6f644e95f>\u001b[0m in \u001b[0;36m<module>\u001b[0;34m\u001b[0m\n\u001b[1;32m      1\u001b[0m \u001b[0;32mimport\u001b[0m \u001b[0mmath\u001b[0m\u001b[0;34m\u001b[0m\u001b[0;34m\u001b[0m\u001b[0m\n\u001b[0;32m----> 2\u001b[0;31m \u001b[0my\u001b[0m \u001b[0;34m=\u001b[0m \u001b[0mmath\u001b[0m\u001b[0;34m.\u001b[0m\u001b[0msin\u001b[0m\u001b[0;34m(\u001b[0m\u001b[0mx\u001b[0m\u001b[0;34m)\u001b[0m\u001b[0;34m\u001b[0m\u001b[0;34m\u001b[0m\u001b[0m\n\u001b[0m\u001b[1;32m      3\u001b[0m \u001b[0mprint\u001b[0m\u001b[0;34m(\u001b[0m\u001b[0my\u001b[0m\u001b[0;34m)\u001b[0m\u001b[0;34m\u001b[0m\u001b[0;34m\u001b[0m\u001b[0m\n",
      "\u001b[0;31mTypeError\u001b[0m: only size-1 arrays can be converted to Python scalars"
     ]
    }
   ],
   "source": [
    "import math\n",
    "y = math.sin(x)\n",
    "print(y)"
   ]
  },
  {
   "cell_type": "markdown",
   "metadata": {
    "slideshow": {
     "slide_type": "fragment"
    }
   },
   "source": [
    "Porém, a biblioteca Numpy contém funções matemáticas também (na verdade a biblioteca Numpy contém muito mais funções do que biblioteca Math). Essas funções se aplicam a vetores. Neste caso, a função é aplicada a cada um dos elementos do vetor e tem como resultado um vetor do mesmo tamanho do vetor original."
   ]
  },
  {
   "cell_type": "markdown",
   "metadata": {
    "slideshow": {
     "slide_type": "fragment"
    }
   },
   "source": [
    "**Potência**\n"
   ]
  },
  {
   "cell_type": "code",
   "execution_count": 14,
   "metadata": {
    "ExecuteTime": {
     "end_time": "2021-02-19T16:53:25.304376Z",
     "start_time": "2021-02-19T16:53:25.297692Z"
    },
    "slideshow": {
     "slide_type": "fragment"
    }
   },
   "outputs": [
    {
     "name": "stdout",
     "output_type": "stream",
     "text": [
      "x= [1 2 3 4 5]\n",
      "x²= [ 1  4  9 16 25]\n"
     ]
    }
   ],
   "source": [
    "print('x=', x)\n",
    "print('x²=', x**2)"
   ]
  },
  {
   "cell_type": "markdown",
   "metadata": {
    "slideshow": {
     "slide_type": "fragment"
    }
   },
   "source": [
    "**Exponencial**: exp($x$)=$e^x$ em que $e=2,7182...$ "
   ]
  },
  {
   "cell_type": "code",
   "execution_count": 19,
   "metadata": {
    "ExecuteTime": {
     "end_time": "2021-02-19T17:04:01.758139Z",
     "start_time": "2021-02-19T17:04:01.750799Z"
    },
    "slideshow": {
     "slide_type": "fragment"
    }
   },
   "outputs": [
    {
     "name": "stdout",
     "output_type": "stream",
     "text": [
      "x= [1 2 3 4 5]\n",
      "e^x= [  2.71828183   7.3890561   20.08553692  54.59815003 148.4131591 ]\n"
     ]
    }
   ],
   "source": [
    "print('x=', x)\n",
    "print('e^x=',np.exp(x))"
   ]
  },
  {
   "cell_type": "markdown",
   "metadata": {
    "slideshow": {
     "slide_type": "slide"
    }
   },
   "source": [
    "**Raiz quadrada**: $\\sqrt{x}$"
   ]
  },
  {
   "cell_type": "code",
   "execution_count": 20,
   "metadata": {
    "ExecuteTime": {
     "end_time": "2021-02-19T17:08:24.584112Z",
     "start_time": "2021-02-19T17:08:24.560090Z"
    },
    "slideshow": {
     "slide_type": "fragment"
    }
   },
   "outputs": [
    {
     "name": "stdout",
     "output_type": "stream",
     "text": [
      "x= [1 2 3 4 5]\n",
      "raiz= [1.         1.41421356 1.73205081 2.         2.23606798]\n"
     ]
    }
   ],
   "source": [
    "s = np.sqrt(x)\n",
    "print('x=',x)\n",
    "print('raiz=',s)"
   ]
  },
  {
   "cell_type": "markdown",
   "metadata": {
    "slideshow": {
     "slide_type": "slide"
    }
   },
   "source": [
    "**Funções trigonométricas**\n",
    "\n",
    "Em todas as funções trigonométricas, o ângulo deve estar em radianos. Abaixo seno e cosseno."
   ]
  },
  {
   "cell_type": "code",
   "execution_count": 22,
   "metadata": {
    "ExecuteTime": {
     "end_time": "2021-02-19T17:09:00.180791Z",
     "start_time": "2021-02-19T17:09:00.171619Z"
    },
    "slideshow": {
     "slide_type": "fragment"
    }
   },
   "outputs": [
    {
     "name": "stdout",
     "output_type": "stream",
     "text": [
      "x= [1 2 3 4 5]\n",
      "sen(x)= [ 0.84147098  0.90929743  0.14112001 -0.7568025  -0.95892427]\n",
      "cos(x)= [ 0.54030231 -0.41614684 -0.9899925  -0.65364362  0.28366219]\n"
     ]
    }
   ],
   "source": [
    "d = np.sin(x)\n",
    "g = np.cos(x)\n",
    "print('x=', x)\n",
    "print('sen(x)=', d)\n",
    "print('cos(x)=', g)"
   ]
  },
  {
   "cell_type": "markdown",
   "metadata": {
    "slideshow": {
     "slide_type": "fragment"
    }
   },
   "source": [
    "**Valor absoluto**"
   ]
  },
  {
   "cell_type": "code",
   "execution_count": 24,
   "metadata": {
    "ExecuteTime": {
     "end_time": "2021-02-19T17:09:25.602037Z",
     "start_time": "2021-02-19T17:09:25.577407Z"
    },
    "slideshow": {
     "slide_type": "fragment"
    }
   },
   "outputs": [
    {
     "name": "stdout",
     "output_type": "stream",
     "text": [
      "d= [ 0.84147098  0.90929743  0.14112001 -0.7568025  -0.95892427]\n",
      "|d|= [0.84147098 0.90929743 0.14112001 0.7568025  0.95892427]\n"
     ]
    }
   ],
   "source": [
    "a = np.abs(d)\n",
    "print('d=',d)\n",
    "print('|d|=',a)"
   ]
  },
  {
   "cell_type": "markdown",
   "metadata": {
    "slideshow": {
     "slide_type": "slide"
    }
   },
   "source": [
    "## Operações entre vetores\n",
    "\n",
    "As operações aritméticas básicas (+, -, /, $*$, %, $**$ ) também podem ser utilizados entre vetores que tenham o mesmo formato. Neste caso, as operações são realizadas entre os elementos que correspondem à mesma posição nos dois vetores."
   ]
  },
  {
   "cell_type": "code",
   "execution_count": 26,
   "metadata": {
    "ExecuteTime": {
     "end_time": "2021-02-19T17:10:21.846479Z",
     "start_time": "2021-02-19T17:10:21.840779Z"
    },
    "slideshow": {
     "slide_type": "fragment"
    }
   },
   "outputs": [
    {
     "name": "stdout",
     "output_type": "stream",
     "text": [
      "x= [1 2 3 4 5]\n",
      "y= [ 6  7  8  9 10]\n",
      "x+y= [ 7  9 11 13 15]\n"
     ]
    }
   ],
   "source": [
    "x = np.array([1,2,3,4,5])\n",
    "y = np.array([6,7,8,9,10])\n",
    "\n",
    "z = x + y\n",
    "print('x=', x)\n",
    "print('y=', y)\n",
    "print('x+y=', z)"
   ]
  },
  {
   "cell_type": "code",
   "execution_count": 28,
   "metadata": {
    "ExecuteTime": {
     "end_time": "2021-02-19T17:11:15.604130Z",
     "start_time": "2021-02-19T17:11:15.596672Z"
    },
    "slideshow": {
     "slide_type": "slide"
    }
   },
   "outputs": [
    {
     "name": "stdout",
     "output_type": "stream",
     "text": [
      "x= [1 2 3 4 5]\n",
      "y= [ 6  7  8  9 10]\n",
      "x*y= [ 6 14 24 36 50]\n"
     ]
    }
   ],
   "source": [
    "w = x * y\n",
    "print('x=', x)\n",
    "print('y=', y)\n",
    "print('x*y=', w)"
   ]
  },
  {
   "cell_type": "code",
   "execution_count": 30,
   "metadata": {
    "ExecuteTime": {
     "end_time": "2021-02-19T17:11:46.705653Z",
     "start_time": "2021-02-19T17:11:46.683592Z"
    },
    "slideshow": {
     "slide_type": "fragment"
    }
   },
   "outputs": [
    {
     "name": "stdout",
     "output_type": "stream",
     "text": [
      "x= [1 2 3 4 5]\n",
      "y= [ 6  7  8  9 10]\n",
      "x-y= [-5 -5 -5 -5 -5]\n"
     ]
    }
   ],
   "source": [
    "k = x - y\n",
    "print('x=',x)\n",
    "print('y=',y)\n",
    "print('x-y=',k)"
   ]
  },
  {
   "cell_type": "code",
   "execution_count": 31,
   "metadata": {
    "ExecuteTime": {
     "end_time": "2021-02-19T17:12:10.259015Z",
     "start_time": "2021-02-19T17:12:10.248424Z"
    },
    "slideshow": {
     "slide_type": "fragment"
    }
   },
   "outputs": [
    {
     "name": "stdout",
     "output_type": "stream",
     "text": [
      "x= [1 2 3 4 5]\n",
      "y= [ 6  7  8  9 10]\n",
      "y/x= [6.         3.5        2.66666667 2.25       2.        ]\n"
     ]
    }
   ],
   "source": [
    "m = y/x\n",
    "print('x=', x)\n",
    "print('y=', y)\n",
    "print('y/x=', m)"
   ]
  },
  {
   "cell_type": "code",
   "execution_count": 32,
   "metadata": {
    "ExecuteTime": {
     "end_time": "2021-02-19T17:12:55.479972Z",
     "start_time": "2021-02-19T17:12:55.470517Z"
    },
    "slideshow": {
     "slide_type": "fragment"
    }
   },
   "outputs": [
    {
     "name": "stdout",
     "output_type": "stream",
     "text": [
      "x= [1 2 3 4 5]\n",
      "y= [ 6  7  8  9 10]\n",
      "resto de y por x= [0 1 2 1 0]\n"
     ]
    }
   ],
   "source": [
    "r = y%x\n",
    "print('x=', x)\n",
    "print('y=', y)\n",
    "print('resto de y por x=', r)"
   ]
  },
  {
   "cell_type": "code",
   "execution_count": 33,
   "metadata": {
    "ExecuteTime": {
     "end_time": "2021-02-19T17:13:57.997204Z",
     "start_time": "2021-02-19T17:13:57.974018Z"
    },
    "slideshow": {
     "slide_type": "fragment"
    }
   },
   "outputs": [
    {
     "name": "stdout",
     "output_type": "stream",
     "text": [
      "x= [1 2 3 4 5]\n",
      "y= [ 6  7  8  9 10]\n",
      "x^y [      1     128    6561  262144 9765625]\n"
     ]
    }
   ],
   "source": [
    "p = x**y\n",
    "print('x=', x)\n",
    "print('y=', y)\n",
    "print('x^y', p)"
   ]
  },
  {
   "cell_type": "markdown",
   "metadata": {
    "slideshow": {
     "slide_type": "slide"
    }
   },
   "source": [
    "##  Operações em vetores\n",
    "\n",
    "Existem algumas funções da biblioteca Numpy que funcionam apenas em vetores.\n",
    "\n",
    "**Função máximo e função mínimo**"
   ]
  },
  {
   "cell_type": "code",
   "execution_count": 20,
   "metadata": {
    "ExecuteTime": {
     "end_time": "2021-02-18T16:38:41.229288Z",
     "start_time": "2021-02-18T16:38:41.220672Z"
    },
    "slideshow": {
     "slide_type": "fragment"
    }
   },
   "outputs": [
    {
     "name": "stdout",
     "output_type": "stream",
     "text": [
      "[10  2 32 41 15]\n",
      "O máximo de x é 41\n",
      "O mínimo de x é 2\n"
     ]
    }
   ],
   "source": [
    "x = np.array([10,2,32,41,15])\n",
    "\n",
    "y = np.max(x)\n",
    "z = np.min(x)\n",
    "print(x)\n",
    "\n",
    "\n",
    "print('O máximo de x é', y)\n",
    "print('O mínimo de x é', z)"
   ]
  },
  {
   "cell_type": "markdown",
   "metadata": {
    "slideshow": {
     "slide_type": "slide"
    }
   },
   "source": [
    "**Função soma**\n",
    "\n",
    "Obtém a somatória de todos os elementos do vetor."
   ]
  },
  {
   "cell_type": "code",
   "execution_count": 21,
   "metadata": {
    "ExecuteTime": {
     "end_time": "2021-02-18T16:39:05.939599Z",
     "start_time": "2021-02-18T16:39:05.931323Z"
    },
    "slideshow": {
     "slide_type": "fragment"
    }
   },
   "outputs": [
    {
     "name": "stdout",
     "output_type": "stream",
     "text": [
      "[10  2 32 41 15]\n",
      "A somatória dos elementos de x é 100\n"
     ]
    }
   ],
   "source": [
    "x = np.array([10,2,32,41,15])\n",
    "\n",
    "y = np.sum(x)\n",
    "print(x)\n",
    "\n",
    "print('A somatória dos elementos de x é', y)"
   ]
  },
  {
   "cell_type": "markdown",
   "metadata": {
    "slideshow": {
     "slide_type": "slide"
    }
   },
   "source": [
    "### Acessar um elemento de um vetor\n",
    "\n",
    "Para acessar um elemento específico de um vetor basta digitar o nome do vetor e, entre colchetes, a posição do elemento no vetor. "
   ]
  },
  {
   "cell_type": "code",
   "execution_count": 34,
   "metadata": {
    "ExecuteTime": {
     "end_time": "2021-02-19T17:29:54.056167Z",
     "start_time": "2021-02-19T17:29:54.048428Z"
    }
   },
   "outputs": [
    {
     "name": "stdout",
     "output_type": "stream",
     "text": [
      "[  4   7  21  87   2 -10]\n",
      "87\n"
     ]
    }
   ],
   "source": [
    "x = np.array([4, 7, 21, 87, 2, -10])\n",
    "\n",
    "print(x)\n",
    "\n",
    "print(x[3])"
   ]
  },
  {
   "cell_type": "markdown",
   "metadata": {
    "slideshow": {
     "slide_type": "slide"
    }
   },
   "source": [
    "O primeiro elemento de um vetor tem a posição 0:"
   ]
  },
  {
   "cell_type": "code",
   "execution_count": 35,
   "metadata": {
    "ExecuteTime": {
     "end_time": "2021-02-19T17:30:35.248323Z",
     "start_time": "2021-02-19T17:30:35.240943Z"
    },
    "slideshow": {
     "slide_type": "fragment"
    }
   },
   "outputs": [
    {
     "name": "stdout",
     "output_type": "stream",
     "text": [
      "4\n"
     ]
    }
   ],
   "source": [
    "print(x[0])"
   ]
  },
  {
   "cell_type": "markdown",
   "metadata": {
    "slideshow": {
     "slide_type": "fragment"
    }
   },
   "source": [
    "Para acessar o terceiro elemento do vetor (posição 2), basta:"
   ]
  },
  {
   "cell_type": "code",
   "execution_count": 23,
   "metadata": {
    "ExecuteTime": {
     "end_time": "2021-02-18T16:39:38.102790Z",
     "start_time": "2021-02-18T16:39:38.098263Z"
    },
    "slideshow": {
     "slide_type": "fragment"
    }
   },
   "outputs": [
    {
     "name": "stdout",
     "output_type": "stream",
     "text": [
      "[  4   7  21  87   2 -10]\n",
      "21\n"
     ]
    }
   ],
   "source": [
    "print(x)\n",
    "\n",
    "print(x[2])"
   ]
  },
  {
   "cell_type": "markdown",
   "metadata": {
    "slideshow": {
     "slide_type": "fragment"
    }
   },
   "source": [
    "O último elemento de um vetor é acessado usando o índice -1:"
   ]
  },
  {
   "cell_type": "code",
   "execution_count": 24,
   "metadata": {
    "ExecuteTime": {
     "end_time": "2021-02-18T16:39:48.419015Z",
     "start_time": "2021-02-18T16:39:48.413589Z"
    },
    "slideshow": {
     "slide_type": "fragment"
    }
   },
   "outputs": [
    {
     "name": "stdout",
     "output_type": "stream",
     "text": [
      "[  4   7  21  87   2 -10]\n",
      "-10\n"
     ]
    }
   ],
   "source": [
    "print(x)\n",
    "print(x[-1])"
   ]
  },
  {
   "cell_type": "markdown",
   "metadata": {
    "slideshow": {
     "slide_type": "slide"
    }
   },
   "source": [
    "## Referências\n",
    "\n",
    "- Chalco, JM, *Slides de Bases Computacionais da Ciência*, (2014)\n",
    "- Leite, S, *Slides de Bases Computacionais da Ciência*, (2018)\n",
    "- [Marietto, MGB et al.; **Bases computacionais da Ciência** (2013)](http://prograd.ufabc.edu.br/images/pdf/bases_computacionais_livro.pdf).\n",
    "- [Duarte, M, *Python para computação científica* (2017)](https://nbviewer.jupyter.org/github/BMClab/bmc/blob/master/notebooks/PT-BR/PythonForScientificComputing_PT-BR.ipynb)\n",
    "- [Matplotlib Gallery](https://matplotlib.org/stable/gallery/index.html)"
   ]
  },
  {
   "cell_type": "code",
   "execution_count": null,
   "metadata": {},
   "outputs": [],
   "source": []
  }
 ],
 "metadata": {
  "celltoolbar": "Slideshow",
  "kernelspec": {
   "display_name": "Python 3",
   "language": "python",
   "name": "python3"
  },
  "language_info": {
   "codemirror_mode": {
    "name": "ipython",
    "version": 3
   },
   "file_extension": ".py",
   "mimetype": "text/x-python",
   "name": "python",
   "nbconvert_exporter": "python",
   "pygments_lexer": "ipython3",
   "version": "3.8.5"
  },
  "latex_envs": {
   "LaTeX_envs_menu_present": true,
   "autoclose": false,
   "autocomplete": true,
   "bibliofile": "biblio.bib",
   "cite_by": "apalike",
   "current_citInitial": 1,
   "eqLabelWithNumbers": true,
   "eqNumInitial": 1,
   "hotkeys": {
    "equation": "Ctrl-E",
    "itemize": "Ctrl-I"
   },
   "labels_anchors": false,
   "latex_user_defs": false,
   "report_style_numbering": false,
   "user_envs_cfg": false
  },
  "nbTranslate": {
   "displayLangs": [
    "*"
   ],
   "hotkey": "alt-t",
   "langInMainMenu": true,
   "sourceLang": "en",
   "targetLang": "fr",
   "useGoogleTranslate": true
  },
  "toc": {
   "base_numbering": 1,
   "nav_menu": {},
   "number_sections": true,
   "sideBar": true,
   "skip_h1_title": false,
   "title_cell": "Table of Contents",
   "title_sidebar": "Contents",
   "toc_cell": false,
   "toc_position": {},
   "toc_section_display": true,
   "toc_window_display": false
  },
  "varInspector": {
   "cols": {
    "lenName": 16,
    "lenType": 16,
    "lenVar": 40
   },
   "kernels_config": {
    "python": {
     "delete_cmd_postfix": "",
     "delete_cmd_prefix": "del ",
     "library": "var_list.py",
     "varRefreshCmd": "print(var_dic_list())"
    },
    "r": {
     "delete_cmd_postfix": ") ",
     "delete_cmd_prefix": "rm(",
     "library": "var_list.r",
     "varRefreshCmd": "cat(var_dic_list()) "
    }
   },
   "types_to_exclude": [
    "module",
    "function",
    "builtin_function_or_method",
    "instance",
    "_Feature"
   ],
   "window_display": false
  }
 },
 "nbformat": 4,
 "nbformat_minor": 2
}
